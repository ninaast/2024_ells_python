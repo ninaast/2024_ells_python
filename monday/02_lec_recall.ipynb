{
  "cells": [
    {
      "cell_type": "markdown",
      "metadata": {
        "id": "view-in-github",
        "colab_type": "text"
      },
      "source": [
        "<a href=\"https://colab.research.google.com/github/ninaast/2024_ells_python/blob/main/monday/02_lec_recall.ipynb\" target=\"_parent\"><img src=\"https://colab.research.google.com/assets/colab-badge.svg\" alt=\"Open In Colab\"/></a>"
      ]
    },
    {
      "cell_type": "markdown",
      "metadata": {
        "id": "pRbDDh0Uf25z"
      },
      "source": [
        "# ELLS - Practical Introduction into Programming with Python\n",
        "\n",
        "<a href=\"https://pef.czu.cz/en/\"><img src=\"https://aleksejalex.4fan.cz/ells/temp_banner.jpeg?22\" alt=\"banner\" width=\"1000\"></a>\n",
        "\n",
        "\n",
        "\n"
      ]
    },
    {
      "cell_type": "markdown",
      "metadata": {
        "id": "LQsAPgdUvpSd"
      },
      "source": [
        "[GitHub Repository](https://github.com/)\n",
        "\n",
        "[Project's website](https://kii.pef.czu.cz/ells-2024)"
      ]
    },
    {
      "cell_type": "markdown",
      "metadata": {
        "id": "HRoCPFdVjWnR"
      },
      "source": [
        "# Plan for this lecture:\n",
        "\n",
        "<a href=\"https://www.pef.czu.cz/en\"><img src=\"https://aleksejalex.4fan.cz/imgsbin/uploads/logo.png\" alt=\"banner\" width=\"400\" align=\"right\"></a>\n",
        "\n",
        " - Variables\n",
        " - Conditions\n",
        " - Loops\n",
        " - Containers\n",
        " - Classes\n",
        "\n"
      ]
    },
    {
      "cell_type": "markdown",
      "metadata": {
        "id": "llHxz5U_CJkA"
      },
      "source": [
        "# Basics of Importing in Python\n",
        "\n",
        "In Python, you can import modules and packages in various ways. Here are three basic methods to do it:\n",
        "\n",
        "Basic imports\n",
        "- import math  # For math functions\n",
        "- import os    # For tasks with operating system\n",
        "- import sys   # For system parameters\n",
        "\n",
        "\n",
        "## 1. Basic Import of the Entire Module\n",
        "In this method, the entire module is imported, and to access its functions and classes, you need to use the module name.\n"
      ]
    },
    {
      "cell_type": "code",
      "execution_count": 1,
      "metadata": {
        "id": "nf3zUbziCJkB",
        "outputId": "390fc7ec-f111-487e-88b9-5927378a9b21",
        "colab": {
          "base_uri": "https://localhost:8080/"
        }
      },
      "outputs": [
        {
          "output_type": "stream",
          "name": "stdout",
          "text": [
            "4.0\n"
          ]
        }
      ],
      "source": [
        "# Import the whole module 'math'\n",
        "import math\n",
        "\n",
        "# we use functions 'sqrt' from module 'math'\n",
        "result = math.sqrt(16)\n",
        "print(result)  # Output: 4.0\n"
      ]
    },
    {
      "cell_type": "markdown",
      "metadata": {
        "id": "a5oRukUNCJkD"
      },
      "source": [
        "## 2. Import Specific Functions or Classes from a Module\n",
        "\n",
        "This method allows you to import only specific functions or classes from a module, so you don't need to use the module name each time you call the function."
      ]
    },
    {
      "cell_type": "code",
      "execution_count": null,
      "metadata": {
        "id": "F8xI7lorCJkE",
        "outputId": "0d0a670c-43df-4ab0-f336-6e0194102b9b"
      },
      "outputs": [
        {
          "name": "stdout",
          "output_type": "stream",
          "text": [
            "4.0\n",
            "8.0\n"
          ]
        }
      ],
      "source": [
        "# Importing specific functions 'sqrt' and 'pow' from the 'math' module\n",
        "from math import sqrt, pow\n",
        "\n",
        "# Using the 'sqrt' and 'pow' functions directly\n",
        "result1 = sqrt(16)\n",
        "result2 = pow(2, 3)\n",
        "print(result1)  # Output: 4.0\n",
        "print(result2)  # Output: 8.0\n"
      ]
    },
    {
      "cell_type": "markdown",
      "metadata": {
        "id": "UhanJ3DlCJkF"
      },
      "source": [
        "## 3. Import a Module with an Alias\n",
        " Using an alias can shorten the module name, which is especially useful for modules with long names."
      ]
    },
    {
      "cell_type": "code",
      "execution_count": null,
      "metadata": {
        "id": "vSbCI-EBCJkH",
        "outputId": "7e4dc9c6-b9fc-4c0e-e869-d2bd7550ef33"
      },
      "outputs": [
        {
          "name": "stdout",
          "output_type": "stream",
          "text": [
            "[1 2 3 4]\n",
            "3.0\n"
          ]
        }
      ],
      "source": [
        "# Importing the 'numpy' module with alias 'np'\n",
        "import numpy as np\n",
        "import math as lauda\n",
        "\n",
        "# Using functions from the 'numpy' module with the alias 'np'\n",
        "array = np.array([1, 2, 3, 4])\n",
        "print(array)  # Output: [1 2 3 4]\n",
        "result = lauda.sqrt(9)\n",
        "print(result)\n"
      ]
    },
    {
      "cell_type": "markdown",
      "metadata": {
        "id": "Q56ZX6-qCJkI"
      },
      "source": [
        "# Part 1 - Variables\n",
        "<img src=\"https://aleksejalex.4fan.cz/imgsbin/uploads/variables.jpg\" alt=\"banner\" width=\"50%\">\n"
      ]
    },
    {
      "cell_type": "markdown",
      "metadata": {
        "id": "M0XSVDFdCJkJ"
      },
      "source": [
        "### 1.Variables - 'string', 'int'\n",
        "\n",
        "Explanation:\n",
        "name = \"Alice\": Declares and assigns a string value \"Alice\" to the variable name.\n",
        "\n",
        "- `age = 30`: Declares and assigns an integer value 30 to the variable age.\n",
        "\n",
        "- `city = \"New York\"`: Declares and assigns a string value \"New York\" to the variable city.\n",
        "\n",
        "- `print(f\"Name: {name}, Age: {age}, City: {city}\")`: Prints the values stored in variables name, age, and city.\n",
        "\n",
        "- `is_day_today = True`: Declares bool variable to `True`"
      ]
    },
    {
      "cell_type": "code",
      "execution_count": 3,
      "metadata": {
        "id": "-p6Ki3BsCJkJ",
        "outputId": "5938c245-ee97-4f53-f4c8-8a0c130dee7a",
        "colab": {
          "base_uri": "https://localhost:8080/"
        }
      },
      "outputs": [
        {
          "output_type": "stream",
          "name": "stdout",
          "text": [
            "Name: Alice, Age: 30, City: New York\n",
            "True\n"
          ]
        }
      ],
      "source": [
        "# Example of variable declaration and assignment\n",
        "name = \"Alice\"\n",
        "age = 30\n",
        "city = \"New York\"\n",
        "\n",
        "print(f\"Name: {name}, Age: {age}, City: {city}\")\n",
        "\n",
        "is_day_today = True\n",
        "print(is_day_today)\n"
      ]
    },
    {
      "cell_type": "markdown",
      "metadata": {
        "id": "M_Y7A2SvCJkK"
      },
      "source": [
        "### 2. Variable Reassignment\n",
        "- `x = 10`: Initializes and assigns the integer value 10 to the variable x.\n",
        "- `print(\"Initial x:\", x)`: Prints the initial value of x.\n",
        "- `x = 20`: Reassigns the integer value 20 to the variable x.\n",
        "- `print(\"Updated x:\", x)`: Prints the updated value of x."
      ]
    },
    {
      "cell_type": "code",
      "execution_count": null,
      "metadata": {
        "id": "T1Yez9sCCJkK",
        "outputId": "f63bbeb3-1ed2-4b6f-fa17-1ef030248f2a"
      },
      "outputs": [
        {
          "name": "stdout",
          "output_type": "stream",
          "text": [
            "Initial x: 10\n",
            "Updated x: 20\n"
          ]
        }
      ],
      "source": [
        "# Example of variable reassignment\n",
        "x = 10\n",
        "print(\"Initial x:\", x)\n",
        "\n",
        "x = 20\n",
        "print(\"Updated x:\", x)\n",
        "\n"
      ]
    },
    {
      "cell_type": "markdown",
      "metadata": {
        "id": "67rd49vKCJkL"
      },
      "source": [
        "### 3. Variable Concatenation\n",
        "\n",
        "- `first_name = \"John\"`: Declares and assigns the string \"John\" to the variable first_name.\n",
        "- `last_name = \"Doe\"`: Declares and assigns the string \"Doe\" to the variable last_name.\n",
        "- `full_name = first_name + \" \" + last_name`: Concatenates first_name, a space \" \", and last_name to form full_name.\n",
        "- `print(\"Full Name:\", full_name)`: Prints the concatenated full name."
      ]
    },
    {
      "cell_type": "code",
      "execution_count": null,
      "metadata": {
        "id": "FkmV5cULCJkL",
        "outputId": "c5f01e3c-9858-4626-b65f-9ad3eb96aaa6"
      },
      "outputs": [
        {
          "name": "stdout",
          "output_type": "stream",
          "text": [
            "Full Name: John Doe\n"
          ]
        }
      ],
      "source": [
        "# Example of variable concatenation\n",
        "first_name = \"John\"\n",
        "last_name = \"Doe\"\n",
        "\n",
        "full_name = first_name + \" \" + last_name\n",
        "print(\"Full Name:\", full_name)\n"
      ]
    },
    {
      "cell_type": "markdown",
      "metadata": {
        "id": "FYkpEz7UCJkM"
      },
      "source": [
        "### 4. Variable Scope\n",
        "- `def my_function():`: Defines a function my_function.\n",
        "- `inner_variable = \"Inside Function\":` Declares and assigns the string \"Inside Function\" to the variable inner_variable within my_function.\n",
        "- `print(\"Inside function:\", inner_variable):` Prints the value of inner_variable from within my_function.\n",
        "- `my_function():` Calls my_function to execute its code.\n",
        "- `outer_variable = \"Outside Function\":` Declares and assigns the string \"Outside Function\" to the variable outer_variable outside any function scope.\n",
        "- `print(\"Outside function:\", outer_variable):` Prints the value of outer_variable from outside my_function."
      ]
    },
    {
      "cell_type": "code",
      "execution_count": null,
      "metadata": {
        "id": "-I_S5uVACJkM",
        "outputId": "035b916a-9390-49ea-be57-b665ada3c20c"
      },
      "outputs": [
        {
          "name": "stdout",
          "output_type": "stream",
          "text": [
            "Inside function: Inside Function\n",
            "Outside function: Outside Function\n"
          ]
        }
      ],
      "source": [
        "# Example of variable scope\n",
        "def my_function():\n",
        "    inner_variable = \"Inside Function\"\n",
        "    print(\"Inside function:\", inner_variable)\n",
        "\n",
        "my_function()\n",
        "\n",
        "outer_variable = \"Outside Function\"\n",
        "print(\"Outside function:\", outer_variable)\n"
      ]
    },
    {
      "cell_type": "markdown",
      "metadata": {
        "id": "aYvWoSqLCJkM"
      },
      "source": [
        "### 5. Mutliple variable assignment\n",
        "\n",
        "- `a, b, c = 1, 2, 3`: Assigns the values 1, 2, and 3 to variables a, b, and c respectively in a single line.\n",
        "- `print(\"a:\", a):` Prints the value of a.\n",
        "- `print(\"b:\", b):` Prints the value of b.\n",
        "- `print(\"c:\", c):` Prints the value of c."
      ]
    },
    {
      "cell_type": "code",
      "execution_count": null,
      "metadata": {
        "id": "GHoPd3NCCJkN",
        "outputId": "1535af1e-8b7c-4300-906a-212b79070cc4"
      },
      "outputs": [
        {
          "name": "stdout",
          "output_type": "stream",
          "text": [
            "a: 1\n",
            "b: 2\n",
            "c: 3\n"
          ]
        }
      ],
      "source": [
        "# Example of multiple assignment\n",
        "a, b, c = 1, 2, 3\n",
        "print(\"a:\", a)\n",
        "print(\"b:\", b)\n",
        "print(\"c:\", c)"
      ]
    },
    {
      "cell_type": "markdown",
      "metadata": {
        "id": "eMDUS1qpCJkN"
      },
      "source": [
        "# Conditions\n",
        "<img src=\"https://aleksejalex.4fan.cz/imgsbin/uploads/condition.jpg\" alt=\"banner\" width=\"50%\">"
      ]
    },
    {
      "cell_type": "markdown",
      "metadata": {
        "id": "We444Zd_CJkN"
      },
      "source": [
        "### 1.a) Conditions - 'if' statement\n",
        "\n",
        "- using `if`\n",
        "- basic comparison"
      ]
    },
    {
      "cell_type": "code",
      "execution_count": null,
      "metadata": {
        "id": "5WXmnrMqcZ9X",
        "outputId": "52411147-156d-464d-e8a1-f452be844fa1"
      },
      "outputs": [
        {
          "name": "stdout",
          "output_type": "stream",
          "text": [
            "x is greater than 5\n"
          ]
        }
      ],
      "source": [
        "# Example of an if statement\n",
        "x = 10\n",
        "if x > 5:\n",
        "    print(\"x is greater than 5\")"
      ]
    },
    {
      "cell_type": "markdown",
      "metadata": {
        "id": "BMLv7F43CJkO"
      },
      "source": [
        "### 1.a) Conditions - 'if' statement - one line construct and ternary operator\n",
        "\n",
        "- using `if` one line construct\n",
        "- ternary operator usage"
      ]
    },
    {
      "cell_type": "code",
      "execution_count": null,
      "metadata": {
        "id": "O7eGIakzCJkO",
        "outputId": "5a7109a3-ad43-449c-bd0f-27916b31959d"
      },
      "outputs": [
        {
          "name": "stdout",
          "output_type": "stream",
          "text": [
            "Name: Alice, Age: 30, City: New York\n",
            "Non-positive\n"
          ]
        }
      ],
      "source": [
        "name, age, city = \"Alice\", 30, \"New York\"\n",
        "print(f\"Name: {name}, Age: {age}, City: {city}\") if (name := \"Alice\") and (age := 30) and (city := \"New York\") else None\n",
        "\n",
        "# ternary operator\n",
        "value = -10\n",
        "result = \"Positive\" if value > 0 else \"Non-positive\"\n",
        "print(result)"
      ]
    },
    {
      "cell_type": "markdown",
      "metadata": {
        "id": "cVs8jtmGCJkP"
      },
      "source": [
        "### 2.Conditions using 'if' and 'else'\n",
        "\n",
        "- Example of if else scheme'\n",
        "- basic comparison"
      ]
    },
    {
      "cell_type": "code",
      "execution_count": null,
      "metadata": {
        "id": "056Vv9dNCJkQ",
        "outputId": "f729eeec-0790-43cc-fda9-4381845f0858"
      },
      "outputs": [
        {
          "name": "stdout",
          "output_type": "stream",
          "text": [
            "y is an odd number\n"
          ]
        }
      ],
      "source": [
        "# Example of an if-else statement\n",
        "y = 3\n",
        "if y % 2 == 0:\n",
        "    print(\"y is an even number\")\n",
        "else:\n",
        "    print(\"y is an odd number\")\n"
      ]
    },
    {
      "cell_type": "markdown",
      "metadata": {
        "id": "uTH9lx1_CJkQ"
      },
      "source": [
        "### 3.Condition using `if`, `elif`, `else`\n",
        "\n",
        "The `elif` statement allows you to check multiple conditions. It is short for \"else if\"."
      ]
    },
    {
      "cell_type": "code",
      "execution_count": null,
      "metadata": {
        "id": "u59ClnNCCJkQ",
        "outputId": "84c871f9-9d3a-4a6e-b121-1ece2fecc51f"
      },
      "outputs": [
        {
          "name": "stdout",
          "output_type": "stream",
          "text": [
            "z is zero\n"
          ]
        }
      ],
      "source": [
        "# Example of using if, elif, and else statements\n",
        "z = 0\n",
        "if z > 0:\n",
        "    print(\"z is a positive number\")\n",
        "elif z < 0:\n",
        "    print(\"z is a negative number\")\n",
        "else:\n",
        "    print(\"z is zero\")\n"
      ]
    },
    {
      "cell_type": "markdown",
      "metadata": {
        "id": "TxEUhy0wCJkR"
      },
      "source": [
        "### 4.Condition using Nested Conditions `if`, (`if`, `else`), `else`\n",
        "\n",
        "Nested conditions refer to placing one condition inside another.\n"
      ]
    },
    {
      "cell_type": "code",
      "execution_count": null,
      "metadata": {
        "id": "YyDURFcGCJkR",
        "outputId": "49eca986-e9ab-48a2-8654-d488bba4700a"
      },
      "outputs": [
        {
          "name": "stdout",
          "output_type": "stream",
          "text": [
            "a is greater than 10 and it's an odd number\n"
          ]
        }
      ],
      "source": [
        "# Example of nested conditions\n",
        "a = 15\n",
        "if a > 10:\n",
        "    if a % 2 == 0:\n",
        "        print(\"a is greater than 10 and it's an even number\")\n",
        "    else:\n",
        "        print(\"a is greater than 10 and it's an odd number\")\n",
        "else:\n",
        "    print(\"a is 10 or less\")\n"
      ]
    },
    {
      "cell_type": "markdown",
      "metadata": {
        "id": "JFgweZErCJkR"
      },
      "source": [
        "### 5.Condition using Nested Conditions `and`, `or`\n",
        "\n",
        "Usage with logical operators\n"
      ]
    },
    {
      "cell_type": "code",
      "execution_count": null,
      "metadata": {
        "id": "qV3iI8BkCJkS",
        "outputId": "3bc14daf-33ce-4c99-bbc8-d42e3c85f605"
      },
      "outputs": [
        {
          "name": "stdout",
          "output_type": "stream",
          "text": [
            "Neither x is greater than 5 nor y is greater than 7\n"
          ]
        }
      ],
      "source": [
        "# Example of using `or` operator in conditions\n",
        "x = 10\n",
        "y = 5\n",
        "\n",
        "if (x > 7 and y > 7):\n",
        "    print(\"Both numbers are greater than 7\")\n",
        "if (x > 5 or y > 7):\n",
        "    print(\"Neither x is greater than 5 nor y is greater than 7\")"
      ]
    },
    {
      "cell_type": "markdown",
      "metadata": {
        "id": "mOAWMHNZCJkS"
      },
      "source": [
        "# Loops\n",
        "<img src=\"https://aleksejalex.4fan.cz/imgsbin/uploads/loops.jpg\" alt=\"banner\" width=\"50%\">"
      ]
    },
    {
      "cell_type": "markdown",
      "metadata": {
        "id": "2erUh1kaCJkS"
      },
      "source": [
        "### 1.a) Basic `for` loop construct - multiple lines approach\n",
        "\n",
        "Usage basic iteration via the collection\n"
      ]
    },
    {
      "cell_type": "code",
      "execution_count": null,
      "metadata": {
        "id": "a_LkaTb1CJkS",
        "outputId": "20f5a738-837c-4bc9-96cd-e9295d5eba9e"
      },
      "outputs": [
        {
          "name": "stdout",
          "output_type": "stream",
          "text": [
            "apple\n",
            "banana\n",
            "cherry\n"
          ]
        }
      ],
      "source": [
        "# Example of a for loop\n",
        "fruits = [\"apple\", \"banana\", \"cherry\"]\n",
        "for fruit in fruits:\n",
        "    print(fruit)"
      ]
    },
    {
      "cell_type": "markdown",
      "metadata": {
        "id": "CGc0eNzZCJkS"
      },
      "source": [
        "### 1.b) Basic `for` loop construct - one line approach\n",
        "\n",
        "Usage basic iteration via the collection with one line construct\n"
      ]
    },
    {
      "cell_type": "code",
      "execution_count": null,
      "metadata": {
        "id": "jackNw77CJkT",
        "outputId": "c0c88183-6efe-42b3-ba46-085d176cd1db"
      },
      "outputs": [
        {
          "name": "stdout",
          "output_type": "stream",
          "text": [
            "9\n"
          ]
        }
      ],
      "source": [
        "# Example of list comprehension\n",
        "numbers = [1, 2, 3, 4, 5]\n",
        "\n",
        "# Using list comprehension to create a new list\n",
        "squared_numbers = [x ** 2 for x in numbers]\n",
        "\n",
        "# Getting a value\n",
        "print(squared_numbers[2])  # Output: 9"
      ]
    },
    {
      "cell_type": "markdown",
      "metadata": {
        "id": "H6XqNFzHCJkT"
      },
      "source": [
        "### 2. Basic `while` loop\n",
        "\n",
        "- Usage of `while` Loop\n",
        "- Caution: be careful with using `while` loops: GENERALLY PROGRAMMERS INAPPROPRIATELY SET CONDITION AND LOOP NEVER STOPS!!!!"
      ]
    },
    {
      "cell_type": "code",
      "execution_count": 4,
      "metadata": {
        "id": "DHZcydPzCJkT",
        "outputId": "d330d1ad-76b5-480e-abe2-e126bd9346e8",
        "colab": {
          "base_uri": "https://localhost:8080/"
        }
      },
      "outputs": [
        {
          "output_type": "stream",
          "name": "stdout",
          "text": [
            "1\n",
            "2\n",
            "3\n",
            "4\n",
            "5\n",
            "6\n",
            "7\n",
            "8\n",
            "9\n"
          ]
        }
      ],
      "source": [
        "# Example of a while loop\n",
        "i = 1\n",
        "while i <= 9:\n",
        "    print(i)\n",
        "    i += 1"
      ]
    },
    {
      "cell_type": "markdown",
      "metadata": {
        "id": "bFq5o_tCCJkU"
      },
      "source": [
        "### 3.Basic - Nested Loops Example\n",
        "\n",
        "Nested loops refer to placing one loop inside another loop."
      ]
    },
    {
      "cell_type": "code",
      "execution_count": null,
      "metadata": {
        "id": "OXgko7YzCJkU",
        "outputId": "a26e45c9-4db6-4829-9e71-93b0c8bf302a"
      },
      "outputs": [
        {
          "name": "stdout",
          "output_type": "stream",
          "text": [
            "(1, 1)\n",
            "(1, 2)\n",
            "(1, 3)\n",
            "(2, 1)\n",
            "(2, 2)\n",
            "(2, 3)\n",
            "(3, 1)\n",
            "(3, 2)\n",
            "(3, 3)\n"
          ]
        }
      ],
      "source": [
        "# Example of nested loops\n",
        "for i in range(1, 4):\n",
        "    for j in range(1, 4):\n",
        "        print(f\"({i}, {j})\") sk"
      ]
    },
    {
      "cell_type": "markdown",
      "metadata": {
        "id": "BycJCG5KCJkU"
      },
      "source": [
        "### 4.Basic - Loops with conditions\n",
        "\n",
        "Example of `break` and `continue` in a loop\n"
      ]
    },
    {
      "cell_type": "code",
      "execution_count": null,
      "metadata": {
        "id": "2rMPb9zECJkU",
        "outputId": "45406797-5f0e-4626-e8eb-4586f8257730"
      },
      "outputs": [
        {
          "name": "stdout",
          "output_type": "stream",
          "text": [
            "1\n",
            "3\n"
          ]
        }
      ],
      "source": [
        "# Example of break and continue in a loop\n",
        "numbers = [1, 2, 3, 4, 5, 6]\n",
        "for number in numbers:\n",
        "    if number % 2 == 0:\n",
        "        continue  # Skip even numbers\n",
        "    if number == 5:\n",
        "        break  # Exit the loop when number is 5\n",
        "    print(number)"
      ]
    },
    {
      "cell_type": "markdown",
      "metadata": {
        "id": "9qOlRirDCJkV"
      },
      "source": [
        "### 5.Basics - Looping through dictionary items\n",
        "\n",
        "iterate via `dictionary` collection"
      ]
    },
    {
      "cell_type": "code",
      "execution_count": null,
      "metadata": {
        "id": "26Zg7-v1CJkV",
        "outputId": "f07fdbf3-767d-46fc-b4cc-618bcabd8ed7"
      },
      "outputs": [
        {
          "name": "stdout",
          "output_type": "stream",
          "text": [
            "name: Alice\n",
            "age: 30\n",
            "city: New York\n"
          ]
        }
      ],
      "source": [
        "# Example of looping through dictionary items\n",
        "person = {\"name\": \"Alice\", \"age\": 30, \"city\": \"New York\"}\n",
        "for key, value in person.items():\n",
        "    print(f\"{key}: {value}\")"
      ]
    },
    {
      "cell_type": "markdown",
      "metadata": {
        "id": "zoc9xmbxCJkV"
      },
      "source": [
        "# Containers\n",
        "<img src=\"https://aleksejalex.4fan.cz/imgsbin/uploads/containers.jpg\" alt=\"banner\" width=\"50%\">"
      ]
    },
    {
      "cell_type": "markdown",
      "metadata": {
        "id": "LvkShTm1CJkV"
      },
      "source": [
        "### 1.List Example\n",
        "\n",
        "- `fruits = [\"apple\", \"banana\", \"cherry\"]`: Initializes a list `fruits` containing strings.\n",
        "- `fruits.append(\"orange\")`: Adds the string `\"orange\"` to the end of the list `fruits`.\n",
        "- `print(fruits[0])`: Prints the first element (`\"apple\"`) of the list `fruits`.\n"
      ]
    },
    {
      "cell_type": "code",
      "execution_count": null,
      "metadata": {
        "id": "JVIEQrxHCJkW",
        "outputId": "c7ad4292-5be8-4c30-bc91-159d9500251c"
      },
      "outputs": [
        {
          "name": "stdout",
          "output_type": "stream",
          "text": [
            "apple\n"
          ]
        }
      ],
      "source": [
        "# Example of a list\n",
        "fruits = [\"apple\", \"banana\", \"cherry\"]\n",
        "\n",
        "# Inserting a value\n",
        "fruits.append(\"orange\")\n",
        "\n",
        "# Getting a value\n",
        "print(fruits[0])  # Output: apple\n"
      ]
    },
    {
      "cell_type": "markdown",
      "metadata": {
        "id": "yfgMEZmDCJkW"
      },
      "source": [
        "### 2.Tuple Example\n",
        "\n",
        "- `person = (\"John\", 30, \"New York\")`: Initializes a tuple `person` with elements `\"John\"`, `30`, and `\"New York\"`.\n",
        "- Tuple is immutable, so you cannot add or remove elements after creation.\n",
        "- `print(person[1])`: Prints the second element (`30`) of the tuple `person`."
      ]
    },
    {
      "cell_type": "code",
      "execution_count": null,
      "metadata": {
        "id": "Hi31uW1gCJkW",
        "outputId": "a8c75f5e-41ad-4b02-fda3-f1b4a1c8296d"
      },
      "outputs": [
        {
          "name": "stdout",
          "output_type": "stream",
          "text": [
            "True\n"
          ]
        }
      ],
      "source": [
        "# Example of a tuple\n",
        "person = (\"John\", 30, \"New York\")\n",
        "\n",
        "# Tuple is immutable, so you cannot directly insert values.\n",
        "# You can access values by index.\n",
        "print(person[3])  # Output: 30\n"
      ]
    },
    {
      "cell_type": "markdown",
      "metadata": {
        "id": "Y8xwPHWXCJkX"
      },
      "source": [
        "### 3.Set Example\n",
        "\n",
        "- `colors = {\"red\", \"green\", \"blue\"}`: Initializes a set `colors` containing strings.\n",
        "- `colors.add(\"yellow\")`: Adds the string `\"yellow\"` to the set `colors`.\n",
        "- Sets are unordered, so you cannot access elements by index. Use iteration (`for` loop) to print all elements.\n"
      ]
    },
    {
      "cell_type": "code",
      "execution_count": null,
      "metadata": {
        "id": "Wb7fItYbCJkX",
        "outputId": "f68bb8d5-2e02-41e8-f301-cd73e1ccefe9"
      },
      "outputs": [
        {
          "name": "stdout",
          "output_type": "stream",
          "text": [
            "blue\n",
            "green\n",
            "red\n",
            "yellow\n"
          ]
        }
      ],
      "source": [
        "# Example of a set\n",
        "colors = {\"red\", \"green\", \"blue\"}\n",
        "\n",
        "# Adding a value\n",
        "colors.add(\"yellow\")\n",
        "\n",
        "# Getting values (sets are unordered, so you cannot access by index)\n",
        "for color in colors:\n",
        "    print(color)\n"
      ]
    },
    {
      "cell_type": "markdown",
      "metadata": {
        "id": "z4ZujGsBCJkX"
      },
      "source": [
        "### 4.Dictionary Example\n",
        "\n",
        "- `person = {\"name\": \"Alice\", \"age\": 30, \"city\": \"New York\"}`: Initializes a dictionary `person` with keys `\"name\"`, `\"age\"`, and `\"city\"`, and their corresponding values.\n",
        "- `person[\"email\"] = \"alice@example.com\"`: Inserts a new key-value pair `\"email\": \"alice@example.com\"` into the dictionary `person`.\n",
        "- `print(person[\"name\"])`: Retrieves and prints the value associated with the key `\"name\"` from the dictionary `person`."
      ]
    },
    {
      "cell_type": "code",
      "execution_count": null,
      "metadata": {
        "id": "z-8HDe8hCJkX",
        "outputId": "11a9d85c-ad8e-4982-ab63-c2f2754da4d6"
      },
      "outputs": [
        {
          "name": "stdout",
          "output_type": "stream",
          "text": [
            "Alice\n"
          ]
        }
      ],
      "source": [
        "# Example of a dictionary\n",
        "person = {\"name\": \"Alice\", \"age\": 30, \"city\": \"New York\"}\n",
        "\n",
        "# Inserting a value\n",
        "person[\"email\"] = \"alice@example.com\"\n",
        "\n",
        "# Getting a value\n",
        "print(person[\"name\"])  # Output: Alice\n"
      ]
    },
    {
      "cell_type": "markdown",
      "metadata": {
        "id": "mcGpoy4JCJkX"
      },
      "source": [
        "\n",
        "### 5.Nested List Example\n",
        "\n",
        "- `matrix = [[1, 2, 3], [4, 5, 6], [7, 8, 9]]`: Initializes a nested list `matrix` containing three inner lists.\n",
        "- `matrix[0].append(4)`: Appends the integer `4` to the first inner list `[1, 2, 3]` within `matrix`.\n",
        "- `print(matrix[1][1])`: Retrieves and prints the value at row index `1` and column index `1` from the nested list `matrix`."
      ]
    },
    {
      "cell_type": "code",
      "execution_count": 5,
      "metadata": {
        "id": "2SY-Ui1jCJkZ",
        "outputId": "ced241c5-7b14-4471-e166-f99022327939",
        "colab": {
          "base_uri": "https://localhost:8080/"
        }
      },
      "outputs": [
        {
          "output_type": "stream",
          "name": "stdout",
          "text": [
            "[[1, 2, 3], [4, 5, 6], [7, 8, 9]]\n",
            "5\n"
          ]
        }
      ],
      "source": [
        "# Example of nested list\n",
        "matrix = [[1, 2, 3], [4, 5, 6], [7, 8, 9]]\n",
        "\n",
        "# Inserting a value\n",
        "matrix[0].append(4)\n",
        "\n",
        "# Getting a value\n",
        "print(matrix[1][1])  # Output: 5\n"
      ]
    },
    {
      "cell_type": "markdown",
      "metadata": {
        "id": "EeDfWXipCJkZ"
      },
      "source": [
        "### 6.Example of List Comprehension\n",
        "\n",
        "- `numbers = [1, 2, 3, 4, 5]`: Initializes a list `numbers` with integers.\n",
        "- `squared_numbers = [x ** 2 for x in numbers]`: Uses list comprehension to create a new list `squared_numbers` where each element is the square of the corresponding element from `numbers`.\n",
        "- `print(squared_numbers[2])`: Retrieves and prints the third element (`9`) from the list `squared_numbers`, which is the square of `3` from `numbers`.\n"
      ]
    },
    {
      "cell_type": "code",
      "execution_count": null,
      "metadata": {
        "id": "HLLpJu0iCJkZ",
        "outputId": "472928d5-6847-42d3-d7fc-cd2b9e0deb61"
      },
      "outputs": [
        {
          "name": "stdout",
          "output_type": "stream",
          "text": [
            "9\n"
          ]
        }
      ],
      "source": [
        "# Example of list comprehension\n",
        "numbers = [1, 2, 3, 4, 5]\n",
        "\n",
        "# Using list comprehension to create a new list\n",
        "squared_numbers = [x ** 2 for x in numbers]\n",
        "\n",
        "# Getting a value\n",
        "print(squared_numbers[2])  # Output: 9\n"
      ]
    },
    {
      "cell_type": "markdown",
      "metadata": {
        "id": "WVVtBGwZCJkZ"
      },
      "source": [
        "### 7.Example of Set Comprehension\n",
        "\n",
        "- `numbers = [1, 2, 3, 4, 5, 5, 4, 3, 2, 1]`: Initializes a list `numbers` with integers.\n",
        "- `unique_numbers = {x for x in numbers}`: Uses set comprehension to create a new set `unique_numbers` containing unique elements from `numbers`.\n",
        "- Iterates through `unique_numbers` to print each unique element.\n"
      ]
    },
    {
      "cell_type": "code",
      "execution_count": null,
      "metadata": {
        "id": "78J2D6shCJka",
        "outputId": "33bfc757-b4f2-4440-bcb6-a6311010c43a"
      },
      "outputs": [
        {
          "name": "stdout",
          "output_type": "stream",
          "text": [
            "1\n",
            "2\n",
            "3\n",
            "4\n",
            "5\n"
          ]
        }
      ],
      "source": [
        "# Example of set comprehension\n",
        "numbers = [1, 2, 3, 4, 5, 5, 4, 3, 2, 1]\n",
        "\n",
        "# Using set comprehension to create a new set\n",
        "unique_numbers = {x for x in numbers}\n",
        "\n",
        "# Getting values (sets are unordered, so you cannot access by index)\n",
        "for num in unique_numbers:\n",
        "    print(num)\n"
      ]
    },
    {
      "cell_type": "markdown",
      "metadata": {
        "id": "SMCVod2KCJka"
      },
      "source": [
        "### 8.Example of Dictionary Comprehension\n",
        "\n",
        "- `numbers = [1, 2, 3, 4, 5]`: Initializes a list `numbers` with integers.\n",
        "- `squared_dict = {x: x ** 2 for x in numbers}`: Uses dictionary comprehension to create a new dictionary `squared_dict` where keys are elements from `numbers` and values are the squares of those elements.\n",
        "- `print(squared_dict[4])`: Retrieves and prints the value associated with key `4` from the dictionary `squared_dict`, which is `16`.\n"
      ]
    },
    {
      "cell_type": "code",
      "execution_count": null,
      "metadata": {
        "id": "EZ9ZUGvgCJka",
        "outputId": "60e76a6c-d99f-4176-ff8e-a11f96943b21"
      },
      "outputs": [
        {
          "name": "stdout",
          "output_type": "stream",
          "text": [
            "16\n"
          ]
        }
      ],
      "source": [
        "# Example of dictionary comprehension\n",
        "numbers = [1, 2, 3, 4, 5]\n",
        "\n",
        "# Using dictionary comprehension to create a new dictionary\n",
        "squared_dict = {x: x ** 2 for x in numbers}\n",
        "\n",
        "# Getting a value\n",
        "print(squared_dict[4])  # Output: 16\n"
      ]
    },
    {
      "cell_type": "markdown",
      "metadata": {
        "id": "wGvYCS1MCJka"
      },
      "source": [
        "### 9.Example of Generator Expression\n",
        "\n",
        "- `numbers = [1, 2, 3, 4, 5]`: Initializes a list `numbers` with integers.\n",
        "- `squared_gen = (x ** 2 for x in numbers)`: Uses a generator expression to create a generator `squared_gen` that yields the square of each element in `numbers` when iterated.\n",
        "- Iterates through `squared_gen` to print each squared value.\n"
      ]
    },
    {
      "cell_type": "code",
      "execution_count": null,
      "metadata": {
        "id": "nUgnqMWDCJkb",
        "outputId": "7d4023fc-dfa7-4861-f267-0b3365e2bc99"
      },
      "outputs": [
        {
          "name": "stdout",
          "output_type": "stream",
          "text": [
            "1\n",
            "4\n",
            "9\n",
            "16\n",
            "25\n"
          ]
        }
      ],
      "source": [
        "# Example of generator expression\n",
        "numbers = [1, 2, 3, 4, 5]\n",
        "\n",
        "# Using generator expression to iterate through values\n",
        "squared_gen = (x ** 2 for x in numbers)\n",
        "\n",
        "# Getting values by iteration\n",
        "for num in squared_gen:\n",
        "    print(num)\n"
      ]
    },
    {
      "cell_type": "markdown",
      "metadata": {
        "id": "gvpdyeF6CJkb"
      },
      "source": [
        "# Classes\n",
        "\n",
        "<img src=\"https://aleksejalex.4fan.cz/imgsbin/uploads/classes.jpg\" alt=\"banner\" width=\"50%\">"
      ]
    },
    {
      "cell_type": "markdown",
      "metadata": {
        "id": "4o-1pcJJCJkb"
      },
      "source": [
        "### 1.Class Declaration\n",
        "\n",
        "- Defines a base class `Animal` with an initializer method `__init__` that sets the `name` attribute.\n",
        "- Defines a method `speak` which raises `NotImplementedError` indicating that subclasses must implement this method.\n",
        "- Creates instances of the class `Animal` (`dog` and `cat`) with names \"Dog\" and \"Cat\" respectively.\n",
        "- Accesses the `name` attribute of the instances (`dog.name` and `cat.name`) and calls the `speak` method on the instance `cat`.\n"
      ]
    },
    {
      "cell_type": "code",
      "execution_count": 8,
      "metadata": {
        "id": "-dq99MMQCJkb",
        "outputId": "1ef03fb9-9b00-459e-cb37-2cb898f1beb0",
        "colab": {
          "base_uri": "https://localhost:8080/"
        }
      },
      "outputs": [
        {
          "output_type": "stream",
          "name": "stdout",
          "text": [
            "Dog\n",
            "hello Cat\n",
            "hello Dog\n",
            "None\n"
          ]
        }
      ],
      "source": [
        "# Example of class declaration\n",
        "class Animal:\n",
        "    def __init__(self, name):\n",
        "        self.name = name\n",
        "\n",
        "    def speak(self):\n",
        "        print(\"hello\", self.name)\n",
        "        #raise NotImplementedError(\"Subclass must implement abstract method\")\n",
        "\n",
        "# Creating instances of the class\n",
        "dog = Animal(\"Dog\")\n",
        "cat = Animal(\"Cat\")\n",
        "\n",
        "# Accessing attributes and methods\n",
        "print(dog.name)  # Output: Dog\n",
        "cat.speak()  # Raises NotImplementedError\n",
        "print(dog.speak())\n"
      ]
    },
    {
      "cell_type": "markdown",
      "metadata": {
        "id": "ku-iwMJvCJkc"
      },
      "source": [
        "### 2.Inheritance\n",
        "\n",
        "- Defines a subclass `Dog` inheriting from the base class `Animal`.\n",
        "- Overrides the `speak` method in the subclass `Dog` to return a string representing the dog's sound.\n",
        "- Defines another subclass `Cat` inheriting from `Animal` and overrides the `speak` method for cats.\n",
        "- Creates instances of `Dog` (`dog`) and `Cat` (`cat`) with names \"Buddy\" and \"Whiskers\" respectively.\n",
        "- Accesses the overridden `speak` methods for both instances (`dog.speak()` and `cat.speak()`).\n"
      ]
    },
    {
      "cell_type": "code",
      "execution_count": 9,
      "metadata": {
        "id": "ZsApQX7SCJkc",
        "colab": {
          "base_uri": "https://localhost:8080/"
        },
        "outputId": "ff6aa434-206b-49f7-aa33-7cd38cb08ec9"
      },
      "outputs": [
        {
          "output_type": "stream",
          "name": "stdout",
          "text": [
            "Buddy says Woof!\n",
            "Whiskers says Meow!\n"
          ]
        }
      ],
      "source": [
        "# Example of inheritance\n",
        "class Dog(Animal):\n",
        "    def speak(self):\n",
        "        return f\"{self.name} says Woof!\"\n",
        "\n",
        "class Cat(Animal):\n",
        "    def speak(self):\n",
        "        return f\"{self.name} says Meow!\"\n",
        "\n",
        "# Creating instances of subclasses\n",
        "dog = Dog(\"Buddy\")\n",
        "cat = Cat(\"Whiskers\")\n",
        "\n",
        "# Accessing overridden methods\n",
        "print(dog.speak())  # Output: Buddy says Woof!\n",
        "print(cat.speak())  # Output: Whiskers says Meow!\n"
      ]
    },
    {
      "cell_type": "markdown",
      "metadata": {
        "id": "bDzphceTCJkc"
      },
      "source": [
        "### 3.Method Overriding\n",
        "\n",
        "- Defines a subclass `Bird` inheriting from the base class `Animal`.\n",
        "- Overrides the `speak` method in the subclass `Bird` to return a custom string representing the bird's sound.\n",
        "- Creates an instance of `Bird` (`bird`) with the name \"Nightingale\".\n",
        "- Accesses the overridden `speak` method for the `bird` instance (`bird.speak()`).\n"
      ]
    },
    {
      "cell_type": "code",
      "execution_count": 10,
      "metadata": {
        "id": "miLcLLnPCJkc",
        "colab": {
          "base_uri": "https://localhost:8080/"
        },
        "outputId": "523fe20c-763f-459d-8181-2caf463f2642"
      },
      "outputs": [
        {
          "output_type": "stream",
          "name": "stdout",
          "text": [
            "Nightingale sings beautifully!\n"
          ]
        }
      ],
      "source": [
        "# Example of method overriding\n",
        "class Bird(Animal):\n",
        "    def speak(self):\n",
        "        return f\"{self.name} sings beautifully!\"\n",
        "\n",
        "# Creating an instance of the subclass\n",
        "bird = Bird(\"Nightingale\")\n",
        "\n",
        "# Accessing overridden method\n",
        "print(bird.speak())  # Output: Nightingale sings beautifully!\n"
      ]
    },
    {
      "cell_type": "markdown",
      "metadata": {
        "id": "msVgim3KCJkd"
      },
      "source": [
        "### 4.Class with Class Variable and Instance Variable\n",
        "\n",
        "- Defines a class `Employee` with a class variable `company` set to \"XYZ Corp\".\n",
        "- Initializes instances of `Employee` (`emp1` and `emp2`) with instance variables `name` and `salary`.\n",
        "- Accesses and prints the class variable `company` using both the class (`Employee.company`) and instance (`emp1.company`) references.\n",
        "- Accesses and prints the instance variables `name` and `salary` for both instances (`emp1.name`, `emp1.salary`, `emp2.name`, `emp2.salary`).\n"
      ]
    },
    {
      "cell_type": "code",
      "execution_count": 11,
      "metadata": {
        "id": "aVAvTJsDCJkd",
        "colab": {
          "base_uri": "https://localhost:8080/"
        },
        "outputId": "40e6d25a-eae7-4a6c-cfb3-9de44e8dcde4"
      },
      "outputs": [
        {
          "output_type": "stream",
          "name": "stdout",
          "text": [
            "XYZ Corp\n",
            "John 50000\n",
            "Alice 60000\n"
          ]
        }
      ],
      "source": [
        "# Example of class with class variable and instance variable\n",
        "class Employee:\n",
        "    company = \"XYZ Corp\"  # Class variable\n",
        "\n",
        "    def __init__(self, name, salary):\n",
        "        self.name = name  # Instance variable\n",
        "        self.salary = salary  # Instance variable\n",
        "\n",
        "# Creating instances of the class\n",
        "emp1 = Employee(\"John\", 50000)\n",
        "emp2 = Employee(\"Alice\", 60000)\n",
        "\n",
        "# Accessing class and instance variables\n",
        "print(Employee.company)  # Output: XYZ Corp\n",
        "print(emp1.name, emp1.salary)  # Output: John 50000\n",
        "print(emp2.name, emp2.salary)  # Output: Alice 60000\n"
      ]
    },
    {
      "cell_type": "markdown",
      "metadata": {
        "id": "t9Az2I2JCJkd"
      },
      "source": [
        "### 5.Multiple Inheritance\n",
        "\n",
        "- Defines three classes `A`, `B`, and `C` where `C` inherits from both `A` and `B`.\n",
        "- Defines methods `method_a`, `method_b`, and `method_c` in classes `A`, `B`, and `C` respectively.\n",
        "- Creates an instance `obj` of the class `C`.\n",
        "- Accesses and calls methods from both parent classes (`obj.method_a()`, `obj.method_b()`) as well as its own method (`obj.method_c()`).\n"
      ]
    },
    {
      "cell_type": "code",
      "execution_count": null,
      "metadata": {
        "id": "pvTQa8YlCJkd"
      },
      "outputs": [],
      "source": [
        "# Example of multiple inheritance\n",
        "class A:\n",
        "    def method_a(self):\n",
        "        print(\"Method A\")\n",
        "\n",
        "class B:\n",
        "    def method_b(self):\n",
        "        print(\"Method B\")\n",
        "\n",
        "class C(A, B):\n",
        "    def method_c(self):\n",
        "        print(\"Method C\")\n",
        "\n",
        "# Creating an instance of the subclass\n",
        "obj = C()\n",
        "\n",
        "# Accessing methods from both base classes\n",
        "obj.method_a()  # Output: Method A\n",
        "obj.method_b()  # Output: Method B\n",
        "obj.method_c()  # Output: Method C\n"
      ]
    },
    {
      "cell_type": "markdown",
      "metadata": {
        "id": "oWDO6JL6r14R"
      },
      "source": [
        "## Summary\n",
        " - Basic importing\n",
        " - Basic Variables: int, string, etc..\n",
        " - Conditions: using 'if' and 'else'\n",
        " - Loops: for, while, etc..\n",
        " - Containers: List, Set, etc..\n",
        " - Classes: basic declaration, inheritance"
      ]
    },
    {
      "cell_type": "markdown",
      "metadata": {
        "id": "hSP8oxmBr77B"
      },
      "source": [
        "## Additional sources (where to seek for information):\n",
        " - Programming with Mosh: https://www.youtube.com/watch?v=kqtD5dpn9C8\n",
        " - w3Schools Python: https://www.w3schools.com/python/"
      ]
    },
    {
      "cell_type": "markdown",
      "metadata": {
        "id": "ObAKPgeNcZ9e"
      },
      "source": [
        "<div style=\"font-style: italic; font-size: 14px;\">\n",
        "    <p>This material was prepared by Department of Information Engineering (<a href=\"https://www.pef.czu.cz/en\">PEF ČZU</a>) exclusively for purposes of ELLS summer school \"Practical Introduction into Programming with Python\". Any distribution or reproduction of this material, in whole or in part, without prior written consent of the authors is prohibited.</p>\n",
        "    <p>This material is shared under the <b>Creative Commons Attribution-NonCommercial-NoDerivatives 4.0 International Public License</b>, <a href=\"https://creativecommons.org/licenses/by-nc-nd/4.0/\">link</a>.</p>\n",
        "</div>\n"
      ]
    }
  ],
  "metadata": {
    "colab": {
      "provenance": [],
      "include_colab_link": true
    },
    "kernelspec": {
      "display_name": "Python 3",
      "name": "python3"
    },
    "language_info": {
      "codemirror_mode": {
        "name": "ipython",
        "version": 3
      },
      "file_extension": ".py",
      "mimetype": "text/x-python",
      "name": "python",
      "nbconvert_exporter": "python",
      "pygments_lexer": "ipython3",
      "version": "3.12.1"
    }
  },
  "nbformat": 4,
  "nbformat_minor": 0
}