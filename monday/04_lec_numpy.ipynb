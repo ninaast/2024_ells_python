{
  "cells": [
    {
      "cell_type": "markdown",
      "metadata": {
        "id": "view-in-github",
        "colab_type": "text"
      },
      "source": [
        "<a href=\"https://colab.research.google.com/github/aleksejalex/2024_ells_python/blob/main/monday/04_lec_numpy.ipynb\" target=\"_parent\"><img src=\"https://colab.research.google.com/assets/colab-badge.svg\" alt=\"Open In Colab\"/></a>"
      ]
    },
    {
      "cell_type": "markdown",
      "metadata": {
        "id": "pRbDDh0Uf25z"
      },
      "source": [
        "# ELLS - Practical Introduction into Programming with Python\n",
        "\n",
        "<a href=\"https://pef.czu.cz/en/\"><img src=\"https://aleksejalex.4fan.cz/ells/temp_banner.jpeg?\" alt=\"banner\" width=\"1000\"></a>\n",
        "\n",
        "\n",
        "\n"
      ]
    },
    {
      "cell_type": "markdown",
      "metadata": {
        "id": "LQsAPgdUvpSd"
      },
      "source": [
        "[GitHub Repository](https://github.com/aleksejalex/2024_ells_python)\n"
      ]
    },
    {
      "cell_type": "markdown",
      "metadata": {
        "id": "HRoCPFdVjWnR"
      },
      "source": [
        "# Plan for this lecture:\n",
        "## NumPy Lecture Outline\n",
        "\n",
        "\n",
        "## Part 1: Creating NumPy Arrays\n",
        "- Using `np.array()` to create arrays from Python lists.\n",
        "- Generating arrays with `np.zeros()` and `np.ones()`.\n",
        "- Using `np.arange()` for array creation.\n",
        "- Exploring array attributes (shape, dtype, ndim, size).\n",
        "- Reshaping arrays with `np.reshape()`.\n",
        "\n",
        "## Part 2: Array Indexing and Slicing\n",
        "- Accessing elements and rows in a NumPy array.\n",
        "- Slicing subarrays in NumPy arrays.\n",
        "- Using negative indices for indexing.\n",
        "- Combining indexing and slicing.\n",
        "- Modifying array elements using indexing.\n",
        "\n",
        "## Part 3: Array Operations\n",
        "- Element-wise Operations: Arithmetic operations (+, -, *, /).\n",
        "- Array Broadcasting: Understanding how NumPy handles operations on arrays of different shapes.\n",
        "\n",
        "## Part 4: Aggregation Functions\n",
        "- Basic Aggregation: Computing statistics like min, max, sum, mean.\n",
        "\n",
        "## Part 5: Advanced Indexing and Filtering\n",
        "- Boolean Indexing: Selecting elements based on conditions.\n",
        "- Fancy Indexing: Using integer arrays to access elements.\n",
        "\n",
        "## Part 6: Advanced NumPy Techniques\n",
        "- Linear Algebra Operations: Matrix multiplication, determinant, inverse.\n",
        "- Array Manipulation: Reshaping, stacking, splitting arrays.\n"
      ]
    },
    {
      "cell_type": "markdown",
      "source": [
        "## NumPy: Numerical Python\n",
        "\n",
        "<a href=\"https://numpy.org/\"><img src=\"https://numpy.org/doc/stable/_static/numpylogo.svg\" alt=\"logo\" width=\"400\" align=\"right\"></a>\n",
        "\n",
        "= library created to work with *numerical data*:\n",
        "\n",
        " - effectively stores and operates with high-dimensional data structures (**arrays** - like vectors and matrices)\n",
        " - implements mathematical operations on those arrays"
      ],
      "metadata": {
        "id": "fwQUf-aVtIhp"
      }
    },
    {
      "cell_type": "markdown",
      "source": [
        "### Array - basic type of variable in NumPy\n",
        "\n",
        " - very similar to vector/matrix in algebra\n",
        " - type of variable: `ndarray`"
      ],
      "metadata": {
        "id": "r5-125YotV7c"
      }
    },
    {
      "cell_type": "markdown",
      "source": [
        "| Feature                          | Python Lists (`list`)                                 | NumPy Arrays (`ndarray`)                                 |\n",
        "|----------------------------------|-----------------------------------------------|----------------------------------------------|\n",
        "| Data Types                       | Can contain elements of different data types  | Homogeneous data type ⚠️                       |\n",
        "| Performance                      | Slower for large datasets                     | Faster for large datasets                    |\n",
        "| Mathematical Operations          | Limited functionality for mathematical ops    | Rich set of mathematical operations         |\n",
        "| Indexing and Slicing             | Basic indexing and slicing                    | Advanced indexing and slicing                |\n",
        "| Iteration                        | Basic iteration                                | Vectorized operations                        |\n",
        "| Memory Efficiency                | Less memory efficient                         | More memory efficient                        |\n"
      ],
      "metadata": {
        "id": "iuswUKCmtaEi"
      }
    },
    {
      "cell_type": "markdown",
      "metadata": {
        "id": "M6T-Kwj_lIBN"
      },
      "source": [
        "# Part 1: Creating NumPy Arrays"
      ]
    },
    {
      "cell_type": "markdown",
      "metadata": {
        "id": "bOTED6HDlIBN"
      },
      "source": [
        "### 1. Using `np.array()` to Create Arrays from Python Lists\n",
        "\n",
        "NumPy arrays can be created from Python lists using the `np.array()` function. This function takes a list (or nested lists for multi-dimensional arrays) and converts it into a NumPy array.\n"
      ]
    },
    {
      "cell_type": "code",
      "execution_count": 2,
      "metadata": {
        "colab": {
          "base_uri": "https://localhost:8080/"
        },
        "id": "2n53yAOTlIBO",
        "outputId": "1f6a62dd-a42e-4e93-d04a-adeaf1b86714"
      },
      "outputs": [
        {
          "output_type": "stream",
          "name": "stdout",
          "text": [
            "1D Array from list: [1 2 3 4 5]\n"
          ]
        }
      ],
      "source": [
        "import numpy as np\n",
        "\n",
        "# Creating a NumPy array from a list\n",
        "list_1d = [1, 2, 3, 4, 5]\n",
        "array_1d = np.array(list_1d)\n",
        "\n",
        "print(\"1D Array from list:\", array_1d)"
      ]
    },
    {
      "cell_type": "markdown",
      "source": [
        "...something we are familiar with from math and physics:\n",
        "\n",
        "$$ \\vec{a} = \\begin{pmatrix} 1 \\\\ 2 \\\\ 3 \\\\ 4 \\\\ 5 \\end{pmatrix} $$"
      ],
      "metadata": {
        "id": "Os7MsF8kthLG"
      }
    },
    {
      "cell_type": "markdown",
      "metadata": {
        "id": "l2FiDy3flIBP"
      },
      "source": [
        "### 2. Generating Arrays with `np.zeros()` and `np.ones()`\n",
        "\n",
        "NumPy provides convenient functions to create arrays filled with zeros or ones.\n"
      ]
    },
    {
      "cell_type": "code",
      "execution_count": 3,
      "metadata": {
        "colab": {
          "base_uri": "https://localhost:8080/"
        },
        "id": "bLN0-n4VlIBQ",
        "outputId": "9746d715-6648-456b-edd1-5b812e715ba8"
      },
      "outputs": [
        {
          "output_type": "stream",
          "name": "stdout",
          "text": [
            "3x3 Array of zeros:\n",
            " [[0. 0. 0.]\n",
            " [0. 0. 0.]\n",
            " [0. 0. 0.]]\n",
            "2x5 Array of ones:\n",
            " [[1. 1. 1. 1. 1.]\n",
            " [1. 1. 1. 1. 1.]]\n"
          ]
        }
      ],
      "source": [
        "# Generating a 3x3 array filled with zeros\n",
        "zeros_array = np.zeros((3, 3))\n",
        "\n",
        "print(\"3x3 Array of zeros:\\n\", zeros_array)\n",
        "\n",
        "# Generating a 2x5 array filled with ones\n",
        "ones_array = np.ones((2, 5))\n",
        "\n",
        "print(\"2x5 Array of ones:\\n\", ones_array)"
      ]
    },
    {
      "cell_type": "markdown",
      "metadata": {
        "id": "-md7E5EFlIBR"
      },
      "source": [
        "### 3. Using `np.arange()` for Array Creation\n",
        "\n",
        "The `np.arange()` function generates arrays with evenly spaced values within a specified range.\n"
      ]
    },
    {
      "cell_type": "code",
      "execution_count": 4,
      "metadata": {
        "colab": {
          "base_uri": "https://localhost:8080/"
        },
        "id": "EzFxIjvFlIBT",
        "outputId": "318e7ea4-3b68-42f9-a5e6-9ea76350cc59"
      },
      "outputs": [
        {
          "output_type": "stream",
          "name": "stdout",
          "text": [
            "Array with np.arange(10, 55, 5): [10 15 20 25 30 35 40 45 50]\n"
          ]
        }
      ],
      "source": [
        "# Creating an array from 10 to 50 with a step of 5\n",
        "arange_array = np.arange(10, 55, 5)\n",
        "\n",
        "print(\"Array with np.arange(10, 55, 5):\", arange_array)\n"
      ]
    },
    {
      "cell_type": "markdown",
      "metadata": {
        "id": "vPqAggbulIBT"
      },
      "source": [
        "### 4. Exploring Array Attributes (shape, dtype, ndim, size)\n",
        "\n",
        "NumPy arrays have several attributes that provide information about the array's structure and data type.\n"
      ]
    },
    {
      "cell_type": "code",
      "execution_count": 5,
      "metadata": {
        "colab": {
          "base_uri": "https://localhost:8080/"
        },
        "id": "HpMXLlN5lIBU",
        "outputId": "9d0a98b6-60a5-4409-bace-8b196c3fd5cf"
      },
      "outputs": [
        {
          "output_type": "stream",
          "name": "stdout",
          "text": [
            "Array:\n",
            " [[1 2 3]\n",
            " [4 5 6]\n",
            " [7 8 9]]\n",
            "Shape: (3, 3)\n",
            "Data type: int64\n",
            "Number of dimensions: 2\n",
            "Size (number of elements): 9\n"
          ]
        }
      ],
      "source": [
        "# Creating an array\n",
        "example_array = np.array([[1, 2, 3], [4, 5, 6], [7, 8, 9]])\n",
        "\n",
        "# Exploring array attributes\n",
        "print(\"Array:\\n\", example_array)\n",
        "print(\"Shape:\", example_array.shape)    # Shape of the array\n",
        "print(\"Data type:\", example_array.dtype) # Data type of the array elements\n",
        "print(\"Number of dimensions:\", example_array.ndim) # Number of dimensions\n",
        "print(\"Size (number of elements):\", example_array.size) # Total number of elements\n"
      ]
    },
    {
      "cell_type": "markdown",
      "source": [
        "*Remark:* printing numpy's array:"
      ],
      "metadata": {
        "id": "qZcyWBQo-rO4"
      }
    },
    {
      "cell_type": "code",
      "source": [
        "# common way:\n",
        "print(example_array)"
      ],
      "metadata": {
        "id": "kjVc3v8f-xLK",
        "outputId": "1572abf1-715b-46c5-ec5a-14fd12894083",
        "colab": {
          "base_uri": "https://localhost:8080/"
        }
      },
      "execution_count": 48,
      "outputs": [
        {
          "output_type": "stream",
          "name": "stdout",
          "text": [
            "[[1 2 3]\n",
            " [4 5 6]\n",
            " [7 8 9]]\n"
          ]
        }
      ]
    },
    {
      "cell_type": "code",
      "source": [
        "# using benefits of jupyter notebook:\n",
        "example_array"
      ],
      "metadata": {
        "id": "KIZH5Hy8-4Vc",
        "outputId": "1cd96106-a369-43c8-a64f-b887e199875f",
        "colab": {
          "base_uri": "https://localhost:8080/"
        }
      },
      "execution_count": 49,
      "outputs": [
        {
          "output_type": "execute_result",
          "data": {
            "text/plain": [
              "array([[1, 2, 3],\n",
              "       [4, 5, 6],\n",
              "       [7, 8, 9]])"
            ]
          },
          "metadata": {},
          "execution_count": 49
        }
      ]
    },
    {
      "cell_type": "markdown",
      "metadata": {
        "id": "gHI8BX48lIBU"
      },
      "source": [
        "### 5. Reshaping Arrays with `np.reshape()`\n",
        "\n",
        "The `np.reshape()` function allows you to change the shape of an array without changing its data.\n"
      ]
    },
    {
      "cell_type": "code",
      "execution_count": 6,
      "metadata": {
        "colab": {
          "base_uri": "https://localhost:8080/"
        },
        "id": "SaptD83olIBV",
        "outputId": "d52550a3-b0dd-4146-caf5-e5537807fa14"
      },
      "outputs": [
        {
          "output_type": "stream",
          "name": "stdout",
          "text": [
            "Original array: [ 0  1  2  3  4  5  6  7  8  9 10 11]\n",
            "Reshaped array:\n",
            " [[ 0  1  2  3]\n",
            " [ 4  5  6  7]\n",
            " [ 8  9 10 11]]\n"
          ]
        }
      ],
      "source": [
        "# Creating and reshaping an array\n",
        "original_array = np.arange(12)\n",
        "reshaped_array = np.reshape(original_array, (3, 4))\n",
        "\n",
        "print(\"Original array:\", original_array)\n",
        "print(\"Reshaped array:\\n\", reshaped_array)"
      ]
    },
    {
      "cell_type": "markdown",
      "metadata": {
        "id": "NBWzJuOtlIBV"
      },
      "source": [
        "# Part 2: Array Indexing and Slicing"
      ]
    },
    {
      "cell_type": "markdown",
      "metadata": {
        "id": "wAwNWgrJlIBV"
      },
      "source": [
        "### 1. Accessing elements and rows in a NumPy array\n",
        "\n",
        "You can access individual elements and entire rows in a NumPy array using indices. NumPy arrays use zero-based indexing, so the first element is accessed with index 0.\n"
      ]
    },
    {
      "cell_type": "code",
      "execution_count": 7,
      "metadata": {
        "id": "5WXmnrMqcZ9X",
        "colab": {
          "base_uri": "https://localhost:8080/"
        },
        "outputId": "faa7a6ac-f433-403e-d7e0-67fe24720b0b"
      },
      "outputs": [
        {
          "output_type": "stream",
          "name": "stdout",
          "text": [
            "4x4 Array:\n",
            " [[ 0  1  2  3]\n",
            " [ 4  5  6  7]\n",
            " [ 8  9 10 11]\n",
            " [12 13 14 15]]\n",
            "Element at 3rd row, 2nd column: 9\n",
            "Second row: [4 5 6 7]\n"
          ]
        }
      ],
      "source": [
        "import numpy as np\n",
        "\n",
        "# Creating a 4x4 array\n",
        "array_4x4 = np.arange(16).reshape(4, 4)\n",
        "\n",
        "# Accessing the element at 3rd row, 2nd column\n",
        "element = array_4x4[2, 1]\n",
        "\n",
        "# Accessing the entire second row\n",
        "second_row = array_4x4[1, :]\n",
        "\n",
        "print(\"4x4 Array:\\n\", array_4x4)\n",
        "print(\"Element at 3rd row, 2nd column:\", element)\n",
        "print(\"Second row:\", second_row)\n"
      ]
    },
    {
      "cell_type": "markdown",
      "source": [
        "⚠️ Remember: Python indexes from 0."
      ],
      "metadata": {
        "id": "hkqmKQ6r3DDb"
      }
    },
    {
      "cell_type": "markdown",
      "metadata": {
        "id": "xh-yC1Q6lIBW"
      },
      "source": [
        "### 2. Slicing subarrays in NumPy arrays\n",
        "\n",
        "You can slice subarrays from a NumPy array using the slicing syntax. Slicing is done using the colon (`:`) operator. The syntax is `start:stop:step`, where `start` is the starting index, `stop` is the ending index (exclusive), and `step` is the step size."
      ]
    },
    {
      "cell_type": "code",
      "execution_count": 8,
      "metadata": {
        "colab": {
          "base_uri": "https://localhost:8080/"
        },
        "id": "TV1X_Y2dlIBW",
        "outputId": "d95a874e-7701-447c-819c-e5f1372c2f5e"
      },
      "outputs": [
        {
          "output_type": "stream",
          "name": "stdout",
          "text": [
            "4x4 Array:\n",
            " [[ 0  1  2  3]\n",
            " [ 4  5  6  7]\n",
            " [ 8  9 10 11]\n",
            " [12 13 14 15]]\n",
            "Sliced subarray (first two rows and columns):\n",
            " [[0 1]\n",
            " [4 5]]\n",
            "Every other element in the second row: [4 6]\n"
          ]
        }
      ],
      "source": [
        "# Slicing the first two rows and columns\n",
        "subarray = array_4x4[:2, :2]\n",
        "\n",
        "# Slicing every other element in the second row\n",
        "every_other = array_4x4[1, ::2]\n",
        "\n",
        "print(\"4x4 Array:\\n\", array_4x4)\n",
        "print(\"Sliced subarray (first two rows and columns):\\n\", subarray)\n",
        "print(\"Every other element in the second row:\", every_other)\n"
      ]
    },
    {
      "cell_type": "markdown",
      "metadata": {
        "id": "nNBucNHolIBX"
      },
      "source": [
        "### 3. Using negative indices for indexing\n",
        "\n",
        "Negative indices can be used to access elements from the end of the array. For example, `-1` refers to the last element, `-2` refers to the second last element, and so on.\n"
      ]
    },
    {
      "cell_type": "code",
      "execution_count": 9,
      "metadata": {
        "colab": {
          "base_uri": "https://localhost:8080/"
        },
        "id": "NwYqEmqYlIBX",
        "outputId": "a1916539-1ec0-4e39-d281-35bb85d7a33a"
      },
      "outputs": [
        {
          "output_type": "stream",
          "name": "stdout",
          "text": [
            "4x4 Array:\n",
            " [[ 0  1  2  3]\n",
            " [ 4  5  6  7]\n",
            " [ 8  9 10 11]\n",
            " [12 13 14 15]]\n",
            "Last element (using negative indices): 15\n",
            "Last row (using negative indices): [12 13 14 15]\n"
          ]
        }
      ],
      "source": [
        "# Accessing the last element using negative indices\n",
        "last_element = array_4x4[-1, -1]\n",
        "\n",
        "# Accessing the last row\n",
        "last_row = array_4x4[-1, :]\n",
        "\n",
        "print(\"4x4 Array:\\n\", array_4x4)\n",
        "print(\"Last element (using negative indices):\", last_element)\n",
        "print(\"Last row (using negative indices):\", last_row)\n"
      ]
    },
    {
      "cell_type": "markdown",
      "metadata": {
        "id": "2D1S9QjrlIBX"
      },
      "source": [
        "### 4. Combining indexing and slicing\n",
        "\n",
        "You can combine indexing and slicing to access specific parts of the array. For example, you can access a specific row and then slice elements from that row.\n"
      ]
    },
    {
      "cell_type": "code",
      "execution_count": 10,
      "metadata": {
        "colab": {
          "base_uri": "https://localhost:8080/"
        },
        "id": "EMP3_F86lIBY",
        "outputId": "b4fcc9bf-a773-4e41-8a9b-7a36a5c1da92"
      },
      "outputs": [
        {
          "output_type": "stream",
          "name": "stdout",
          "text": [
            "4x4 Array:\n",
            " [[ 0  1  2  3]\n",
            " [ 4  5  6  7]\n",
            " [ 8  9 10 11]\n",
            " [12 13 14 15]]\n",
            "Second row (using slicing): [4 5 6 7]\n",
            "Sliced elements from the second row: [5 6]\n"
          ]
        }
      ],
      "source": [
        "# Combining indexing and slicing to print the second row\n",
        "second_row_sliced = array_4x4[1, :]\n",
        "\n",
        "# Slicing elements from the second row\n",
        "sliced_elements = array_4x4[1, 1:3]\n",
        "\n",
        "print(\"4x4 Array:\\n\", array_4x4)\n",
        "print(\"Second row (using slicing):\", second_row_sliced)\n",
        "print(\"Sliced elements from the second row:\", sliced_elements)\n"
      ]
    },
    {
      "cell_type": "markdown",
      "metadata": {
        "id": "W8TC-14_lIBY"
      },
      "source": [
        "### 5. Modifying array elements using indexing\n",
        "\n",
        "You can modify elements of a NumPy array by using indexing. This can be done for individual elements or for entire rows/columns."
      ]
    },
    {
      "cell_type": "code",
      "execution_count": 11,
      "metadata": {
        "colab": {
          "base_uri": "https://localhost:8080/"
        },
        "id": "nWz6GF30lIBY",
        "outputId": "fe073ab7-ce1f-432a-8c57-76bd6b9a4529"
      },
      "outputs": [
        {
          "output_type": "stream",
          "name": "stdout",
          "text": [
            "Modified array (third row set to 10s and one element to 50):\n",
            " [[ 0  1  2  3]\n",
            " [ 4  5 50  7]\n",
            " [10 10 10 10]\n",
            " [12 13 14 15]]\n"
          ]
        }
      ],
      "source": [
        "# Modifying the third row to all 10s\n",
        "array_4x4[2, :] = 10\n",
        "\n",
        "# Modifying the element at 2nd row, 3rd column to 50\n",
        "array_4x4[1, 2] = 50\n",
        "\n",
        "print(\"Modified array (third row set to 10s and one element to 50):\\n\", array_4x4)\n"
      ]
    },
    {
      "cell_type": "markdown",
      "metadata": {
        "id": "h04Dh31ylIBZ"
      },
      "source": [
        "# Part 3: Array Operations"
      ]
    },
    {
      "cell_type": "markdown",
      "metadata": {
        "id": "9eGCHoVZlIBZ"
      },
      "source": [
        "### 1. Element-wise Operations: Arithmetic operations (+, -, *, /)\n",
        "\n",
        "NumPy allows you to perform arithmetic operations on arrays element-wise. This means that the operation is applied to each element of the array individually.\n"
      ]
    },
    {
      "cell_type": "code",
      "execution_count": 12,
      "metadata": {
        "colab": {
          "base_uri": "https://localhost:8080/"
        },
        "id": "0pTxJykWlIBZ",
        "outputId": "8a363556-b711-4dfa-c979-fa7040a2abf5"
      },
      "outputs": [
        {
          "output_type": "stream",
          "name": "stdout",
          "text": [
            "Array 1: [1 2 3]\n",
            "Array 2: [4 5 6]\n",
            "Element-wise addition: [5 7 9]\n",
            "Element-wise subtraction: [-3 -3 -3]\n",
            "Element-wise multiplication: [ 4 10 18]\n",
            "Element-wise division: [0.25 0.4  0.5 ]\n",
            "Element-wise power: [  1  32 729]\n"
          ]
        }
      ],
      "source": [
        "import numpy as np\n",
        "\n",
        "# Creating two arrays\n",
        "array1 = np.array([1, 2, 3])\n",
        "array2 = np.array([4, 5, 6])\n",
        "\n",
        "# Element-wise addition\n",
        "addition = array1 + array2\n",
        "\n",
        "# Element-wise subtraction\n",
        "subtraction = array1 - array2\n",
        "\n",
        "# Element-wise multiplication\n",
        "multiplication = array1 * array2\n",
        "\n",
        "# Element-wise division\n",
        "division = array1 / array2\n",
        "\n",
        "# Element-wise power\n",
        "power = array1 ** array2\n",
        "\n",
        "print(\"Array 1:\", array1)\n",
        "print(\"Array 2:\", array2)\n",
        "print(\"Element-wise addition:\", addition)\n",
        "print(\"Element-wise subtraction:\", subtraction)\n",
        "print(\"Element-wise multiplication:\", multiplication)\n",
        "print(\"Element-wise division:\", division)\n",
        "print(\"Element-wise power:\", power)\n"
      ]
    },
    {
      "cell_type": "markdown",
      "source": [
        "Element-wise operations also comes in handy when we want to get values of a function (for ex. to plot it)."
      ],
      "metadata": {
        "id": "PFD-cb0av_qq"
      }
    },
    {
      "cell_type": "code",
      "source": [
        "x = np.arange(0, 5, 1)\n",
        "print(f\"arguments x = {x}\")\n",
        "\n",
        "y = x**2\n",
        "\n",
        "print(f\"values of y=x^2: {y}\")"
      ],
      "metadata": {
        "colab": {
          "base_uri": "https://localhost:8080/"
        },
        "id": "cSvsqddkv_YF",
        "outputId": "3a1c8c49-988d-44e0-e03c-7353383de3bd"
      },
      "execution_count": 13,
      "outputs": [
        {
          "output_type": "stream",
          "name": "stdout",
          "text": [
            "arguments x = [0 1 2 3 4]\n",
            "values of y=x^2: [ 0  1  4  9 16]\n"
          ]
        }
      ]
    },
    {
      "cell_type": "markdown",
      "source": [
        "Also there is a variety of built-in functions:"
      ],
      "metadata": {
        "id": "I1Og8LRxxeTV"
      }
    },
    {
      "cell_type": "code",
      "source": [
        "x = 1/2*np.pi\n",
        "print(f\"x = {x}\")\n",
        "\n",
        "print(f\"value of sin(x): {np.sin(x)}\")\n",
        "print(f\"value of cos(x): {np.cos(x)}\")\n",
        "print(f\"value of tan(x): {np.tan(x)}\")"
      ],
      "metadata": {
        "outputId": "f957f3ec-0243-44c3-8307-3d453c1ce105",
        "colab": {
          "base_uri": "https://localhost:8080/"
        },
        "id": "RqP1Eftyxje0"
      },
      "execution_count": 14,
      "outputs": [
        {
          "output_type": "stream",
          "name": "stdout",
          "text": [
            "x = 1.5707963267948966\n",
            "value of sin(x): 1.0\n",
            "value of cos(x): 6.123233995736766e-17\n",
            "value of tan(x): 1.633123935319537e+16\n"
          ]
        }
      ]
    },
    {
      "cell_type": "markdown",
      "source": [
        "**Remark:** matrix multiplication - non-element-wise operation:"
      ],
      "metadata": {
        "id": "sXPlHAQx3bSE"
      }
    },
    {
      "cell_type": "markdown",
      "source": [
        "Let's have these two matrices:\n",
        "\n",
        "$$ \\mathbb{A} =\n",
        "\\begin{pmatrix}\n",
        "1 & 2 \\\\\n",
        "3 & 4 \\\\\n",
        "\\end{pmatrix} ,\n",
        "\\quad \\quad\n",
        "\\mathbb{B} =\n",
        "\\begin{pmatrix}\n",
        "5 & 6 \\\\\n",
        "7 & 8 \\\\\n",
        "\\end{pmatrix}\n",
        "$$\n",
        "\n"
      ],
      "metadata": {
        "id": "XHGw3syc4FpM"
      }
    },
    {
      "cell_type": "code",
      "source": [
        "A = np.array([[1, 2],[3, 4]])\n",
        "B = np.array([[5, 6],[7, 8]])"
      ],
      "metadata": {
        "id": "W15Ar-Qz4PuZ"
      },
      "execution_count": 15,
      "outputs": []
    },
    {
      "cell_type": "code",
      "source": [
        "# dot product\n",
        "np.dot(A, B)"
      ],
      "metadata": {
        "id": "yosxD-4H4TQi",
        "outputId": "5477d903-eb0a-46e6-c2ec-b2806e43fc17",
        "colab": {
          "base_uri": "https://localhost:8080/"
        }
      },
      "execution_count": 16,
      "outputs": [
        {
          "output_type": "execute_result",
          "data": {
            "text/plain": [
              "array([[19, 22],\n",
              "       [43, 50]])"
            ]
          },
          "metadata": {},
          "execution_count": 16
        }
      ]
    },
    {
      "cell_type": "code",
      "source": [
        "# or equivalently:\n",
        "A @ B"
      ],
      "metadata": {
        "id": "Xd0RTm9s4XVX",
        "outputId": "96d53bd8-a04e-40e5-8c0d-83c912db6475",
        "colab": {
          "base_uri": "https://localhost:8080/"
        }
      },
      "execution_count": 17,
      "outputs": [
        {
          "output_type": "execute_result",
          "data": {
            "text/plain": [
              "array([[19, 22],\n",
              "       [43, 50]])"
            ]
          },
          "metadata": {},
          "execution_count": 17
        }
      ]
    },
    {
      "cell_type": "markdown",
      "source": [
        "You can test it by hand 😜:\n",
        "\n",
        "$$\n",
        "\\mathbb{A} \\cdot \\mathbb{B} =\n",
        "\\begin{pmatrix}\n",
        "1 & 2 \\\\\n",
        "3 & 4 \\\\\n",
        "\\end{pmatrix}\n",
        "\\cdot\n",
        "\\begin{pmatrix}\n",
        "5 & 6 \\\\\n",
        "7 & 8 \\\\\n",
        "\\end{pmatrix}\n",
        "=\n",
        "\\begin{pmatrix}\n",
        "19 & 22 \\\\\n",
        "43 & 50 \\\\\n",
        "\\end{pmatrix}\n",
        "$$"
      ],
      "metadata": {
        "id": "cXJ8Qhp24QYc"
      }
    },
    {
      "cell_type": "code",
      "source": [
        "# element-wise product\n",
        "np.multiply(A, B)"
      ],
      "metadata": {
        "id": "e1-FplUn4dcm",
        "outputId": "9dcad8b5-6dae-4974-ce08-e589932cf401",
        "colab": {
          "base_uri": "https://localhost:8080/"
        }
      },
      "execution_count": 18,
      "outputs": [
        {
          "output_type": "execute_result",
          "data": {
            "text/plain": [
              "array([[ 5, 12],\n",
              "       [21, 32]])"
            ]
          },
          "metadata": {},
          "execution_count": 18
        }
      ]
    },
    {
      "cell_type": "code",
      "source": [
        "# or equivalently:\n",
        "A * B"
      ],
      "metadata": {
        "id": "nf09-sBl4gbp",
        "outputId": "7e8c859e-a5dd-4823-c2be-3e62b378e64a",
        "colab": {
          "base_uri": "https://localhost:8080/"
        }
      },
      "execution_count": 19,
      "outputs": [
        {
          "output_type": "execute_result",
          "data": {
            "text/plain": [
              "array([[ 5, 12],\n",
              "       [21, 32]])"
            ]
          },
          "metadata": {},
          "execution_count": 19
        }
      ]
    },
    {
      "cell_type": "markdown",
      "metadata": {
        "id": "jpx4TArnlIBa"
      },
      "source": [
        "### 2. Array Broadcasting: Understanding how NumPy handles operations on arrays of different shapes\n",
        "\n",
        "NumPy's broadcasting feature allows you to perform arithmetic operations on arrays of different shapes. Broadcasting involves expanding the smaller array along the dimensions with size 1 to match the larger array.\n"
      ]
    },
    {
      "cell_type": "code",
      "execution_count": 20,
      "metadata": {
        "colab": {
          "base_uri": "https://localhost:8080/"
        },
        "id": "FmXp6zH2lIBa",
        "outputId": "02aab8e1-cb58-4df4-9bb2-d175f5a32871"
      },
      "outputs": [
        {
          "output_type": "stream",
          "name": "stdout",
          "text": [
            "2x3 Array:\n",
            " [[1 2 3]\n",
            " [4 5 6]]\n",
            "1D Array for addition: [1 2 3]\n",
            "Broadcasted addition result:\n",
            " [[2 4 6]\n",
            " [5 7 9]]\n",
            "Broadcasted scalar multiplication result:\n",
            " [[ 2  4  6]\n",
            " [ 8 10 12]]\n",
            "2D Array for multiplication:\n",
            " [[1]\n",
            " [2]]\n",
            "Broadcasted multiplication result:\n",
            " [[ 1  2  3]\n",
            " [ 8 10 12]]\n",
            "1D Array for addition along different axis: [10 20]\n",
            "Broadcasted addition along different axis result:\n",
            " [[11]\n",
            " [22]]\n"
          ]
        }
      ],
      "source": [
        "# Creating a 2x3 array\n",
        "array3 = np.array([[1, 2, 3], [4, 5, 6]])\n",
        "\n",
        "# Creating a 1D array for broadcasting\n",
        "array4 = np.array([1, 2, 3])\n",
        "\n",
        "# Broadcasting the 1D array across the 2x3 array\n",
        "broadcast_addition = array3 + array4\n",
        "\n",
        "# Broadcasting a scalar across the 2x3 array\n",
        "broadcast_scalar = array3 * 2\n",
        "\n",
        "# Creating a 2D array for broadcasting\n",
        "array5 = np.array([[1], [2]])\n",
        "\n",
        "# Broadcasting the 2D array across a compatible 2D array\n",
        "broadcast_multiplication = array3 * array5\n",
        "\n",
        "# Creating another 1D array for broadcasting\n",
        "array6 = np.array([10, 20])\n",
        "\n",
        "# Broadcasting along a different axis\n",
        "broadcast_addition2 = array5 + array6[:, np.newaxis]\n",
        "\n",
        "print(\"2x3 Array:\\n\", array3)\n",
        "print(\"1D Array for addition:\", array4)\n",
        "print(\"Broadcasted addition result:\\n\", broadcast_addition)\n",
        "print(\"Broadcasted scalar multiplication result:\\n\", broadcast_scalar)\n",
        "print(\"2D Array for multiplication:\\n\", array5)\n",
        "print(\"Broadcasted multiplication result:\\n\", broadcast_multiplication)\n",
        "print(\"1D Array for addition along different axis:\", array6)\n",
        "print(\"Broadcasted addition along different axis result:\\n\", broadcast_addition2)\n"
      ]
    },
    {
      "cell_type": "markdown",
      "metadata": {
        "id": "MHyxpfPJlIBa"
      },
      "source": [
        "# Part 4: Aggregation Functions"
      ]
    },
    {
      "cell_type": "markdown",
      "metadata": {
        "id": "VDRe02a9lIBa"
      },
      "source": [
        "### 1. Basic Aggregation: Computing statistics like min, max, sum, mean\n",
        "\n",
        "NumPy provides a variety of functions to perform basic aggregation operations on arrays. These functions help in computing statistics like minimum, maximum, sum, mean, etc.\n"
      ]
    },
    {
      "cell_type": "code",
      "source": [
        "import numpy as np\n",
        "\n",
        "# Creating an array\n",
        "array = np.array([[1, 2, 3], [4, 5, 6], [7, 8, 9]])"
      ],
      "metadata": {
        "id": "IScPMnoSylr8"
      },
      "execution_count": 21,
      "outputs": []
    },
    {
      "cell_type": "code",
      "execution_count": 22,
      "metadata": {
        "colab": {
          "base_uri": "https://localhost:8080/"
        },
        "id": "LJqx7dtolIBb",
        "outputId": "0561ecd0-a34f-4682-ed48-91eebc7513dd"
      },
      "outputs": [
        {
          "output_type": "stream",
          "name": "stdout",
          "text": [
            "Minimum value in the array: 1\n",
            "Maximum value in the array: 9\n",
            "Sum of all elements in the array: 45\n",
            "Mean of all elements in the array: 5.0\n",
            "Sum of elements along each column: [12 15 18]\n"
          ]
        }
      ],
      "source": [
        "# Example 1: Computing the minimum value\n",
        "min_value = np.min(array)\n",
        "print(\"Minimum value in the array:\", min_value)\n",
        "\n",
        "# Example 2: Computing the maximum value\n",
        "max_value = np.max(array)\n",
        "print(\"Maximum value in the array:\", max_value)\n",
        "\n",
        "# Example 3: Computing the sum of all elements\n",
        "sum_value = np.sum(array)\n",
        "print(\"Sum of all elements in the array:\", sum_value)\n",
        "\n",
        "# Example 4: Computing the mean (average) of all elements\n",
        "mean_value = np.mean(array)\n",
        "print(\"Mean of all elements in the array:\", mean_value)\n",
        "\n",
        "# Example 5: Computing the sum of elements along each column\n",
        "sum_along_columns = np.sum(array, axis=0)\n",
        "print(\"Sum of elements along each column:\", sum_along_columns)\n"
      ]
    },
    {
      "cell_type": "markdown",
      "metadata": {
        "id": "DXGFA-e2lIBb"
      },
      "source": [
        "### 2. basic aggregation:\n",
        "\n",
        "\n",
        "#### Computing the cumulative sum of all elements\n",
        "`np.cumsum(array)` returns the cumulative sum of the elements in the array.\n",
        "\n",
        "#### Computing the mean (average) along each row\n",
        "`np.mean(array, axis=1)` returns the average of elements in each row.\n",
        "\n",
        "#### Computing the standard deviation of all elements\n",
        "`np.std(array)` returns the standard deviation of the elements in the array, which measures the amount of variation or dispersion.\n",
        "\n",
        "#### Computing the variance of all elements\n",
        "`np.var(array)` returns the variance of the elements in the array, which is the average of the squared differences from the mean.\n"
      ]
    },
    {
      "cell_type": "code",
      "execution_count": 23,
      "metadata": {
        "colab": {
          "base_uri": "https://localhost:8080/"
        },
        "id": "LQ1C_Ur8lIBb",
        "outputId": "2e37990d-a008-4b9c-bb1d-a50ebef94ead"
      },
      "outputs": [
        {
          "output_type": "stream",
          "name": "stdout",
          "text": [
            "Cumulative sum of all elements: [ 1  3  6 10 15 21 28 36 45]\n",
            "Mean of elements along each row: [2. 5. 8.]\n",
            "Standard deviation of all elements: 2.581988897471611\n",
            "Variance of all elements: 6.666666666666667\n"
          ]
        }
      ],
      "source": [
        "import numpy as np\n",
        "\n",
        "# Creating an array\n",
        "array = np.array([[1, 2, 3], [4, 5, 6], [7, 8, 9]])\n",
        "\n",
        "# Example 3: Computing the cumulative sum of all elements\n",
        "cumulative_sum = np.cumsum(array)\n",
        "print(\"Cumulative sum of all elements:\", cumulative_sum)\n",
        "\n",
        "# Example 4: Computing the mean (average) along each row\n",
        "mean_value_rows = np.mean(array, axis=1)\n",
        "print(\"Mean of elements along each row:\", mean_value_rows)\n",
        "\n",
        "# Example 5: Computing the standard deviation of all elements\n",
        "std_deviation = np.std(array)\n",
        "print(\"Standard deviation of all elements:\", std_deviation)\n",
        "\n",
        "# Example 6: Computing the variance of all elements\n",
        "variance = np.var(array)\n",
        "print(\"Variance of all elements:\", variance)\n"
      ]
    },
    {
      "cell_type": "markdown",
      "metadata": {
        "id": "qc5cViw1lIBb"
      },
      "source": [
        "# Part 5: Advanced Indexing and Filtering"
      ]
    },
    {
      "cell_type": "markdown",
      "metadata": {
        "id": "j5n0c2QMlIBc"
      },
      "source": [
        "### 1. Boolean Indexing: Selecting elements based on conditions\n",
        "\n",
        "Boolean indexing allows you to select elements from an array that satisfy certain conditions.\n"
      ]
    },
    {
      "cell_type": "code",
      "execution_count": 24,
      "metadata": {
        "colab": {
          "base_uri": "https://localhost:8080/"
        },
        "id": "k9NGRK3MlIBc",
        "outputId": "d65c3db0-6323-404e-eb53-7e1c608017c0"
      },
      "outputs": [
        {
          "output_type": "stream",
          "name": "stdout",
          "text": [
            "Elements greater than 30: [40 50 60]\n",
            "Even elements: [10 20 30 40 50 60]\n",
            "Elements less than or equal to 40: [10 20 30 40]\n",
            "Elements between 20 and 50: [20 30 40 50]\n",
            "Elements not equal to 30: [10 20 40 50 60]\n"
          ]
        }
      ],
      "source": [
        "import numpy as np\n",
        "\n",
        "# Creating an array\n",
        "array = np.array([10, 20, 30, 40, 50, 60])\n",
        "\n",
        "# Example 1: Selecting elements greater than 30\n",
        "greater_than_30 = array[array > 30]\n",
        "print(\"Elements greater than 30:\", greater_than_30)\n",
        "\n",
        "# Example 2: Selecting elements that are even\n",
        "even_elements = array[array % 2 == 0]\n",
        "print(\"Even elements:\", even_elements)\n",
        "\n",
        "# Example 3: Selecting elements that are less than or equal to 40\n",
        "less_equal_40 = array[array <= 40]\n",
        "print(\"Elements less than or equal to 40:\", less_equal_40)\n",
        "\n",
        "# Example 4: Selecting elements that are between 20 and 50 (inclusive)\n",
        "between_20_50 = array[(array >= 20) & (array <= 50)]\n",
        "print(\"Elements between 20 and 50:\", between_20_50)\n",
        "\n",
        "# Example 5: Selecting elements that are not equal to 30\n",
        "not_equal_30 = array[array != 30]\n",
        "print(\"Elements not equal to 30:\", not_equal_30)\n"
      ]
    },
    {
      "cell_type": "markdown",
      "metadata": {
        "id": "Z5MkAs1IlIBc"
      },
      "source": [
        "### 2. Fancy Indexing: Using integer arrays to access elements\n",
        "\n",
        "Fancy indexing allows you to use arrays of integers to access specific elements from another array.\n"
      ]
    },
    {
      "cell_type": "code",
      "execution_count": 25,
      "metadata": {
        "colab": {
          "base_uri": "https://localhost:8080/"
        },
        "id": "BSZgyBmblIBc",
        "outputId": "0390a5ac-01d5-4563-d5d8-79dce16f565a"
      },
      "outputs": [
        {
          "output_type": "stream",
          "name": "stdout",
          "text": [
            "Elements at indices 1, 3, and 5: [20 40 60]\n",
            "Elements at negative indices -1, -2, and -3: [60 50 40]\n",
            "Elements selected using a 2D index array:\n",
            " [[10 30]\n",
            " [20 40]]\n",
            "Array after setting specific positions to 99: [99 20 99 40 99 60]\n",
            "Elements selected using fancy indexing in a multi-dimensional array: [30 50 70]\n"
          ]
        }
      ],
      "source": [
        "# Creating an array\n",
        "array = np.array([10, 20, 30, 40, 50, 60])\n",
        "\n",
        "# Example 1: Selecting elements at indices 1, 3, and 5\n",
        "indices = np.array([1, 3, 5])\n",
        "selected_elements = array[indices]\n",
        "print(\"Elements at indices 1, 3, and 5:\", selected_elements)\n",
        "\n",
        "# Example 2: Selecting elements at negative indices -1, -2, and -3\n",
        "negative_indices = np.array([-1, -2, -3])\n",
        "selected_negative_elements = array[negative_indices]\n",
        "print(\"Elements at negative indices -1, -2, and -3:\", selected_negative_elements)\n",
        "\n",
        "# Example 3: Selecting elements using a 2D index array\n",
        "index_array_2d = np.array([[0, 2], [1, 3]])\n",
        "selected_2d_elements = array[index_array_2d]\n",
        "print(\"Elements selected using a 2D index array:\\n\", selected_2d_elements)\n",
        "\n",
        "# Example 4: Selecting elements at specific positions and setting them to a new value\n",
        "array[np.array([0, 2, 4])] = 99\n",
        "print(\"Array after setting specific positions to 99:\", array)\n",
        "\n",
        "# Example 5: Using fancy indexing with multi-dimensional arrays\n",
        "multi_dim_array = np.array([[10, 20, 30], [40, 50, 60], [70, 80, 90]])\n",
        "row_indices = np.array([0, 1, 2])\n",
        "col_indices = np.array([2, 1, 0])\n",
        "fancy_selected_elements = multi_dim_array[row_indices, col_indices]\n",
        "print(\"Elements selected using fancy indexing in a multi-dimensional array:\", fancy_selected_elements)\n"
      ]
    },
    {
      "cell_type": "markdown",
      "metadata": {
        "id": "MjTF18TOlIBd"
      },
      "source": []
    },
    {
      "cell_type": "markdown",
      "metadata": {
        "id": "HwKsjSr8lIBd"
      },
      "source": [
        "## Part 6: Advanced NumPy Techniques\n",
        "- Linear Algebra Operations: Matrix multiplication, determinant, inverse.\n",
        "- Array Manipulation: Reshaping, stacking, splitting arrays."
      ]
    },
    {
      "cell_type": "markdown",
      "metadata": {
        "id": "1jioO95vlIBd"
      },
      "source": [
        "### 1. Linear Algebra Operations: Matrix multiplication, determinant, inverse\n",
        "\n",
        "NumPy provides a suite of functions for performing linear algebra operations. These include matrix multiplication, computing the determinant of a matrix, and finding the inverse of a matrix.\n"
      ]
    },
    {
      "cell_type": "code",
      "execution_count": 26,
      "metadata": {
        "colab": {
          "base_uri": "https://localhost:8080/"
        },
        "id": "pRsHDK8ilIBd",
        "outputId": "f14e961e-781a-4363-f25e-0264ffe83a5b"
      },
      "outputs": [
        {
          "output_type": "stream",
          "name": "stdout",
          "text": [
            "Matrix A:\n",
            " [[1 2]\n",
            " [3 4]]\n",
            "Matrix B:\n",
            " [[5 6]\n",
            " [7 8]]\n",
            "Matrix multiplication (A * B):\n",
            " [[19 22]\n",
            " [43 50]]\n",
            "Determinant of matrix A: -2.0000000000000004\n",
            "Inverse of matrix A:\n",
            " [[-2.   1. ]\n",
            " [ 1.5 -0.5]]\n"
          ]
        }
      ],
      "source": [
        "import numpy as np\n",
        "\n",
        "# Creating two matrices\n",
        "matrix_a = np.array([[1, 2], [3, 4]])\n",
        "matrix_b = np.array([[5, 6], [7, 8]])\n",
        "\n",
        "# Example 1: Matrix multiplication\n",
        "matrix_multiplication = np.dot(matrix_a, matrix_b)\n",
        "print(\"Matrix A:\\n\", matrix_a)\n",
        "print(\"Matrix B:\\n\", matrix_b)\n",
        "print(\"Matrix multiplication (A * B):\\n\", matrix_multiplication)\n",
        "\n",
        "# Example 2: Determinant of a matrix\n",
        "determinant = np.linalg.det(matrix_a)\n",
        "print(\"Determinant of matrix A:\", determinant)\n",
        "\n",
        "# Example 3: Inverse of a matrix\n",
        "inverse_matrix = np.linalg.inv(matrix_a)\n",
        "print(\"Inverse of matrix A:\\n\", inverse_matrix)\n"
      ]
    },
    {
      "cell_type": "markdown",
      "metadata": {
        "id": "bxHeKpSIlIBd"
      },
      "source": []
    },
    {
      "cell_type": "markdown",
      "metadata": {
        "id": "QA9Z1cAplIBe"
      },
      "source": [
        "### 2. Array Manipulation: Reshaping, stacking, splitting arrays\n",
        "\n",
        "NumPy allows you to manipulate arrays in various ways, such as reshaping, stacking, and splitting arrays.\n"
      ]
    },
    {
      "cell_type": "code",
      "execution_count": 43,
      "metadata": {
        "colab": {
          "base_uri": "https://localhost:8080/"
        },
        "id": "ekA66mM8lIBe",
        "outputId": "3ca2c19a-5b23-4099-aa5e-8b483bafbda7"
      },
      "outputs": [
        {
          "output_type": "stream",
          "name": "stdout",
          "text": [
            "Original array:\n",
            " [[ 1  2  3  4]\n",
            " [ 5  6  7  8]\n",
            " [ 9 10 11 12]]\n",
            "Reshaped array (4x3):\n",
            " [[ 1  2  3]\n",
            " [ 4  5  6]\n",
            " [ 7  8  9]\n",
            " [10 11 12]]\n",
            "Array 1:\n",
            " [[1 2]\n",
            " [3 4]]\n",
            "Array 2:\n",
            " [[5 6]\n",
            " [7 8]]\n",
            "Vertically stacked array:\n",
            " [[1 2]\n",
            " [3 4]\n",
            " [5 6]\n",
            " [7 8]]\n",
            "Horizontally stacked array:\n",
            " [[1 2 5 6]\n",
            " [3 4 7 8]]\n",
            "\n",
            "\n",
            "Array split into 2 sub-arrays along columns:\n",
            " [array([[ 1,  2],\n",
            "       [ 5,  6],\n",
            "       [ 9, 10]]), array([[ 3,  4],\n",
            "       [ 7,  8],\n",
            "       [11, 12]])]\n"
          ]
        }
      ],
      "source": [
        "# Creating an array\n",
        "array = np.arange(1, 13).reshape(3, 4)\n",
        "\n",
        "# Example 1: Reshaping an array\n",
        "reshaped_array = array.reshape(4, 3)\n",
        "print(\"Original array:\\n\", array)\n",
        "print(\"Reshaped array (4x3):\\n\", reshaped_array)\n",
        "\n",
        "# Example 2: Stacking arrays vertically\n",
        "array1 = np.array([[1, 2], [3, 4]])\n",
        "array2 = np.array([[5, 6], [7, 8]])\n",
        "stacked_array = np.vstack((array1, array2))\n",
        "print(\"Array 1:\\n\", array1)\n",
        "print(\"Array 2:\\n\", array2)\n",
        "print(\"Vertically stacked array:\\n\", stacked_array)\n",
        "\n",
        "# Example 3: Stacking arrays horizontally\n",
        "horizontally_stacked_array = np.hstack((array1, array2))\n",
        "print(\"Horizontally stacked array:\\n\", horizontally_stacked_array)\n",
        "print(\"\\n\")\n",
        "\n",
        "# Example 4: Splitting an array along the second axis (columns)\n",
        "split_array_columns = np.split(array, 2, axis=1)\n",
        "print(\"Array split into 2 sub-arrays along columns:\\n\", split_array_columns)\n"
      ]
    },
    {
      "cell_type": "markdown",
      "metadata": {
        "id": "oWDO6JL6r14R"
      },
      "source": [
        "# Summary\n",
        "\n",
        "## Part 1: Creating NumPy Arrays\n",
        "- Using `np.array()` to create arrays from Python lists.\n",
        "- Generating arrays with `np.zeros()` and `np.ones()`.\n",
        "- Using `np.arange()` for array creation.\n",
        "- Exploring array attributes (shape, dtype, ndim, size).\n",
        "- Reshaping arrays with `np.reshape()`.\n",
        "\n",
        "## Part 2: Array Indexing and Slicing\n",
        "- Accessing elements and rows in a NumPy array.\n",
        "- Slicing subarrays in NumPy arrays.\n",
        "- Using negative indices for indexing.\n",
        "- Combining indexing and slicing.\n",
        "- Modifying array elements using indexing.\n",
        "\n",
        "## Part 3: Array Operations\n",
        "- Element-wise Operations: Arithmetic operations (+, -, *, /).\n",
        "- Array Broadcasting: Understanding how NumPy handles operations on arrays of different shapes.\n",
        "\n",
        "## Part 4: Aggregation Functions\n",
        "- Basic Aggregation: Computing statistics like min, max, sum, mean.\n",
        "\n",
        "## Part 5: Advanced Indexing and Filtering\n",
        "- Boolean Indexing: Selecting elements based on conditions.\n",
        "- Fancy Indexing: Using integer arrays to access elements.\n",
        "\n",
        "## Part 6: Advanced NumPy Techniques\n",
        "- Linear Algebra Operations: Matrix multiplication, determinant, inverse.\n",
        "- Array Manipulation: Reshaping, stacking, splitting arrays."
      ]
    },
    {
      "cell_type": "markdown",
      "metadata": {
        "id": "hSP8oxmBr77B"
      },
      "source": [
        "## Additional sources (where to seek for information):\n",
        " - Crash course on YouTube: https://www.youtube.com/watch?v=QUT1VHiLmmI&t=75s\n",
        " - w3schools: https://www.w3schools.com/python/numpy/numpy_intro.asp\n",
        " - official tutorials: https://numpy.org/doc/stable/"
      ]
    },
    {
      "cell_type": "markdown",
      "source": [
        "## Bonus"
      ],
      "metadata": {
        "id": "EUoW05qe8Atf"
      }
    },
    {
      "cell_type": "markdown",
      "source": [
        "## How to solve $\\mathbb{A} \\cdot \\vec{x} = \\vec{b}$?\n",
        "\n",
        "You definitely remember solving systems of linear equations in primary school.\n",
        "\n",
        "$$\\left\\{\n",
        "\\begin{align*}\n",
        "2x + 3y - z &= 7 \\\\\n",
        "4x - 2y + 5z &= 3 \\\\\n",
        "x + y - 3z &= -2 \\\\\n",
        "\\end{align*} \\right. $$\n",
        "\n",
        "At the beginning of your algebra course, you used matrices for the same task:\n",
        "\n",
        "$$\n",
        "\\mathbb{A} = \\begin{pmatrix}\n",
        "2 & 3 & -1 \\\\\n",
        "4 & -2 & 5 \\\\\n",
        "1 & 1 & -3 \\\\\n",
        "\\end{pmatrix}, \\quad \\vec{b} = \\begin{pmatrix} 7 \\\\ 3 \\\\ -2 \\end{pmatrix}\n",
        "$$\n",
        "\n",
        "and you searched for $\\vec{x} = \\begin{pmatrix} x \\\\ y \\\\ z  \\end{pmatrix}$ as the solution of $\\mathbb{A} \\cdot \\vec{x} = \\vec{b}$.\n"
      ],
      "metadata": {
        "id": "ba1lYXlo8DFP"
      }
    },
    {
      "cell_type": "markdown",
      "source": [
        "Mathematical solution: $\\vec{x} = \\mathbb{A}^{-1} \\cdot \\vec{b} $"
      ],
      "metadata": {
        "id": "T4g4nSia8VoB"
      }
    },
    {
      "cell_type": "code",
      "source": [
        "# Let's define A and b from example above using NumPy:\n",
        "import numpy as np\n",
        "\n",
        "A = np.array([[2, 3, -1], [4, -2, 5], [1, 1, -3]])\n",
        "b = np.array([7, 3, -2])"
      ],
      "metadata": {
        "id": "vsCVW0uO8ym6"
      },
      "execution_count": 28,
      "outputs": []
    },
    {
      "cell_type": "markdown",
      "source": [
        "### Aproach 1: do it manually (almost):"
      ],
      "metadata": {
        "id": "Ys9hKpCf8adv"
      }
    },
    {
      "cell_type": "code",
      "source": [
        "x = np.linalg.inv(A) @ b\n",
        "x"
      ],
      "metadata": {
        "id": "jmJRRU8g8AXs",
        "outputId": "aabe8ec9-4d57-4a0e-c971-7333f5ece56d",
        "colab": {
          "base_uri": "https://localhost:8080/"
        }
      },
      "execution_count": 29,
      "outputs": [
        {
          "output_type": "execute_result",
          "data": {
            "text/plain": [
              "array([0.10638298, 2.80851064, 1.63829787])"
            ]
          },
          "metadata": {},
          "execution_count": 29
        }
      ]
    },
    {
      "cell_type": "code",
      "source": [
        "# \"quality check\":\n",
        "A @ x"
      ],
      "metadata": {
        "id": "vWI5LVfQ8bWH",
        "outputId": "f6129593-97a4-4aab-f7ce-92892fafcdc7",
        "colab": {
          "base_uri": "https://localhost:8080/"
        }
      },
      "execution_count": 30,
      "outputs": [
        {
          "output_type": "execute_result",
          "data": {
            "text/plain": [
              "array([ 7.,  3., -2.])"
            ]
          },
          "metadata": {},
          "execution_count": 30
        }
      ]
    },
    {
      "cell_type": "markdown",
      "source": [
        "### Aproach 2: use NumPy solver:"
      ],
      "metadata": {
        "id": "4J1GtC4T8gpd"
      }
    },
    {
      "cell_type": "code",
      "source": [
        "xx = np.linalg.solve(A, b)\n",
        "xx"
      ],
      "metadata": {
        "id": "FghrYzyT8jBY",
        "outputId": "e8fd8830-0989-43a2-9155-7b61d41365af",
        "colab": {
          "base_uri": "https://localhost:8080/"
        }
      },
      "execution_count": 33,
      "outputs": [
        {
          "output_type": "execute_result",
          "data": {
            "text/plain": [
              "array([0.10638298, 2.80851064, 1.63829787])"
            ]
          },
          "metadata": {},
          "execution_count": 33
        }
      ]
    },
    {
      "cell_type": "code",
      "source": [
        "# \"quality check\":\n",
        "A @ xx"
      ],
      "metadata": {
        "id": "BWwLP9_K8o55",
        "outputId": "78fe1e2b-32ad-43e9-81d4-375e5208aa39",
        "colab": {
          "base_uri": "https://localhost:8080/"
        }
      },
      "execution_count": 34,
      "outputs": [
        {
          "output_type": "execute_result",
          "data": {
            "text/plain": [
              "array([ 7.,  3., -2.])"
            ]
          },
          "metadata": {},
          "execution_count": 34
        }
      ]
    },
    {
      "cell_type": "markdown",
      "source": [
        "### Comparison: speed?"
      ],
      "metadata": {
        "id": "WNkDKqd78lvH"
      }
    },
    {
      "cell_type": "code",
      "source": [
        "# approach 1:\n",
        "%timeit np.linalg.inv(   np.random.rand(3, 3)  ) @ np.random.rand(3, 1)"
      ],
      "metadata": {
        "id": "dTC6dmLg89pA",
        "outputId": "6a9450d0-7d70-4add-bdd1-485d8545e11d",
        "colab": {
          "base_uri": "https://localhost:8080/"
        }
      },
      "execution_count": 44,
      "outputs": [
        {
          "output_type": "stream",
          "name": "stdout",
          "text": [
            "22.9 µs ± 4.49 µs per loop (mean ± std. dev. of 7 runs, 10000 loops each)\n"
          ]
        }
      ]
    },
    {
      "cell_type": "code",
      "source": [
        "# approach 2:\n",
        "%timeit np.linalg.solve(   np.random.rand(3, 3), np.random.rand(3, 1) )"
      ],
      "metadata": {
        "id": "ZoEv3s9w9Azo",
        "outputId": "495d7eca-11e8-4b8a-cc43-b44a8ea38ed8",
        "colab": {
          "base_uri": "https://localhost:8080/"
        }
      },
      "execution_count": 45,
      "outputs": [
        {
          "output_type": "stream",
          "name": "stdout",
          "text": [
            "9.84 µs ± 314 ns per loop (mean ± std. dev. of 7 runs, 100000 loops each)\n"
          ]
        }
      ]
    },
    {
      "cell_type": "markdown",
      "source": [
        "🤔 ..not a difference, huh?\n",
        "\n",
        "Just *wait for it*:"
      ],
      "metadata": {
        "id": "suCZ5Qrd9HfR"
      }
    },
    {
      "cell_type": "code",
      "source": [
        "# approach 1:\n",
        "%timeit np.linalg.inv(   np.random.rand(3000, 3000)  ) @ np.random.rand(3000, 1)"
      ],
      "metadata": {
        "id": "6fg5ehRz9HKG",
        "outputId": "385c4c6b-ee41-4a25-ca9d-bb61acbdad77",
        "colab": {
          "base_uri": "https://localhost:8080/"
        }
      },
      "execution_count": 46,
      "outputs": [
        {
          "output_type": "stream",
          "name": "stdout",
          "text": [
            "2.92 s ± 325 ms per loop (mean ± std. dev. of 7 runs, 1 loop each)\n"
          ]
        }
      ]
    },
    {
      "cell_type": "code",
      "source": [
        "# approach 2:\n",
        "%timeit np.linalg.solve(   np.random.rand(3000, 3000), np.random.rand(3000, 1) )"
      ],
      "metadata": {
        "id": "U3VaJTxn9MRY",
        "outputId": "ab847092-4fc4-426b-f59b-afeb17bfc075",
        "colab": {
          "base_uri": "https://localhost:8080/"
        }
      },
      "execution_count": 47,
      "outputs": [
        {
          "output_type": "stream",
          "name": "stdout",
          "text": [
            "1.07 s ± 269 ms per loop (mean ± std. dev. of 7 runs, 1 loop each)\n"
          ]
        }
      ]
    },
    {
      "cell_type": "markdown",
      "metadata": {
        "id": "ObAKPgeNcZ9e"
      },
      "source": [
        "<div style=\"font-style: italic; font-size: 14px;\">\n",
        "    <p>This material was prepared by Department of Information Engineering (<a href=\"https://www.pef.czu.cz/en\">PEF ČZU</a>) exclusively for purposes of ELLS summer school \"Practical Introduction into Programming with Python\". Any distribution or reproduction of this material, in whole or in part, without prior written consent of the authors is prohibited.</p>\n",
        "    <p>This material is shared under the <b>Creative Commons Attribution-NonCommercial-NoDerivatives 4.0 International Public License</b>, <a href=\"https://creativecommons.org/licenses/by-nc-nd/4.0/\">link</a>.</p>\n",
        "</div>\n"
      ]
    }
  ],
  "metadata": {
    "colab": {
      "provenance": [],
      "toc_visible": true,
      "include_colab_link": true
    },
    "kernelspec": {
      "display_name": "Python 3",
      "name": "python3"
    },
    "language_info": {
      "codemirror_mode": {
        "name": "ipython",
        "version": 3
      },
      "file_extension": ".py",
      "mimetype": "text/x-python",
      "name": "python",
      "nbconvert_exporter": "python",
      "pygments_lexer": "ipython3",
      "version": "3.12.1"
    }
  },
  "nbformat": 4,
  "nbformat_minor": 0
}