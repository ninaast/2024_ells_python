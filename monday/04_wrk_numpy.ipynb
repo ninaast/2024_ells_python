{
  "cells": [
    {
      "cell_type": "markdown",
      "metadata": {
        "id": "view-in-github",
        "colab_type": "text"
      },
      "source": [
        "<a href=\"https://colab.research.google.com/github/aleksejalex/2024_ells_python/blob/main/monday/04_wrk_numpy.ipynb\" target=\"_parent\"><img src=\"https://colab.research.google.com/assets/colab-badge.svg\" alt=\"Open In Colab\"/></a>"
      ]
    },
    {
      "cell_type": "markdown",
      "metadata": {
        "id": "pRbDDh0Uf25z"
      },
      "source": [
        "# ELLS - Practical Introduction into Programming with Python\n",
        "\n",
        "<a href=\"https://pef.czu.cz/en/\"><img src=\"https://aleksejalex.4fan.cz/ells/temp_banner.jpeg?\" alt=\"banner\" width=\"1000\"></a>\n",
        "\n",
        "\n",
        "\n"
      ]
    },
    {
      "cell_type": "markdown",
      "metadata": {
        "id": "LQsAPgdUvpSd"
      },
      "source": [
        "[GitHub Repository](https://github.com/aleksejalex/2024_ells_python)"
      ]
    },
    {
      "cell_type": "markdown",
      "metadata": {
        "id": "HRoCPFdVjWnR"
      },
      "source": [
        "\n",
        "## NumPy Workshop Outline\n",
        "\n",
        "<a href=\"https://numpy.org/\"><img src=\"https://numpy.org/doc/stable/_static/numpylogo.svg\" alt=\"logo\" width=\"400\" align=\"right\"></a>= library created to work with *numerical data*:\n",
        "\n",
        "## Part 1: Creating NumPy Arrays\n",
        "- Using `np.array()` to create arrays from Python lists.\n",
        "- Generating arrays with `np.zeros()` and `np.ones()`.\n",
        "- Using `np.arange()` for array creation.\n",
        "- Exploring array attributes (shape, dtype, ndim, size).\n",
        "- Reshaping arrays with `np.reshape()`.\n",
        "\n",
        "## Part 2: Array Indexing and Slicing\n",
        "- Accessing elements and rows in a NumPy array.\n",
        "- Slicing subarrays in NumPy arrays.\n",
        "- Using negative indices for indexing.\n",
        "- Combining indexing and slicing.\n",
        "- Modifying array elements using indexing.\n",
        "\n",
        "## Part 3: Array Operations\n",
        "- Element-wise Operations: Arithmetic operations (+, -, *, /).\n",
        "- Array Broadcasting: Understanding how NumPy handles operations on arrays of different shapes.\n",
        "\n",
        "## Part 4: Aggregation Functions\n",
        "- Basic Aggregation: Computing statistics like min, max, sum, mean.\n",
        "\n",
        "## Part 5: Advanced Indexing and Filtering\n",
        "- Boolean Indexing: Selecting elements based on conditions.\n",
        "- Fancy Indexing: Using integer arrays to access elements.\n",
        "\n",
        "## Part 6: Advanced NumPy Techniques\n",
        "- Linear Algebra Operations: Matrix multiplication, determinant, inverse.\n",
        "- Array Manipulation: Reshaping, stacking, splitting arrays.\n"
      ]
    },
    {
      "cell_type": "markdown",
      "metadata": {
        "id": "tPK9rnLirTcb"
      },
      "source": [
        "# Part 1 - Creating NumPy Arrays\n"
      ]
    },
    {
      "cell_type": "markdown",
      "metadata": {
        "id": "MEF1rwIJrTcb"
      },
      "source": [
        "### Task 1: Creating and manipulating NumPy arrays\n",
        " - Create a NumPy array from the list `[5, 10, 15, 20, 25, 30]`.\n",
        "\n",
        " - Then generate a 3x3 array filled with ones and multiply it by 5.\n",
        "\n",
        " - Finally, create an array with values ranging from 10 to 50 with a step of 5 and reshape it to a 3x3 array.\n",
        "\n",
        " - Print all arrays.\n"
      ]
    },
    {
      "cell_type": "code",
      "source": [
        "# your code here ..."
      ],
      "metadata": {
        "id": "uw8lQURWsLIT"
      },
      "execution_count": 7,
      "outputs": []
    },
    {
      "cell_type": "code",
      "execution_count": 1,
      "metadata": {
        "id": "g3xTzeo2rTcc",
        "outputId": "6283df35-9d2a-4724-8e6b-89292e491635",
        "colab": {
          "base_uri": "https://localhost:8080/"
        }
      },
      "outputs": [
        {
          "output_type": "stream",
          "name": "stdout",
          "text": [
            "Array from list: [ 5 10 15 20 25 30]\n",
            "3x3 Array of ones multiplied by 5:\n",
            " [[5. 5. 5.]\n",
            " [5. 5. 5.]\n",
            " [5. 5. 5.]]\n",
            "Array with values from 10 to 50 reshaped to 3x3:\n",
            " [[10 15 20]\n",
            " [25 30 35]\n",
            " [40 45 50]]\n"
          ]
        }
      ],
      "source": [
        "import numpy as np\n",
        "\n",
        "# Creating a NumPy array from a list\n",
        "array_from_list = np.array([5, 10, 15, 20, 25, 30])\n",
        "\n",
        "# Generating a 3x3 array filled with ones and multiplying it by 5\n",
        "ones_array = np.ones((3, 3)) * 5\n",
        "\n",
        "# Creating an array from 10 to 50 with a step of 5 and reshaping it to 3x3\n",
        "arange_array = np.arange(10, 55, 5).reshape(3, 3)\n",
        "\n",
        "print(\"Array from list:\", array_from_list)\n",
        "print(\"3x3 Array of ones multiplied by 5:\\n\", ones_array)\n",
        "print(\"Array with values from 10 to 50 reshaped to 3x3:\\n\", arange_array)\n"
      ]
    },
    {
      "cell_type": "markdown",
      "metadata": {
        "id": "PkKVgxSUrTcd"
      },
      "source": [
        "# Part 2: Array Indexing and Slicing"
      ]
    },
    {
      "cell_type": "markdown",
      "metadata": {
        "id": "6kay8l4VrTcf"
      },
      "source": [
        "### Task 1: Advanced Indexing and Slicing\n",
        "Create a 6x6 array using `np.arange(36).reshape(6, 6)`. Access and print the element at the 5th row, 4th column, the entire third row, and a subarray consisting of the first four rows and last three columns.\n"
      ]
    },
    {
      "cell_type": "code",
      "execution_count": 2,
      "metadata": {
        "id": "5WXmnrMqcZ9X",
        "outputId": "e6ab2c02-207d-4390-9fe3-0144d5fde506",
        "colab": {
          "base_uri": "https://localhost:8080/"
        }
      },
      "outputs": [
        {
          "output_type": "stream",
          "name": "stdout",
          "text": [
            "6x6 Array:\n",
            " [[ 0  1  2  3  4  5]\n",
            " [ 6  7  8  9 10 11]\n",
            " [12 13 14 15 16 17]\n",
            " [18 19 20 21 22 23]\n",
            " [24 25 26 27 28 29]\n",
            " [30 31 32 33 34 35]]\n",
            "Element at 5th row, 4th column: 27\n",
            "Third row: [12 13 14 15 16 17]\n",
            "Subarray (first four rows, last three columns):\n",
            " [[ 3  4  5]\n",
            " [ 9 10 11]\n",
            " [15 16 17]\n",
            " [21 22 23]]\n"
          ]
        }
      ],
      "source": [
        "import numpy as np\n",
        "\n",
        "# Creating a 6x6 array\n",
        "array_6x6 = np.arange(36).reshape(6, 6)\n",
        "\n",
        "# Accessing elements\n",
        "element = array_6x6[4, 3]\n",
        "third_row = array_6x6[2, :]\n",
        "subarray = array_6x6[:4, 3:]\n",
        "\n",
        "print(\"6x6 Array:\\n\", array_6x6)\n",
        "print(\"Element at 5th row, 4th column:\", element)\n",
        "print(\"Third row:\", third_row)\n",
        "print(\"Subarray (first four rows, last three columns):\\n\", subarray)\n"
      ]
    },
    {
      "cell_type": "markdown",
      "metadata": {
        "id": "1ChnYrHgrTch"
      },
      "source": [
        "# Part 3: Array Operations"
      ]
    },
    {
      "cell_type": "markdown",
      "metadata": {
        "id": "QOKDfaGerTch"
      },
      "source": [
        "### Task 1: Complex Element-wise Operations\n",
        "Create two 2x3 arrays: `array1 = np.array([[1, 2, 3], [4, 5, 6]])` and `array2 = np.array([[7, 8, 9], [10, 11, 12]])`. Perform element-wise addition, subtraction, multiplication, and division. Then compute the element-wise square root of `array1` and the element-wise exponential of `array2`. Print all results.\n"
      ]
    },
    {
      "cell_type": "code",
      "execution_count": 3,
      "metadata": {
        "id": "GMwsim0NrTci",
        "outputId": "80f74110-0cc7-4ba5-ee82-e1410429c36b",
        "colab": {
          "base_uri": "https://localhost:8080/"
        }
      },
      "outputs": [
        {
          "output_type": "stream",
          "name": "stdout",
          "text": [
            "Array 1:\n",
            " [[1 2 3]\n",
            " [4 5 6]]\n",
            "Array 2:\n",
            " [[ 7  8  9]\n",
            " [10 11 12]]\n",
            "Element-wise addition:\n",
            " [[ 8 10 12]\n",
            " [14 16 18]]\n",
            "Element-wise subtraction:\n",
            " [[-6 -6 -6]\n",
            " [-6 -6 -6]]\n",
            "Element-wise multiplication:\n",
            " [[ 7 16 27]\n",
            " [40 55 72]]\n",
            "Element-wise division:\n",
            " [[0.14285714 0.25       0.33333333]\n",
            " [0.4        0.45454545 0.5       ]]\n",
            "Element-wise square root of array1:\n",
            " [[1.         1.41421356 1.73205081]\n",
            " [2.         2.23606798 2.44948974]]\n",
            "Element-wise exponential of array2:\n",
            " [[  1096.63315843   2980.95798704   8103.08392758]\n",
            " [ 22026.46579481  59874.1417152  162754.791419  ]]\n"
          ]
        }
      ],
      "source": [
        "import numpy as np\n",
        "\n",
        "# Creating two arrays\n",
        "array1 = np.array([[1, 2, 3], [4, 5, 6]])\n",
        "array2 = np.array([[7, 8, 9], [10, 11, 12]])\n",
        "\n",
        "# Element-wise operations\n",
        "addition = array1 + array2\n",
        "subtraction = array1 - array2\n",
        "multiplication = array1 * array2\n",
        "division = array1 / array2\n",
        "sqrt_array1 = np.sqrt(array1)\n",
        "exp_array2 = np.exp(array2)\n",
        "\n",
        "print(\"Array 1:\\n\", array1)\n",
        "print(\"Array 2:\\n\", array2)\n",
        "print(\"Element-wise addition:\\n\", addition)\n",
        "print(\"Element-wise subtraction:\\n\", subtraction)\n",
        "print(\"Element-wise multiplication:\\n\", multiplication)\n",
        "print(\"Element-wise division:\\n\", division)\n",
        "print(\"Element-wise square root of array1:\\n\", sqrt_array1)\n",
        "print(\"Element-wise exponential of array2:\\n\", exp_array2)\n"
      ]
    },
    {
      "cell_type": "markdown",
      "metadata": {
        "id": "84RzJFxvrTci"
      },
      "source": [
        "# Part 4: Aggregation Functions"
      ]
    },
    {
      "cell_type": "markdown",
      "metadata": {
        "id": "WOuKc3H7rTcj"
      },
      "source": [
        "### Task 1: Advanced Aggregation\n",
        "Create a 4x4 array using `np.array([[2, 3, 5, 7], [11, 13, 17, 19], [23, 29, 31, 37], [41, 43, 47, 53]])`. Compute and print the minimum, maximum, sum, mean, standard deviation, and variance of the entire array, as well as the sum of elements along each row.\n"
      ]
    },
    {
      "cell_type": "code",
      "execution_count": 4,
      "metadata": {
        "id": "8Wb0J4yLrTcj",
        "outputId": "3c921826-8cfd-49de-b929-f384bd988875",
        "colab": {
          "base_uri": "https://localhost:8080/"
        }
      },
      "outputs": [
        {
          "output_type": "stream",
          "name": "stdout",
          "text": [
            "Array:\n",
            " [[ 2  3  5  7]\n",
            " [11 13 17 19]\n",
            " [23 29 31 37]\n",
            " [41 43 47 53]]\n",
            "Minimum value: 2\n",
            "Maximum value: 53\n",
            "Sum of all elements: 381\n",
            "Mean of all elements: 23.8125\n",
            "Standard deviation: 16.206552494284526\n",
            "Variance: 262.65234375\n",
            "Sum of elements along each row: [ 17  60 120 184]\n"
          ]
        }
      ],
      "source": [
        "import numpy as np\n",
        "\n",
        "# Creating a 4x4 array\n",
        "array = np.array([[2, 3, 5, 7], [11, 13, 17, 19], [23, 29, 31, 37], [41, 43, 47, 53]])\n",
        "\n",
        "# Computing aggregation functions\n",
        "min_value = np.min(array)\n",
        "max_value = np.max(array)\n",
        "sum_value = np.sum(array)\n",
        "mean_value = np.mean(array)\n",
        "std_deviation = np.std(array)\n",
        "variance = np.var(array)\n",
        "sum_along_rows = np.sum(array, axis=1)\n",
        "\n",
        "print(\"Array:\\n\", array)\n",
        "print(\"Minimum value:\", min_value)\n",
        "print(\"Maximum value:\", max_value)\n",
        "print(\"Sum of all elements:\", sum_value)\n",
        "print(\"Mean of all elements:\", mean_value)\n",
        "print(\"Standard deviation:\", std_deviation)\n",
        "print(\"Variance:\", variance)\n",
        "print(\"Sum of elements along each row:\", sum_along_rows)\n"
      ]
    },
    {
      "cell_type": "markdown",
      "metadata": {
        "id": "VmvWBbklrTck"
      },
      "source": [
        "# Part 5: Advanced Indexing and Filtering"
      ]
    },
    {
      "cell_type": "markdown",
      "metadata": {
        "id": "LtiCco70rTck"
      },
      "source": [
        "### Task 1: Boolean and Fancy Indexing\n",
        "Create a NumPy array `[5, 15, 25, 35, 45, 55, 65]`. Use Boolean indexing to select elements greater than 20. Use fancy indexing to select elements at indices `[0, 2, 4, 6]` and print the results.\n"
      ]
    },
    {
      "cell_type": "code",
      "execution_count": 5,
      "metadata": {
        "id": "X7_rQz9grTck",
        "outputId": "3518a8a0-a37d-4e97-ebb0-06decfb05b75",
        "colab": {
          "base_uri": "https://localhost:8080/"
        }
      },
      "outputs": [
        {
          "output_type": "stream",
          "name": "stdout",
          "text": [
            "Array: [ 5 15 25 35 45 55 65]\n",
            "Elements greater than 20: [25 35 45 55 65]\n",
            "Elements at indices [0, 2, 4, 6]: [ 5 25 45 65]\n"
          ]
        }
      ],
      "source": [
        "import numpy as np\n",
        "\n",
        "# Creating an array\n",
        "array = np.array([5, 15, 25, 35, 45, 55, 65])\n",
        "\n",
        "# Boolean indexing\n",
        "greater_than_20 = array[array > 20]\n",
        "\n",
        "# Fancy indexing\n",
        "fancy_indices = array[[0, 2, 4, 6]]\n",
        "\n",
        "print(\"Array:\", array)\n",
        "print(\"Elements greater than 20:\", greater_than_20)\n",
        "print(\"Elements at indices [0, 2, 4, 6]:\", fancy_indices)\n"
      ]
    },
    {
      "cell_type": "markdown",
      "metadata": {
        "id": "3OE3RD2JrTcl"
      },
      "source": [
        "# Part 6: Advanced NumPy Techniques"
      ]
    },
    {
      "cell_type": "markdown",
      "metadata": {
        "id": "Rm60-dKarTcl"
      },
      "source": [
        "### Task 1: Linear Algebra and Array Manipulation\n",
        "Create a 2x2 matrix `matrix = np.array([[2, 3], [1, 4]])`. Compute and print the determinant and inverse of the matrix. Then create a 1x4 array `[10, 20, 30, 40]`, reshape it to a 2x2 array, and stack it vertically with the original matrix. Finally, split the stacked array into two equal arrays and print all results.\n"
      ]
    },
    {
      "cell_type": "code",
      "execution_count": 6,
      "metadata": {
        "id": "ErfHn5W9rTcl",
        "outputId": "07663c80-49f3-4487-e3bd-adf6b30ac925",
        "colab": {
          "base_uri": "https://localhost:8080/"
        }
      },
      "outputs": [
        {
          "output_type": "stream",
          "name": "stdout",
          "text": [
            "Matrix:\n",
            " [[2 3]\n",
            " [1 4]]\n",
            "Determinant of the matrix: 5.000000000000001\n",
            "Inverse of the matrix:\n",
            " [[ 0.8 -0.6]\n",
            " [-0.2  0.4]]\n",
            "Reshaped array:\n",
            " [[10 20]\n",
            " [30 40]]\n",
            "Stacked array:\n",
            " [[ 2  3]\n",
            " [ 1  4]\n",
            " [10 20]\n",
            " [30 40]]\n",
            "Split arrays:\n",
            " [[2 3]\n",
            " [1 4]] \n",
            "\n",
            " [[10 20]\n",
            " [30 40]]\n"
          ]
        }
      ],
      "source": [
        "import numpy as np\n",
        "\n",
        "# Creating a 2x2 matrix\n",
        "matrix = np.array([[2, 3], [1, 4]])\n",
        "\n",
        "# Linear algebra operations\n",
        "determinant = np.linalg.det(matrix)\n",
        "inverse_matrix = np.linalg.inv(matrix)\n",
        "\n",
        "# Creating and reshaping an array\n",
        "array = np.array([10, 20, 30, 40]).reshape(2, 2)\n",
        "\n",
        "# Stacking arrays\n",
        "stacked_array = np.vstack((matrix, array))\n",
        "\n",
        "# Splitting the stacked array\n",
        "split_arrays = np.split(stacked_array, 2)\n",
        "\n",
        "print(\"Matrix:\\n\", matrix)\n",
        "print(\"Determinant of the matrix:\", determinant)\n",
        "print(\"Inverse of the matrix:\\n\", inverse_matrix)\n",
        "print(\"Reshaped array:\\n\", array)\n",
        "print(\"Stacked array:\\n\", stacked_array)\n",
        "print(\"Split arrays:\\n\", split_arrays[0], \"\\n\\n\", split_arrays[1])\n"
      ]
    },
    {
      "cell_type": "markdown",
      "metadata": {
        "id": "oWDO6JL6r14R"
      },
      "source": [
        "# Summary\n",
        "- Part 1: Creating NumPy Arrays\n",
        "- Part 2: Array Indexing and Slicing\n",
        "- Part 3: Array Operations\n",
        "- Part 4: Aggregation Functions\n",
        "- Part 5: Advanced Indexing and Filtering\n",
        "- Part 6: Advanced NumPy Techniques\n"
      ]
    },
    {
      "cell_type": "code",
      "source": [],
      "metadata": {
        "id": "KQ95Stx_4Kkq"
      },
      "execution_count": null,
      "outputs": []
    },
    {
      "cell_type": "markdown",
      "metadata": {
        "id": "ObAKPgeNcZ9e"
      },
      "source": [
        "<div style=\"font-style: italic; font-size: 14px;\">\n",
        "    <p>This material was prepared by Department of Information Engineering (<a href=\"https://www.pef.czu.cz/en\">PEF ČZU</a>) exclusively for purposes of ELLS summer school \"Practical Introduction into Programming with Python\". Any distribution or reproduction of this material, in whole or in part, without prior written consent of the authors is prohibited.</p>\n",
        "    <p>This material is shared under the <b>Creative Commons Attribution-NonCommercial-NoDerivatives 4.0 International Public License</b>, <a href=\"https://creativecommons.org/licenses/by-nc-nd/4.0/\">link</a>.</p>\n",
        "</div>\n"
      ]
    }
  ],
  "metadata": {
    "colab": {
      "provenance": [],
      "include_colab_link": true
    },
    "kernelspec": {
      "display_name": "Python 3",
      "name": "python3"
    },
    "language_info": {
      "codemirror_mode": {
        "name": "ipython",
        "version": 3
      },
      "file_extension": ".py",
      "mimetype": "text/x-python",
      "name": "python",
      "nbconvert_exporter": "python",
      "pygments_lexer": "ipython3",
      "version": "3.12.1"
    }
  },
  "nbformat": 4,
  "nbformat_minor": 0
}