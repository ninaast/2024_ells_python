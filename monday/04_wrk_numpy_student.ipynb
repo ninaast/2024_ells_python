{
  "cells": [
    {
      "cell_type": "markdown",
      "metadata": {
        "id": "view-in-github",
        "colab_type": "text"
      },
      "source": [
        "<a href=\"https://colab.research.google.com/github/aleksejalex/2024_ells_python/blob/main/monday/04_wrk_numpy_student.ipynb\" target=\"_parent\"><img src=\"https://colab.research.google.com/assets/colab-badge.svg\" alt=\"Open In Colab\"/></a>"
      ]
    },
    {
      "cell_type": "markdown",
      "metadata": {
        "id": "pRbDDh0Uf25z"
      },
      "source": [
        "# ELLS - Practical Introduction into Programming with Python\n",
        "\n",
        "<a href=\"https://pef.czu.cz/en/\"><img src=\"https://aleksejalex.4fan.cz/ells/temp_banner.jpeg?\" alt=\"banner\" width=\"1000\"></a>\n",
        "\n",
        "\n",
        "\n"
      ]
    },
    {
      "cell_type": "markdown",
      "metadata": {
        "id": "LQsAPgdUvpSd"
      },
      "source": [
        "[GitHub Repository](https://github.com/aleksejalex/2024_ells_python)"
      ]
    },
    {
      "cell_type": "markdown",
      "metadata": {
        "id": "HRoCPFdVjWnR"
      },
      "source": [
        "\n",
        "## NumPy Workshop Outline\n",
        "\n",
        "<a href=\"https://numpy.org/\"><img src=\"https://numpy.org/doc/stable/_static/numpylogo.svg\" alt=\"logo\" width=\"400\" align=\"right\"></a>= library created to work with *numerical data*:\n",
        "\n",
        "## Part 1: Creating NumPy Arrays\n",
        "- Using `np.array()` to create arrays from Python lists.\n",
        "- Generating arrays with `np.zeros()` and `np.ones()`.\n",
        "- Using `np.arange()` for array creation.\n",
        "- Exploring array attributes (shape, dtype, ndim, size).\n",
        "- Reshaping arrays with `np.reshape()`.\n",
        "\n",
        "## Part 2: Array Indexing and Slicing\n",
        "- Accessing elements and rows in a NumPy array.\n",
        "- Slicing subarrays in NumPy arrays.\n",
        "- Using negative indices for indexing.\n",
        "- Combining indexing and slicing.\n",
        "- Modifying array elements using indexing.\n",
        "\n",
        "## Part 3: Array Operations\n",
        "- Element-wise Operations: Arithmetic operations (+, -, *, /).\n",
        "- Array Broadcasting: Understanding how NumPy handles operations on arrays of different shapes.\n",
        "\n",
        "## Part 4: Aggregation Functions\n",
        "- Basic Aggregation: Computing statistics like min, max, sum, mean.\n",
        "\n",
        "## Part 5: Advanced Indexing and Filtering\n",
        "- Boolean Indexing: Selecting elements based on conditions.\n",
        "- Fancy Indexing: Using integer arrays to access elements.\n",
        "\n",
        "## Part 6: Advanced NumPy Techniques\n",
        "- Linear Algebra Operations: Matrix multiplication, determinant, inverse.\n",
        "- Array Manipulation: Reshaping, stacking, splitting arrays.\n"
      ]
    },
    {
      "cell_type": "markdown",
      "metadata": {
        "id": "tPK9rnLirTcb"
      },
      "source": [
        "# Part 1 - Creating NumPy Arrays\n"
      ]
    },
    {
      "cell_type": "markdown",
      "metadata": {
        "id": "MEF1rwIJrTcb"
      },
      "source": [
        "### Task 1: Creating and manipulating NumPy arrays\n",
        " - Create a NumPy array from the list `[5, 10, 15, 20, 25, 30]`.\n",
        "\n",
        " - Then generate a 3x3 array filled with ones and multiply it by 5.\n",
        "\n",
        " - Finally, create an array with values ranging from 10 to 50 with a step of 5 and reshape it to a 3x3 array.\n",
        "\n",
        " - Print all arrays.\n"
      ]
    },
    {
      "cell_type": "code",
      "source": [
        "# your code here ..."
      ],
      "metadata": {
        "id": "uw8lQURWsLIT"
      },
      "execution_count": 8,
      "outputs": []
    },
    {
      "cell_type": "markdown",
      "metadata": {
        "id": "PkKVgxSUrTcd"
      },
      "source": [
        "# Part 2: Array Indexing and Slicing"
      ]
    },
    {
      "cell_type": "markdown",
      "metadata": {
        "id": "6kay8l4VrTcf"
      },
      "source": [
        "### Task 1: Advanced Indexing and Slicing\n",
        "Create a 6x6 array using `np.arange(36).reshape(6, 6)`. Access and print the element at the 5th row, 4th column, the entire third row, and a subarray consisting of the first four rows and last three columns.\n"
      ]
    },
    {
      "cell_type": "code",
      "source": [
        "# your code here ..."
      ],
      "metadata": {
        "id": "ejHzLiLLAkKJ"
      },
      "execution_count": 9,
      "outputs": []
    },
    {
      "cell_type": "markdown",
      "metadata": {
        "id": "1ChnYrHgrTch"
      },
      "source": [
        "# Part 3: Array Operations"
      ]
    },
    {
      "cell_type": "markdown",
      "metadata": {
        "id": "QOKDfaGerTch"
      },
      "source": [
        "### Task 1: Complex Element-wise Operations\n",
        "Create two 2x3 arrays: `array1 = np.array([[1, 2, 3], [4, 5, 6]])` and `array2 = np.array([[7, 8, 9], [10, 11, 12]])`. Perform element-wise addition, subtraction, multiplication, and division. Then compute the element-wise square root of `array1` and the element-wise exponential of `array2`. Print all results.\n"
      ]
    },
    {
      "cell_type": "code",
      "source": [
        "# your code here ..."
      ],
      "metadata": {
        "id": "TKcOMdAtAhmF"
      },
      "execution_count": 10,
      "outputs": []
    },
    {
      "cell_type": "markdown",
      "metadata": {
        "id": "84RzJFxvrTci"
      },
      "source": [
        "# Part 4: Aggregation Functions"
      ]
    },
    {
      "cell_type": "markdown",
      "metadata": {
        "id": "WOuKc3H7rTcj"
      },
      "source": [
        "### Task 1: Advanced Aggregation\n",
        "Create a 4x4 array using `np.array([[2, 3, 5, 7], [11, 13, 17, 19], [23, 29, 31, 37], [41, 43, 47, 53]])`. Compute and print the minimum, maximum, sum, mean, standard deviation, and variance of the entire array, as well as the sum of elements along each row.\n"
      ]
    },
    {
      "cell_type": "code",
      "execution_count": 11,
      "metadata": {
        "id": "8Wb0J4yLrTcj"
      },
      "outputs": [],
      "source": [
        "# your code here ..."
      ]
    },
    {
      "cell_type": "markdown",
      "metadata": {
        "id": "VmvWBbklrTck"
      },
      "source": [
        "# Part 5: Advanced Indexing and Filtering"
      ]
    },
    {
      "cell_type": "markdown",
      "metadata": {
        "id": "LtiCco70rTck"
      },
      "source": [
        "### Task 1: Boolean and Fancy Indexing\n",
        "Create a NumPy array `[5, 15, 25, 35, 45, 55, 65]`. Use Boolean indexing to select elements greater than 20. Use fancy indexing to select elements at indices `[0, 2, 4, 6]` and print the results.\n"
      ]
    },
    {
      "cell_type": "code",
      "execution_count": 12,
      "metadata": {
        "id": "X7_rQz9grTck"
      },
      "outputs": [],
      "source": [
        "# your code here ..."
      ]
    },
    {
      "cell_type": "markdown",
      "metadata": {
        "id": "3OE3RD2JrTcl"
      },
      "source": [
        "# Part 6: Advanced NumPy Techniques"
      ]
    },
    {
      "cell_type": "markdown",
      "metadata": {
        "id": "Rm60-dKarTcl"
      },
      "source": [
        "### Task 1: Linear Algebra and Array Manipulation\n",
        "Create a 2x2 matrix `matrix = np.array([[2, 3], [1, 4]])`. Compute and print the determinant and inverse of the matrix. Then create a 1x4 array `[10, 20, 30, 40]`, reshape it to a 2x2 array, and stack it vertically with the original matrix. Finally, split the stacked array into two equal arrays and print all results.\n"
      ]
    },
    {
      "cell_type": "code",
      "execution_count": 13,
      "metadata": {
        "id": "ErfHn5W9rTcl"
      },
      "outputs": [],
      "source": [
        "# your code here ..."
      ]
    },
    {
      "cell_type": "markdown",
      "metadata": {
        "id": "oWDO6JL6r14R"
      },
      "source": [
        "# Summary\n",
        "- Part 1: Creating NumPy Arrays\n",
        "- Part 2: Array Indexing and Slicing\n",
        "- Part 3: Array Operations\n",
        "- Part 4: Aggregation Functions\n",
        "- Part 5: Advanced Indexing and Filtering\n",
        "- Part 6: Advanced NumPy Techniques\n"
      ]
    },
    {
      "cell_type": "code",
      "source": [],
      "metadata": {
        "id": "KQ95Stx_4Kkq"
      },
      "execution_count": 13,
      "outputs": []
    },
    {
      "cell_type": "markdown",
      "metadata": {
        "id": "ObAKPgeNcZ9e"
      },
      "source": [
        "<div style=\"font-style: italic; font-size: 14px;\">\n",
        "    <p>This material was prepared by Department of Information Engineering (<a href=\"https://www.pef.czu.cz/en\">PEF ČZU</a>) exclusively for purposes of ELLS summer school \"Practical Introduction into Programming with Python\". Any distribution or reproduction of this material, in whole or in part, without prior written consent of the authors is prohibited.</p>\n",
        "    <p>This material is shared under the <b>Creative Commons Attribution-NonCommercial-NoDerivatives 4.0 International Public License</b>, <a href=\"https://creativecommons.org/licenses/by-nc-nd/4.0/\">link</a>.</p>\n",
        "</div>\n"
      ]
    }
  ],
  "metadata": {
    "colab": {
      "provenance": [],
      "include_colab_link": true
    },
    "kernelspec": {
      "display_name": "Python 3",
      "name": "python3"
    },
    "language_info": {
      "codemirror_mode": {
        "name": "ipython",
        "version": 3
      },
      "file_extension": ".py",
      "mimetype": "text/x-python",
      "name": "python",
      "nbconvert_exporter": "python",
      "pygments_lexer": "ipython3",
      "version": "3.12.1"
    }
  },
  "nbformat": 4,
  "nbformat_minor": 0
}