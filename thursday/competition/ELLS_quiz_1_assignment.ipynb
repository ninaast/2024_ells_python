{
  "nbformat": 4,
  "nbformat_minor": 0,
  "metadata": {
    "colab": {
      "provenance": []
    },
    "kernelspec": {
      "name": "python3",
      "display_name": "Python 3"
    },
    "language_info": {
      "name": "python"
    }
  },
  "cells": [
    {
      "cell_type": "markdown",
      "source": [
        "# MPG dataset analysis and prediction"
      ],
      "metadata": {
        "id": "84b8Cd6coVkn"
      }
    },
    {
      "cell_type": "markdown",
      "source": [
        "Your task is to analyze the mpg dataset using techniques learned in the course and create a multiple linear regression model to predict `mpg` (miles per gallon).\n",
        "\n",
        "The notebook consists of two parts:\n",
        "\n",
        "  1. Analyzing the data (summary statistics and graphical analysis).\n",
        "  2. Creating a multiple linear regression model.\n",
        "  \n",
        "In comparison with the course, there are two new concepts:\n",
        "  1. Dummy variables for categorical attributes.\n",
        "  2. Mean absolute error (MAE).\n",
        "  \n",
        "These concepts will be explained in the appropriate sections.\n",
        "\n",
        "\n",
        "\n"
      ],
      "metadata": {
        "id": "IeM50Z2johy1"
      }
    },
    {
      "cell_type": "markdown",
      "source": [
        "### Data Description\n",
        "\n",
        "The data we are using is modified [auto mpg](https://archive.ics.uci.edu/ml/datasets/auto+mpg) dataset taken from UCI repository.\n",
        "\n",
        "Information regarding data<br>\n",
        "&emsp;&emsp;&emsp;&emsp;**Title:** Auto-Mpg Data<br>\n",
        "&emsp;&emsp;&emsp;&emsp;**Number of Instances:** 398<br>\n",
        "&emsp;&emsp;&emsp;&emsp;**Number of Attributes:** 7 <br>\n",
        "&emsp;&emsp;&emsp;&emsp;**Attribute Information:**\n",
        "\n",
        "    1. mpg:           continuous\n",
        "    2. displacement:  continuous\n",
        "    3. horsepower:    continuous\n",
        "    4. weight:        continuous\n",
        "    5. model year:    multi-valued discrete\n",
        "    6. origin:        multi-valued discrete\n",
        "    \n",
        "All the attributes are self-explanatory, except (maybe) displacement. ([definition](https://en.wikipedia.org/wiki/Engine_displacement))."
      ],
      "metadata": {
        "id": "WN3puZX7uQPL"
      }
    },
    {
      "cell_type": "markdown",
      "source": [
        "### Tasks\n",
        "\n",
        "1. Load CSV data into a pandas DataFrame.\n",
        "2. Explore data:\n",
        "   * Specify which variables are numerical and which are categorical variables.\n",
        "   * Calculate number of unique values for each variable.\n",
        "   * Detect missing values (`NaN` values).\n",
        "3. If there are any `NaN` values, filter them out.\n",
        "\n",
        "\n",
        "\n",
        "\n"
      ],
      "metadata": {
        "id": "0j0wI5GbsijI"
      }
    },
    {
      "cell_type": "markdown",
      "source": [
        "### Hints\n",
        "\n",
        "1. As there are too few observations for the `model_year` variable, it can be analyzed as a categorical variable.\n",
        "2. A useful method for the description of data types is `.info()`.\n"
      ],
      "metadata": {
        "id": "iXyZgLlUusuO"
      }
    },
    {
      "cell_type": "code",
      "source": [
        "# import all necessary libraries\n",
        "import itertools\n",
        "import numpy as np\n",
        "import pandas as pd\n",
        "import seaborn as sns\n",
        "import matplotlib.pyplot as plt\n",
        "import statsmodels.api as sm"
      ],
      "metadata": {
        "id": "oRrgdC2HvaP7"
      },
      "execution_count": null,
      "outputs": []
    },
    {
      "cell_type": "markdown",
      "source": [
        "We will first import the data into a pandas dataframe and inspect it's properties."
      ],
      "metadata": {
        "id": "fDkacRN5vhdZ"
      }
    },
    {
      "cell_type": "code",
      "source": [
        "# Load the dataset from the\n",
        "df = pd.read_csv(\"https://gist.githubusercontent.com/Ruzejjur/7c3507e8e99a1013658db5f5eace3d33/raw/a86c1ac1e377fa9609109816df8942f13d2f327c/gistfile1.txt\")\n",
        "\n",
        "# Display the first few rows of the dataset\n",
        "df.head()\n"
      ],
      "metadata": {
        "id": "SaMv9p5Vve6U",
        "colab": {
          "base_uri": "https://localhost:8080/",
          "height": 201
        },
        "outputId": "709ca2b3-0edd-4d0c-8ccb-f81da8212052"
      },
      "execution_count": null,
      "outputs": [
        {
          "output_type": "execute_result",
          "data": {
            "text/plain": [
              "    mpg  displacement  horsepower  weight  model_year origin\n",
              "0  18.0         307.0       130.0    3504          70    usa\n",
              "1  15.0         350.0       165.0    3693          70    usa\n",
              "2  18.0         318.0       150.0    3436          70    usa\n",
              "3  16.0         304.0       150.0    3433          70    usa\n",
              "4  17.0         302.0       140.0    3449          70    usa"
            ],
            "text/html": [
              "\n",
              "  <div id=\"df-37c635d4-ad67-47c0-adb2-f84b8450c042\" class=\"colab-df-container\">\n",
              "    <div>\n",
              "<style scoped>\n",
              "    .dataframe tbody tr th:only-of-type {\n",
              "        vertical-align: middle;\n",
              "    }\n",
              "\n",
              "    .dataframe tbody tr th {\n",
              "        vertical-align: top;\n",
              "    }\n",
              "\n",
              "    .dataframe thead th {\n",
              "        text-align: right;\n",
              "    }\n",
              "</style>\n",
              "<table border=\"1\" class=\"dataframe\">\n",
              "  <thead>\n",
              "    <tr style=\"text-align: right;\">\n",
              "      <th></th>\n",
              "      <th>mpg</th>\n",
              "      <th>displacement</th>\n",
              "      <th>horsepower</th>\n",
              "      <th>weight</th>\n",
              "      <th>model_year</th>\n",
              "      <th>origin</th>\n",
              "    </tr>\n",
              "  </thead>\n",
              "  <tbody>\n",
              "    <tr>\n",
              "      <th>0</th>\n",
              "      <td>18.0</td>\n",
              "      <td>307.0</td>\n",
              "      <td>130.0</td>\n",
              "      <td>3504</td>\n",
              "      <td>70</td>\n",
              "      <td>usa</td>\n",
              "    </tr>\n",
              "    <tr>\n",
              "      <th>1</th>\n",
              "      <td>15.0</td>\n",
              "      <td>350.0</td>\n",
              "      <td>165.0</td>\n",
              "      <td>3693</td>\n",
              "      <td>70</td>\n",
              "      <td>usa</td>\n",
              "    </tr>\n",
              "    <tr>\n",
              "      <th>2</th>\n",
              "      <td>18.0</td>\n",
              "      <td>318.0</td>\n",
              "      <td>150.0</td>\n",
              "      <td>3436</td>\n",
              "      <td>70</td>\n",
              "      <td>usa</td>\n",
              "    </tr>\n",
              "    <tr>\n",
              "      <th>3</th>\n",
              "      <td>16.0</td>\n",
              "      <td>304.0</td>\n",
              "      <td>150.0</td>\n",
              "      <td>3433</td>\n",
              "      <td>70</td>\n",
              "      <td>usa</td>\n",
              "    </tr>\n",
              "    <tr>\n",
              "      <th>4</th>\n",
              "      <td>17.0</td>\n",
              "      <td>302.0</td>\n",
              "      <td>140.0</td>\n",
              "      <td>3449</td>\n",
              "      <td>70</td>\n",
              "      <td>usa</td>\n",
              "    </tr>\n",
              "  </tbody>\n",
              "</table>\n",
              "</div>\n",
              "    <div class=\"colab-df-buttons\">\n",
              "\n",
              "  <div class=\"colab-df-container\">\n",
              "    <button class=\"colab-df-convert\" onclick=\"convertToInteractive('df-37c635d4-ad67-47c0-adb2-f84b8450c042')\"\n",
              "            title=\"Convert this dataframe to an interactive table.\"\n",
              "            style=\"display:none;\">\n",
              "\n",
              "  <svg xmlns=\"http://www.w3.org/2000/svg\" height=\"24px\" viewBox=\"0 -960 960 960\">\n",
              "    <path d=\"M120-120v-720h720v720H120Zm60-500h600v-160H180v160Zm220 220h160v-160H400v160Zm0 220h160v-160H400v160ZM180-400h160v-160H180v160Zm440 0h160v-160H620v160ZM180-180h160v-160H180v160Zm440 0h160v-160H620v160Z\"/>\n",
              "  </svg>\n",
              "    </button>\n",
              "\n",
              "  <style>\n",
              "    .colab-df-container {\n",
              "      display:flex;\n",
              "      gap: 12px;\n",
              "    }\n",
              "\n",
              "    .colab-df-convert {\n",
              "      background-color: #E8F0FE;\n",
              "      border: none;\n",
              "      border-radius: 50%;\n",
              "      cursor: pointer;\n",
              "      display: none;\n",
              "      fill: #1967D2;\n",
              "      height: 32px;\n",
              "      padding: 0 0 0 0;\n",
              "      width: 32px;\n",
              "    }\n",
              "\n",
              "    .colab-df-convert:hover {\n",
              "      background-color: #E2EBFA;\n",
              "      box-shadow: 0px 1px 2px rgba(60, 64, 67, 0.3), 0px 1px 3px 1px rgba(60, 64, 67, 0.15);\n",
              "      fill: #174EA6;\n",
              "    }\n",
              "\n",
              "    .colab-df-buttons div {\n",
              "      margin-bottom: 4px;\n",
              "    }\n",
              "\n",
              "    [theme=dark] .colab-df-convert {\n",
              "      background-color: #3B4455;\n",
              "      fill: #D2E3FC;\n",
              "    }\n",
              "\n",
              "    [theme=dark] .colab-df-convert:hover {\n",
              "      background-color: #434B5C;\n",
              "      box-shadow: 0px 1px 3px 1px rgba(0, 0, 0, 0.15);\n",
              "      filter: drop-shadow(0px 1px 2px rgba(0, 0, 0, 0.3));\n",
              "      fill: #FFFFFF;\n",
              "    }\n",
              "  </style>\n",
              "\n",
              "    <script>\n",
              "      const buttonEl =\n",
              "        document.querySelector('#df-37c635d4-ad67-47c0-adb2-f84b8450c042 button.colab-df-convert');\n",
              "      buttonEl.style.display =\n",
              "        google.colab.kernel.accessAllowed ? 'block' : 'none';\n",
              "\n",
              "      async function convertToInteractive(key) {\n",
              "        const element = document.querySelector('#df-37c635d4-ad67-47c0-adb2-f84b8450c042');\n",
              "        const dataTable =\n",
              "          await google.colab.kernel.invokeFunction('convertToInteractive',\n",
              "                                                    [key], {});\n",
              "        if (!dataTable) return;\n",
              "\n",
              "        const docLinkHtml = 'Like what you see? Visit the ' +\n",
              "          '<a target=\"_blank\" href=https://colab.research.google.com/notebooks/data_table.ipynb>data table notebook</a>'\n",
              "          + ' to learn more about interactive tables.';\n",
              "        element.innerHTML = '';\n",
              "        dataTable['output_type'] = 'display_data';\n",
              "        await google.colab.output.renderOutput(dataTable, element);\n",
              "        const docLink = document.createElement('div');\n",
              "        docLink.innerHTML = docLinkHtml;\n",
              "        element.appendChild(docLink);\n",
              "      }\n",
              "    </script>\n",
              "  </div>\n",
              "\n",
              "\n",
              "<div id=\"df-d7e152d2-3c68-4f39-9be6-5e5d7d5a84c4\">\n",
              "  <button class=\"colab-df-quickchart\" onclick=\"quickchart('df-d7e152d2-3c68-4f39-9be6-5e5d7d5a84c4')\"\n",
              "            title=\"Suggest charts\"\n",
              "            style=\"display:none;\">\n",
              "\n",
              "<svg xmlns=\"http://www.w3.org/2000/svg\" height=\"24px\"viewBox=\"0 0 24 24\"\n",
              "     width=\"24px\">\n",
              "    <g>\n",
              "        <path d=\"M19 3H5c-1.1 0-2 .9-2 2v14c0 1.1.9 2 2 2h14c1.1 0 2-.9 2-2V5c0-1.1-.9-2-2-2zM9 17H7v-7h2v7zm4 0h-2V7h2v10zm4 0h-2v-4h2v4z\"/>\n",
              "    </g>\n",
              "</svg>\n",
              "  </button>\n",
              "\n",
              "<style>\n",
              "  .colab-df-quickchart {\n",
              "      --bg-color: #E8F0FE;\n",
              "      --fill-color: #1967D2;\n",
              "      --hover-bg-color: #E2EBFA;\n",
              "      --hover-fill-color: #174EA6;\n",
              "      --disabled-fill-color: #AAA;\n",
              "      --disabled-bg-color: #DDD;\n",
              "  }\n",
              "\n",
              "  [theme=dark] .colab-df-quickchart {\n",
              "      --bg-color: #3B4455;\n",
              "      --fill-color: #D2E3FC;\n",
              "      --hover-bg-color: #434B5C;\n",
              "      --hover-fill-color: #FFFFFF;\n",
              "      --disabled-bg-color: #3B4455;\n",
              "      --disabled-fill-color: #666;\n",
              "  }\n",
              "\n",
              "  .colab-df-quickchart {\n",
              "    background-color: var(--bg-color);\n",
              "    border: none;\n",
              "    border-radius: 50%;\n",
              "    cursor: pointer;\n",
              "    display: none;\n",
              "    fill: var(--fill-color);\n",
              "    height: 32px;\n",
              "    padding: 0;\n",
              "    width: 32px;\n",
              "  }\n",
              "\n",
              "  .colab-df-quickchart:hover {\n",
              "    background-color: var(--hover-bg-color);\n",
              "    box-shadow: 0 1px 2px rgba(60, 64, 67, 0.3), 0 1px 3px 1px rgba(60, 64, 67, 0.15);\n",
              "    fill: var(--button-hover-fill-color);\n",
              "  }\n",
              "\n",
              "  .colab-df-quickchart-complete:disabled,\n",
              "  .colab-df-quickchart-complete:disabled:hover {\n",
              "    background-color: var(--disabled-bg-color);\n",
              "    fill: var(--disabled-fill-color);\n",
              "    box-shadow: none;\n",
              "  }\n",
              "\n",
              "  .colab-df-spinner {\n",
              "    border: 2px solid var(--fill-color);\n",
              "    border-color: transparent;\n",
              "    border-bottom-color: var(--fill-color);\n",
              "    animation:\n",
              "      spin 1s steps(1) infinite;\n",
              "  }\n",
              "\n",
              "  @keyframes spin {\n",
              "    0% {\n",
              "      border-color: transparent;\n",
              "      border-bottom-color: var(--fill-color);\n",
              "      border-left-color: var(--fill-color);\n",
              "    }\n",
              "    20% {\n",
              "      border-color: transparent;\n",
              "      border-left-color: var(--fill-color);\n",
              "      border-top-color: var(--fill-color);\n",
              "    }\n",
              "    30% {\n",
              "      border-color: transparent;\n",
              "      border-left-color: var(--fill-color);\n",
              "      border-top-color: var(--fill-color);\n",
              "      border-right-color: var(--fill-color);\n",
              "    }\n",
              "    40% {\n",
              "      border-color: transparent;\n",
              "      border-right-color: var(--fill-color);\n",
              "      border-top-color: var(--fill-color);\n",
              "    }\n",
              "    60% {\n",
              "      border-color: transparent;\n",
              "      border-right-color: var(--fill-color);\n",
              "    }\n",
              "    80% {\n",
              "      border-color: transparent;\n",
              "      border-right-color: var(--fill-color);\n",
              "      border-bottom-color: var(--fill-color);\n",
              "    }\n",
              "    90% {\n",
              "      border-color: transparent;\n",
              "      border-bottom-color: var(--fill-color);\n",
              "    }\n",
              "  }\n",
              "</style>\n",
              "\n",
              "  <script>\n",
              "    async function quickchart(key) {\n",
              "      const quickchartButtonEl =\n",
              "        document.querySelector('#' + key + ' button');\n",
              "      quickchartButtonEl.disabled = true;  // To prevent multiple clicks.\n",
              "      quickchartButtonEl.classList.add('colab-df-spinner');\n",
              "      try {\n",
              "        const charts = await google.colab.kernel.invokeFunction(\n",
              "            'suggestCharts', [key], {});\n",
              "      } catch (error) {\n",
              "        console.error('Error during call to suggestCharts:', error);\n",
              "      }\n",
              "      quickchartButtonEl.classList.remove('colab-df-spinner');\n",
              "      quickchartButtonEl.classList.add('colab-df-quickchart-complete');\n",
              "    }\n",
              "    (() => {\n",
              "      let quickchartButtonEl =\n",
              "        document.querySelector('#df-d7e152d2-3c68-4f39-9be6-5e5d7d5a84c4 button');\n",
              "      quickchartButtonEl.style.display =\n",
              "        google.colab.kernel.accessAllowed ? 'block' : 'none';\n",
              "    })();\n",
              "  </script>\n",
              "</div>\n",
              "\n",
              "    </div>\n",
              "  </div>\n"
            ],
            "application/vnd.google.colaboratory.intrinsic+json": {
              "type": "dataframe",
              "variable_name": "df",
              "summary": "{\n  \"name\": \"df\",\n  \"rows\": 398,\n  \"fields\": [\n    {\n      \"column\": \"mpg\",\n      \"properties\": {\n        \"dtype\": \"number\",\n        \"std\": 7.815984312565782,\n        \"min\": 9.0,\n        \"max\": 46.6,\n        \"num_unique_values\": 129,\n        \"samples\": [\n          17.7,\n          30.5,\n          30.0\n        ],\n        \"semantic_type\": \"\",\n        \"description\": \"\"\n      }\n    },\n    {\n      \"column\": \"displacement\",\n      \"properties\": {\n        \"dtype\": \"number\",\n        \"std\": 104.26983817119591,\n        \"min\": 68.0,\n        \"max\": 455.0,\n        \"num_unique_values\": 82,\n        \"samples\": [\n          122.0,\n          307.0,\n          360.0\n        ],\n        \"semantic_type\": \"\",\n        \"description\": \"\"\n      }\n    },\n    {\n      \"column\": \"horsepower\",\n      \"properties\": {\n        \"dtype\": \"number\",\n        \"std\": 38.49115993282849,\n        \"min\": 46.0,\n        \"max\": 230.0,\n        \"num_unique_values\": 93,\n        \"samples\": [\n          92.0,\n          100.0,\n          52.0\n        ],\n        \"semantic_type\": \"\",\n        \"description\": \"\"\n      }\n    },\n    {\n      \"column\": \"weight\",\n      \"properties\": {\n        \"dtype\": \"number\",\n        \"std\": 846,\n        \"min\": 1613,\n        \"max\": 5140,\n        \"num_unique_values\": 351,\n        \"samples\": [\n          3730,\n          1995,\n          2215\n        ],\n        \"semantic_type\": \"\",\n        \"description\": \"\"\n      }\n    },\n    {\n      \"column\": \"model_year\",\n      \"properties\": {\n        \"dtype\": \"number\",\n        \"std\": 3,\n        \"min\": 70,\n        \"max\": 82,\n        \"num_unique_values\": 13,\n        \"samples\": [\n          81,\n          79,\n          70\n        ],\n        \"semantic_type\": \"\",\n        \"description\": \"\"\n      }\n    },\n    {\n      \"column\": \"origin\",\n      \"properties\": {\n        \"dtype\": \"category\",\n        \"num_unique_values\": 3,\n        \"samples\": [\n          \"usa\",\n          \"japan\",\n          \"europe\"\n        ],\n        \"semantic_type\": \"\",\n        \"description\": \"\"\n      }\n    }\n  ]\n}"
            }
          },
          "metadata": {},
          "execution_count": 13
        }
      ]
    },
    {
      "cell_type": "markdown",
      "source": [
        "# Analysis of variables"
      ],
      "metadata": {
        "id": "vfalXN3k3oPI"
      }
    },
    {
      "cell_type": "markdown",
      "source": [
        "Analyze the categorical and numerical variables separately."
      ],
      "metadata": {
        "id": "pnp-3ESSuOdx"
      }
    },
    {
      "cell_type": "markdown",
      "source": [
        "## Analysis of categorical variables\n"
      ],
      "metadata": {
        "id": "3RVff5Ul3r-M"
      }
    },
    {
      "cell_type": "markdown",
      "source": [
        "### Tasks\n",
        "\n",
        "1. Subset the dataset only for the categorical variables.\n",
        "2. Explore unique values of these variables.\n",
        "3. Calculate summary statistics for those categorical variables which are numeric:\n",
        "   * min\n",
        "   * max\n",
        "   * mean\n",
        "   * median\n",
        "   * variance\n",
        "   * standard deviation\n",
        "4. Create graphical analysis of the categorical variables:\n",
        "   * Create a count plot for each categorical variable (use `sns.countplot()`).\n",
        "5. Describe the insights from the analysis:\n",
        "   * Is the dataset balanced with respect to individual categories?\n"
      ],
      "metadata": {
        "id": "C_DdhSQrubHO"
      }
    },
    {
      "cell_type": "markdown",
      "source": [
        "### Hints\n",
        "\n",
        "1. A useful method for the summary statistics is `.describe()` from the pandas package.\n",
        "2. We would like the data to be evenly represented across categories (i.e., uniformly distributed). Are the data uniformly distributed across the categories?\n"
      ],
      "metadata": {
        "id": "koHJmKu-v4U5"
      }
    },
    {
      "cell_type": "code",
      "source": [],
      "metadata": {
        "id": "INOQ99iTMUDT"
      },
      "execution_count": null,
      "outputs": []
    },
    {
      "cell_type": "markdown",
      "source": [
        "## Analysis on Numerical Attributes"
      ],
      "metadata": {
        "id": "h7wY2ZFeICwC"
      }
    },
    {
      "cell_type": "markdown",
      "source": [
        "### Tasks\n",
        "\n",
        "1. Subset the dataset only for the numerical variables.\n",
        "2. Calculate summary statistics for these variables:\n",
        "   * min\n",
        "   * max\n",
        "   * mean\n",
        "   * median\n",
        "   * variance\n",
        "   * standard deviation\n",
        "3. Create graphical analysis of the numeric variables:\n",
        "   * Create one (or more) of the following plots for each numeric variable:\n",
        "      * Histogram (`sns.histplot()`)\n",
        "      * Box plot (`sns.boxplot()`)\n",
        "      * Violin plot (`sns.violinplot()`)\n",
        "4. Analyze the relationships between individual numerical variables:\n",
        "   * Use `sns.pairplot()`.\n",
        "5. Describe the insights from the analysis:\n",
        "   * Describe the distribution of individual numeric variables.\n",
        "   * Are there any linear relationships between the numeric variables?\n",
        "     * For example: If the weight increases, does the horsepower increase/decrease?\n"
      ],
      "metadata": {
        "id": "BvuShHvnzP-9"
      }
    },
    {
      "cell_type": "markdown",
      "source": [
        "### Hints\n",
        "\n",
        "1. A useful method for the summary statistics is `.describe()` from the pandas package.\n"
      ],
      "metadata": {
        "id": "8nKn4NohzVup"
      }
    },
    {
      "cell_type": "code",
      "source": [],
      "metadata": {
        "id": "-Ccp5XZJMfRy"
      },
      "execution_count": null,
      "outputs": []
    },
    {
      "cell_type": "markdown",
      "source": [
        "## Analysis of categorical vs. numerical variables"
      ],
      "metadata": {
        "id": "-BiiCnIFLlLG"
      }
    },
    {
      "cell_type": "markdown",
      "source": [
        "### Tasks\n",
        "\n",
        "1. Work with the original dataset (containing both categorical and numeric variables).\n",
        "2. Explore the relationship between categorical variables and numeric variables:\n",
        "   * Create boxen plots of categorical vs. numerical variables for each variable (use `sns.boxenplot()`).\n",
        "3. (Optional) Create a violin plot of categorical vs. numerical variables for each variable (use `sns.violinplot()`).\n",
        "4. Create a line plot of `model_year` vs. individual numerical variables.\n",
        "5. Describe what you found from the plots in tasks 2, 3, and 4.\n"
      ],
      "metadata": {
        "id": "CdZmNfTb8JHi"
      }
    },
    {
      "cell_type": "code",
      "source": [],
      "metadata": {
        "id": "KKmOg41INhZD"
      },
      "execution_count": null,
      "outputs": []
    },
    {
      "cell_type": "markdown",
      "source": [
        "# Prediction model"
      ],
      "metadata": {
        "id": "wIudm55_PmH_"
      }
    },
    {
      "cell_type": "markdown",
      "source": [
        "### Tasks\n",
        "\n",
        "Create a multivariable regression model based on the variables in the dataset for prediction of `mpg` based on all other variables.\n",
        "\n",
        "1. Separate the dependent and independent variables:\n",
        "   * Name the independent variables dataframe `X`.\n",
        "   * Name the dependent variable `Y`.\n",
        "2. Convert any categorical variables into dummy variables (for explanation see hints) using (you can copy the code into the code block):\n",
        "\n",
        "```python\n",
        "# Convert the categorical variables into dummy variables\n",
        "\n",
        "# Define names of columns to be converted to dummy varaibles\n",
        "cat_columns_to_be_converted = np.array([])\n",
        "\n",
        "# Modify the X dataframe of independent variables\n",
        "X = pd.get_dummies(X, columns=cat_columns_to_be_converted, drop_first=True)\n",
        "\n",
        "# Convert dummy columns to int as the sm.OLS() requires numerical variables\n",
        "\n",
        "# For each column in the dataframe\n",
        "for col in X.columns:\n",
        "  # Check if the column type is boolean\n",
        "    if X[col].dtype == 'bool':\n",
        "      # if yes make it 0 or 1\n",
        "        X[col] = X[col].astype(int)\n"
      ],
      "metadata": {
        "id": "H8TG96mZ-S10"
      }
    },
    {
      "cell_type": "markdown",
      "source": [
        "3. Analyze the results:\n",
        "   * What is the R²? Is it high or low?\n",
        "   * Are all of the variables statistically significant?\n",
        "4. Create the residual plot:\n",
        "   * Are the residuals randomly distributed around 0? Are there any patterns in the residual plot?\n"
      ],
      "metadata": {
        "id": "jaWjKU8_AMk5"
      }
    },
    {
      "cell_type": "code",
      "source": [],
      "metadata": {
        "id": "KNAjxQgMNmD2"
      },
      "execution_count": null,
      "outputs": []
    },
    {
      "cell_type": "markdown",
      "source": [
        "## Testing model accuracy"
      ],
      "metadata": {
        "id": "BjjloKnRWuBa"
      }
    },
    {
      "cell_type": "markdown",
      "source": [
        "## DO NOT MODIFY THIS CODE!!!\n",
        "\n",
        "Just uncomment the code and run it after you are finished with the previous sections.\n"
      ],
      "metadata": {
        "id": "5z_b0APsBjP_"
      }
    },
    {
      "cell_type": "markdown",
      "source": [
        "In this section, the model you trained above is going to be evaluated using repeated random Train-Test dataset splitting.\n",
        "\n",
        "The dataset is going to be split into two parts:\n",
        "1. *Train dataset* - This is the dataset on which the model is going to be trained.\n",
        "2. *Test dataset* - This is the set of data which the model 'has not seen yet' and it is used to test how well the model predicts `mpg` with new data.\n",
        "\n",
        "The splitting is done 1000 times, randomly assigning data to Train and Test datasets. The split is as follows:\n",
        "1. 80% is assigned to the Train dataset.\n",
        "2. 20% is assigned to the Test dataset.\n",
        "\n",
        "On each iteration, Mean Absolute Error (**MAE**) is calculated.\n",
        "\n",
        "**MAE** is defined as the average absolute difference between the actual values and the predicted values.\n",
        "\n",
        "Mathematically, it is given by:\n",
        "\n",
        "$$\n",
        "\\text{MAE} = \\frac{1}{n} \\sum_{i=1}^{n} |y_i - \\hat{y}_i|\n",
        "$$\n",
        "\n",
        "So if MAE is 0, this means that the model predicts the values exactly. In reality, MAE = 0 is not achievable, so our goal is to have MAE as low as possible.\n"
      ],
      "metadata": {
        "id": "SEzsA6fNBoVs"
      }
    },
    {
      "cell_type": "markdown",
      "source": [
        "### Tasks\n",
        "\n",
        "Run the code below and describe the results.\n",
        "\n",
        "How good is our model for the prediction of `mpg` based on other variables?\n",
        "i.e. How precise is your model in predicting the `mpg`?\n"
      ],
      "metadata": {
        "id": "p8P11BzDD1kv"
      }
    },
    {
      "cell_type": "markdown",
      "source": [
        "### Hints\n",
        "\n",
        "It is crucial to name the independent variables dataset as `X` and the dependent variable as `Y` for the code below to function.\n"
      ],
      "metadata": {
        "id": "SbLAyhjNEIHi"
      }
    },
    {
      "cell_type": "code",
      "source": [
        "# import statistics\n",
        "# from sklearn.model_selection import train_test_split\n",
        "# from sklearn.metrics import mean_absolute_error\n",
        "# import statsmodels.api as sm\n",
        "\n",
        "# model_accuracies = []\n",
        "\n",
        "# for repetition in range(1000):\n",
        "#     # Split the dataset into training and testing sets\n",
        "#     (training_inputs, testing_inputs, training_values, testing_values) = train_test_split(X, Y, test_size=0.2)\n",
        "\n",
        "#     # Add a constant to the training inputs\n",
        "#     training_inputs = sm.add_constant(training_inputs)\n",
        "#     testing_inputs = sm.add_constant(testing_inputs)\n",
        "\n",
        "#     # Train the model using the training set with sm.OLS\n",
        "#     model = sm.OLS(training_values, training_inputs).fit()\n",
        "\n",
        "#     # Predict the values on the testing set\n",
        "#     predictions = model.predict(testing_inputs)\n",
        "\n",
        "#     # Calculate the mean absolute error on the testing set\n",
        "#     mae = mean_absolute_error(testing_values, predictions)\n",
        "#     model_accuracies.append(mae)\n",
        "\n",
        "# # Print the results\n",
        "# print(\"Min. model MAE\", min(model_accuracies))\n",
        "# print(\"Max. model MAE\", max(model_accuracies))\n",
        "# print(\"Mean model MAE\", statistics.mean(model_accuracies))\n",
        "\n",
        "# print(\"Median model MAE\", statistics.median(model_accuracies))\n",
        "\n",
        "# # Plot the model accuracies\n",
        "# x = np.array(range(1000))\n",
        "# plt.plot(x, model_accuracies)\n",
        "# plt.xlabel('Repetition')\n",
        "# plt.ylabel('Mean Absolute Error (MAE)')\n",
        "# plt.title('Model MAE over 1000 Repetitions')\n",
        "# plt.show()\n"
      ],
      "metadata": {
        "id": "1TWLNrZqWNmI"
      },
      "execution_count": null,
      "outputs": []
    }
  ]
}