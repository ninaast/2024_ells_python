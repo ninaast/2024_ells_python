{
  "nbformat": 4,
  "nbformat_minor": 0,
  "metadata": {
    "colab": {
      "provenance": []
    },
    "kernelspec": {
      "name": "python3",
      "display_name": "Python 3"
    },
    "language_info": {
      "name": "python"
    }
  },
  "cells": [
    {
      "cell_type": "markdown",
      "source": [
        "# Wine quality analysis and prediction"
      ],
      "metadata": {
        "id": "84b8Cd6coVkn"
      }
    },
    {
      "cell_type": "markdown",
      "source": [
        "Your task is to analyze the Wine quality dataset using techniques learned in the course and create a perceptron model to predict wine quality based on existing variables.\n",
        "\n",
        "The notebook consists of two parts:\n",
        "\n",
        "  1. Analyzing the data (summary statistics and graphical analysis)\n",
        "  2. Creating a perceptron model."
      ],
      "metadata": {
        "id": "IeM50Z2johy1"
      }
    },
    {
      "cell_type": "markdown",
      "source": [
        "### Data Description\n",
        "\n",
        "The data we are using is modified [Wine Quality - Red Wine](https://archive.ics.uci.edu/ml/datasets/wine+quality) datasets taken from the UCI repository.\n",
        "\n",
        "#### Red Wine Data\n",
        "\n",
        "Information regarding data:\n",
        "&emsp;&emsp;&emsp;&emsp;**Title:** Wine Quality<br>\n",
        "&emsp;&emsp;&emsp;&emsp;**Number of Instances:** 1599<br>\n",
        "&emsp;&emsp;&emsp;&emsp;**Number of Attributes:** 6<br>\n",
        "&emsp;&emsp;&emsp;&emsp;**Attribute Information:**\n",
        "\n",
        "    1. fixed acidity:           continuous\n",
        "    2. volatile acidity:        continuous\n",
        "    3. residual sugar:          continuous\n",
        "    4. density:                 continuous\n",
        "    5. alcohol:                 continuous\n",
        "    6. quality:                 multi-valued discrete\n",
        "\n",
        "### Variable Descriptions\n",
        "\n",
        "Here is an explanation of each variable in the datasets:\n",
        "\n",
        "1. **fixed acidity**: Refers to the non-volatile acids in wine such as tartaric acid. It contributes to the wine's tartness.\n",
        "2. **volatile acidity**: Measures the amount of acetic acid in wine, which at high levels can lead to an unpleasant vinegar taste.\n",
        "3. **residual sugar**: The amount of sugar remaining after fermentation stops. It is measured in grams per liter and affects the sweetness of wine.\n",
        "4. **density**: The density of wine, close to the density of water. It can be influenced by the presence of sugars, alcohol, and other compounds.\n",
        "5. **alcohol**: The alcohol content of the wine, usually measured as a percentage of volume.\n",
        "6. **quality**: A score between 0 and 10 given by wine experts based on sensory data, representing the overall quality of the wine. Based on these scores, `bad wine` is assigned to wines with a score < 7 and `good wine` to wines with a score ≥ 7.\n"
      ],
      "metadata": {
        "id": "WN3puZX7uQPL"
      }
    },
    {
      "cell_type": "markdown",
      "source": [
        "### Tasks\n",
        "\n",
        "1. Load CSV data into a pandas DataFrame.\n",
        "2. Explore data:\n",
        "   * Specify which variables are numerical and which are categorical variables.\n",
        "   * Calculate the number of unique values for each variable.\n",
        "   * Detect missing values (`NaN` values).\n",
        "   * Detect duplicated rows.\n",
        "3. If there are any `NaN` values, filter them out.\n",
        "4. If there are any duplicated rows, filter them out.\n"
      ],
      "metadata": {
        "id": "0j0wI5GbsijI"
      }
    },
    {
      "cell_type": "markdown",
      "source": [
        "### Hints\n",
        "\n",
        "1. A useful method for the description of data types is `.info()`.\n"
      ],
      "metadata": {
        "id": "yfmIR1ujpeqA"
      }
    },
    {
      "cell_type": "code",
      "source": [
        "# import all necessary libraries\n",
        "import itertools\n",
        "import numpy as np\n",
        "import pandas as pd\n",
        "import seaborn as sns\n",
        "import matplotlib.pyplot as plt\n",
        "\n",
        "from imblearn.over_sampling import SMOTE\n",
        "from sklearn.linear_model import Perceptron\n",
        "from sklearn.preprocessing import StandardScaler\n",
        "from sklearn.model_selection import train_test_split\n",
        "from sklearn.metrics import accuracy_score\n",
        "from sklearn.model_selection import cross_val_score\n",
        "from sklearn.metrics import recall_score"
      ],
      "metadata": {
        "id": "F5c8ttw6pkHN"
      },
      "execution_count": 1,
      "outputs": []
    },
    {
      "cell_type": "markdown",
      "source": [
        "We will first import the data into a pandas dataframe and inspect it's properties."
      ],
      "metadata": {
        "id": "S6y2H1PZrB5B"
      }
    },
    {
      "cell_type": "code",
      "source": [
        "# Load the dataset from the\n",
        "df = pd.read_csv('https://gist.githubusercontent.com/Ruzejjur/a6a086d0160172a14d72c67ac9490a3c/raw/f2d9848162b5491abbf35c5e3d448a41e87edf7b/wine_quality.csv')\n",
        "\n",
        "# Display the first few rows of the dataset\n",
        "df.head()"
      ],
      "metadata": {
        "id": "d3vLfFdsq9Nh"
      },
      "execution_count": null,
      "outputs": []
    },
    {
      "cell_type": "markdown",
      "source": [
        "# Analysis of variables"
      ],
      "metadata": {
        "id": "vfalXN3k3oPI"
      }
    },
    {
      "cell_type": "markdown",
      "source": [
        "Analyze the categorical and numerical variables separately."
      ],
      "metadata": {
        "id": "pnp-3ESSuOdx"
      }
    },
    {
      "cell_type": "markdown",
      "source": [
        "## Analysis of categorical variables\n"
      ],
      "metadata": {
        "id": "3RVff5Ul3r-M"
      }
    },
    {
      "cell_type": "markdown",
      "source": [
        "### Tasks\n",
        "\n",
        "1. Subset the dataset only for the categorical variables.\n",
        "2. Explore unique values of these variables.\n",
        "3. Calculate summary statistics for those categorical variables which are numeric:\n",
        "   * min\n",
        "   * max\n",
        "   * mean\n",
        "   * median\n",
        "   * variance\n",
        "   * standard deviation\n",
        "4. Create graphical analysis of the categorical variables:\n",
        "   * Create a count plot for each categorical variable (use `sns.countplot()`).\n",
        "5. Describe the insights from the analysis:\n",
        "   * Is the dataset balanced with respect to individual categories?\n"
      ],
      "metadata": {
        "id": "C_DdhSQrubHO"
      }
    },
    {
      "cell_type": "markdown",
      "source": [
        "### Hints\n",
        "\n",
        "1. A useful method for the summary statistics is `.describe()` from the pandas package.\n",
        "2. We would like the data to be evenly represented across categories (i.e., uniformly distributed). Are the data uniformly distributed across the categories?\n"
      ],
      "metadata": {
        "id": "lKlYfdNCpll5"
      }
    },
    {
      "cell_type": "code",
      "source": [],
      "metadata": {
        "id": "oaScrb-Ep2JS"
      },
      "execution_count": null,
      "outputs": []
    },
    {
      "cell_type": "markdown",
      "source": [
        "## Analysis on Numerical Attributes"
      ],
      "metadata": {
        "id": "h7wY2ZFeICwC"
      }
    },
    {
      "cell_type": "markdown",
      "source": [
        "### Tasks\n",
        "\n",
        "1. Subset the dataset only for the numerical variables.\n",
        "2. Calculate summary statistics for these variables:\n",
        "   * min\n",
        "   * max\n",
        "   * mean\n",
        "   * median\n",
        "   * variance\n",
        "   * standard deviation\n",
        "3. Create graphical analysis of the numeric variables:\n",
        "   * Create one (or more) of the following plots for each numeric variable:\n",
        "      * Histogram (`sns.histplot()`)\n",
        "      * Box plot (`sns.boxplot()`)\n",
        "      * Violin plot (`sns.violinplot()`)\n",
        "4. Analyze the relationships between individual numerical variables:\n",
        "   * Use `sns.pairplot()`.\n",
        "5. Describe the insights from the analysis:\n",
        "   * Describe the distribution of individual numeric variables.\n",
        "   * Are there any relationships between the numeric variables?\n",
        "     * For example: If the alcohol increases, does the fixed acidity increase/decrease?\n"
      ],
      "metadata": {
        "id": "BvuShHvnzP-9"
      }
    },
    {
      "cell_type": "markdown",
      "source": [
        "### Hints\n",
        "\n",
        "1. A useful method for the summary statistics is `.describe()` from the pandas package.\n"
      ],
      "metadata": {
        "id": "5ht2INi7p4Vj"
      }
    },
    {
      "cell_type": "code",
      "source": [],
      "metadata": {
        "id": "jv7327map-OL"
      },
      "execution_count": null,
      "outputs": []
    },
    {
      "cell_type": "markdown",
      "source": [
        "## Analysis of categorical vs. numerical variables"
      ],
      "metadata": {
        "id": "-BiiCnIFLlLG"
      }
    },
    {
      "cell_type": "markdown",
      "source": [
        "### Tasks\n",
        "\n",
        "1. Work with the original dataset (containing both categorical and numeric variables).\n",
        "2. Explore the relationship between categorical variables and numeric variables:\n",
        "   * Create box plots of categorical vs. numerical variables for each variable (use `sns.boxenplot()`).\n",
        "3. (Optional) Create a violin plot of categorical vs. numerical variables for each variable (use `sns.violinplot()`).\n",
        "4. Create a line plot of `quality` vs. individual numerical variables.\n",
        "5. Describe what you found from the plots in tasks 2, 3, and 4.\n"
      ],
      "metadata": {
        "id": "CdZmNfTb8JHi"
      }
    },
    {
      "cell_type": "code",
      "source": [],
      "metadata": {
        "id": "OyXUwy2cqEdd"
      },
      "execution_count": null,
      "outputs": []
    },
    {
      "cell_type": "markdown",
      "source": [
        "# Prediction model\n",
        "\n",
        "In this section, you are going to train the perceptron model.\n",
        "\n",
        "The dataset is going to be split into two parts:\n",
        "1. **Train dataset** - This is the dataset on which the model is going to be trained.\n",
        "2. **Test dataset** - This is the set of data which the model 'has not seen yet' and it is used to test how well the model predicts wine `quality` with new data.\n",
        "\n",
        "The splitting is done randomly assigning data to Train and Test datasets. The split is as follows:\n",
        "1. 80% is assigned to the Train dataset.\n",
        "2. 20% is assigned to the Test dataset.\n",
        "\n",
        "On each iteration, Accuracy Score is calculated.\n",
        "\n",
        "**Accuracy Score** is defined as the ratio of the number of correct predictions to the total number of predictions made.\n",
        "\n",
        "Mathematically, it is given by:\n",
        "\n",
        "$$\n",
        "\\text{Accuracy} = \\frac{\\text{Number of Correct Predictions}}{\\text{Total Number of Predictions}}\n",
        "$$\n",
        "\n",
        "So if the accuracy is 1, this means that the model predicts the values exactly. In reality, accuracy = 1 is not achievable, so our goal is to have accuracy as high as possible."
      ],
      "metadata": {
        "id": "wIudm55_PmH_"
      }
    },
    {
      "cell_type": "markdown",
      "source": [
        "## Dependent variable imbalance\n",
        "\n",
        "We also need to handle the imbalanced dependent variable `quality` using the **Synthetic Minority Over-sampling Technique** (SMOTE).\n",
        "\n",
        "Imbalanced datasets occur when the number of instances in one class significantly outnumbers the instances in another class. This imbalance can lead to biased models that perform poorly on the smaller class. To address this issue, we use SMOTE to oversample (generate synthetic observations) the smaller class.\n",
        "\n",
        "**SMOTE** works by generating synthetic examples for the smaller class. It does this by selecting an instance from the smaller class and finding its k-nearest neighbors (5 closest observations). New synthetic example is then created which is similar to it's neighbors.\n"
      ],
      "metadata": {
        "id": "i6Ljvyp4d0HT"
      }
    },
    {
      "cell_type": "markdown",
      "source": [
        "### Tasks\n",
        "\n",
        "Create a perceptron based on the variables in the dataset for prediction of `quality` based on all other variables.\n",
        "\n",
        "1. Separate the dependent and independent variables:\n",
        "   * Name the independent variables dataframe `X`.\n",
        "   * Name the dependent variable `y`.\n",
        "2. Convert any categorical variable to `int`.\n",
        "3. In the analysis of the categorical variable, we found out that the `quality` variable is highly imbalanced. Use the following code to alleviate the issue:\n",
        "```python\n",
        "from imblearn.over_sampling import SMOTE\n",
        "# Initialize SMOTE with 5 nearest neighbors\n",
        "oversample = SMOTE(k_neighbors=5)\n",
        "# Fit and resample the dataset\n",
        "X_ros, y_ros = oversample.fit_resample(X, y)\n"
      ],
      "metadata": {
        "id": "H8TG96mZ-S10"
      }
    },
    {
      "cell_type": "markdown",
      "source": [
        "  4. Create a Train-Test split of the data with the Test dataset being 20% of the data.\n",
        "\n",
        "  ```python\n",
        "  from sklearn.model_selection import train_test_split\n",
        "\n",
        "  # Create Train-Test split\n",
        "  X_train, X_test, y_train, y_test = train_test_split(X_ros, y_ros, test_size=0.2, random_state=seed)\n"
      ],
      "metadata": {
        "id": "y0hYa_dharmY"
      }
    },
    {
      "cell_type": "markdown",
      "source": [
        "5. Preprocess the independent variables dataset (both Train and Test).\n",
        "\n",
        "6. Fit the perceptron model to the Train data and evaluate the accuracy on the Test data.\n",
        "  * Initialize it with learning rate saved to `learning_rate` variable and the number of epochs into `epoch_num`.\n"
      ],
      "metadata": {
        "id": "Rx4oWwPobisv"
      }
    },
    {
      "cell_type": "markdown",
      "source": [
        "### Hints\n",
        "\n",
        "1. Convert `bad wine` to 0 and `good wine` to 1.\n",
        "2. You can use `StandardScaler()` for data preprocessing.\n",
        "3. For accuracy testing, you can use `accuracy_score(y_test, y_pred)`.\n"
      ],
      "metadata": {
        "id": "rTOOJthUqNHZ"
      }
    },
    {
      "cell_type": "markdown",
      "source": [
        "## Testing model accuracy"
      ],
      "metadata": {
        "id": "BjjloKnRWuBa"
      }
    },
    {
      "cell_type": "markdown",
      "source": [
        "## DO NOT MODIFY THIS CODE!!!\n",
        "\n",
        "Just uncomment the code and run it after you are finished with the previous sections.\n"
      ],
      "metadata": {
        "id": "5z_b0APsBjP_"
      }
    },
    {
      "cell_type": "markdown",
      "source": [
        "In this section, the model you trained above is going to be evaluated using repeated random Train-Test dataset splitting.\n",
        "\n",
        "The splitting is done 1000 times, randomly assigning data to Train and Test datasets. The split is as follows:\n",
        "1. 80% is assigned to the Train dataset.\n",
        "2. 20% is assigned to the Test dataset.\n",
        "\n",
        "On each iteration, Accuracy Score is calculated.\n",
        "\n"
      ],
      "metadata": {
        "id": "SEzsA6fNBoVs"
      }
    },
    {
      "cell_type": "markdown",
      "source": [
        "### Tasks\n",
        "\n",
        "Run the code below and describe the results.\n",
        "\n",
        "How good is our model for the prediction of `quality` based on other variables?\n",
        "i.e. How accurate is your model in predicting the `quality`?\n"
      ],
      "metadata": {
        "id": "p8P11BzDD1kv"
      }
    },
    {
      "cell_type": "markdown",
      "source": [
        "### Hints\n",
        "\n",
        "It is crucial to name the independent variables dataset as `X_ros` and the dependent variable as `y_ros` after aplication of SMOTE  and learning rate into `learning_rate` and number of epochs into`epoch_num`f or the code below to function.\n"
      ],
      "metadata": {
        "id": "SbLAyhjNEIHi"
      }
    },
    {
      "cell_type": "code",
      "source": [
        "import numpy as np\n",
        "import pandas as pd\n",
        "import statistics\n",
        "import matplotlib.pyplot as plt\n",
        "from sklearn.model_selection import train_test_split\n",
        "from sklearn.metrics import accuracy_score\n",
        "\n",
        "# Store accuracy scores\n",
        "accuracy_scores = []\n",
        "\n",
        "# Repeated train-test split\n",
        "for repetition in range(num_repetitions):\n",
        "    # Split the dataset into training and testing sets\n",
        "    X_train, X_test, y_train, y_test = train_test_split(X_ros, y_ros, test_size=0.2, random_state=seed + repetition)\n",
        "\n",
        "    # Create a perceptron classifier\n",
        "    clf = Perceptron(eta0=learning_rate, max_iter=epoch_num, random_state=seed)  # eta0 is learning rate\n",
        "    # Train the perceptron classifier\n",
        "    clf.fit(X_train, y_train)\n",
        "\n",
        "    # Predict on the test data\n",
        "    y_pred = clf.predict(X_test)\n",
        "\n",
        "    # Calculate accuracy score on the testing set\n",
        "    accuracy = accuracy_score(y_test, y_pred)\n",
        "    accuracy_scores.append(accuracy)\n",
        "\n",
        "# Print the results\n",
        "print(\"Min. Accuracy Score:\", min(accuracy_scores))\n",
        "print(\"Max. Accuracy Score:\", max(accuracy_scores))\n",
        "print(\"Mean Accuracy Score:\", statistics.mean(accuracy_scores))\n",
        "print(\"Median Accuracy Score:\", statistics.median(accuracy_scores))\n",
        "\n",
        "# Plot the accuracy scores\n",
        "plt.plot(range(num_repetitions), accuracy_scores)\n",
        "plt.xlabel('Repetition')\n",
        "plt.ylabel('Accuracy Score')\n",
        "plt.title('Model Accuracy over 1000 Repetitions')\n",
        "plt.show()\n"
      ],
      "metadata": {
        "id": "1TWLNrZqWNmI",
        "colab": {
          "base_uri": "https://localhost:8080/",
          "height": 537
        },
        "outputId": "526ca2a9-8c6c-485b-adbe-a62515275319"
      },
      "execution_count": null,
      "outputs": [
        {
          "output_type": "stream",
          "name": "stdout",
          "text": [
            "Min. Accuracy Score: 0.8085106382978723\n",
            "Max. Accuracy Score: 0.9106382978723404\n",
            "Mean Accuracy Score: 0.8597404255319149\n",
            "Median Accuracy Score: 0.8595744680851064\n"
          ]
        },
        {
          "output_type": "display_data",
          "data": {
            "text/plain": [
              "<Figure size 640x480 with 1 Axes>"
            ],
            "image/png": "[encoded data removed]"
          },
          "metadata": {}
        }
      ]
    }
  ]
}