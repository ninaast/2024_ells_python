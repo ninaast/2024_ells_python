{
  "cells": [
    {
      "cell_type": "markdown",
      "metadata": {
        "id": "view-in-github",
        "colab_type": "text"
      },
      "source": [
        "<a href=\"https://colab.research.google.com/github/aleksejalex/2024_ells_python/blob/main/wednesday/06_wrk_plots_data.ipynb\" target=\"_parent\"><img src=\"https://colab.research.google.com/assets/colab-badge.svg\" alt=\"Open In Colab\"/></a>"
      ]
    },
    {
      "cell_type": "markdown",
      "metadata": {
        "id": "Z2CinFVmQ7zA"
      },
      "source": [
        "# ELLS - Practical Introduction into Programming with Python\n",
        "\n",
        "<a href=\"https://pef.czu.cz/en/\"><img src=\"https://aleksejalex.4fan.cz/ells/temp_banner.jpeg?22\" alt=\"banner\" width=\"1000\"></a>\n",
        "\n",
        "\n",
        "\n"
      ]
    },
    {
      "cell_type": "markdown",
      "metadata": {
        "id": "lIW9Siv0RDRx"
      },
      "source": [
        "[GitHub Repository](https://github.com/)\n",
        "\n",
        "[Project's website](https://kii.pef.czu.cz/ells-2024)"
      ]
    },
    {
      "cell_type": "markdown",
      "metadata": {
        "id": "YlwLGKWZRiNa"
      },
      "source": [
        "## Load \"Predicting Manufacturing Defects Dataset\" dataset"
      ]
    },
    {
      "cell_type": "code",
      "execution_count": null,
      "metadata": {
        "id": "YxKSKhTmbn4g"
      },
      "outputs": [],
      "source": [
        "# your code goes here..."
      ]
    },
    {
      "cell_type": "markdown",
      "metadata": {
        "id": "eHUMLGwKRikC"
      },
      "source": [
        "## Write First 40 rows"
      ]
    },
    {
      "cell_type": "code",
      "execution_count": null,
      "metadata": {
        "id": "5GCwzNrwRc2B"
      },
      "outputs": [],
      "source": [
        "# your code goes here..."
      ]
    },
    {
      "cell_type": "markdown",
      "metadata": {
        "id": "Gcu6wMN9Riwp"
      },
      "source": [
        "## Write random 32 rows"
      ]
    },
    {
      "cell_type": "code",
      "execution_count": null,
      "metadata": {
        "id": "RYExBUd2evYQ"
      },
      "outputs": [],
      "source": [
        "# your code goes here..."
      ]
    },
    {
      "cell_type": "markdown",
      "metadata": {
        "id": "AYs2LQOoRiz7"
      },
      "source": [
        "## Write Last 15 rows"
      ]
    },
    {
      "cell_type": "code",
      "execution_count": 1,
      "metadata": {
        "id": "MaIHfVJLerZA"
      },
      "outputs": [],
      "source": [
        "# your code goes here..."
      ]
    },
    {
      "cell_type": "markdown",
      "metadata": {
        "id": "y4Kds5jcRinV"
      },
      "source": [
        "##View info statistics"
      ]
    },
    {
      "cell_type": "code",
      "execution_count": null,
      "metadata": {
        "id": "ksrq8MU2eqbz"
      },
      "outputs": [],
      "source": [
        "# your code goes here..."
      ]
    },
    {
      "cell_type": "markdown",
      "metadata": {
        "id": "8eefqGs5fAfl"
      },
      "source": [
        "## View describtion statistics des"
      ]
    },
    {
      "cell_type": "code",
      "execution_count": null,
      "metadata": {
        "id": "rt_3YFr9fP6N"
      },
      "outputs": [],
      "source": [
        "# your code goes here..."
      ]
    },
    {
      "cell_type": "markdown",
      "metadata": {
        "id": "Ywj7aWw67Lnp"
      },
      "source": [
        "## View describtion statistics only from AdditiveMaterialCost, MaintenanceHours, SafetyIncidents"
      ]
    },
    {
      "cell_type": "code",
      "execution_count": null,
      "metadata": {
        "id": "v92YqSBf7Ln0"
      },
      "outputs": [],
      "source": [
        "# your code goes here..."
      ]
    },
    {
      "cell_type": "markdown",
      "metadata": {
        "id": "SvmYkg16Riqd"
      },
      "source": [
        "\n",
        "##View recommended plots\n"
      ]
    },
    {
      "cell_type": "code",
      "execution_count": null,
      "metadata": {
        "id": "UzDgXbZceH47"
      },
      "outputs": [],
      "source": [
        "df"
      ]
    },
    {
      "cell_type": "markdown",
      "metadata": {
        "id": "xJBsEYLgnOvz"
      },
      "source": [
        "## Remove not available"
      ]
    },
    {
      "cell_type": "markdown",
      "metadata": {
        "id": "cpAHbU54nVGz"
      },
      "source": [
        "Not any.."
      ]
    },
    {
      "cell_type": "code",
      "execution_count": null,
      "metadata": {
        "id": "h7KifDGsnNj4"
      },
      "outputs": [],
      "source": [
        "# your code goes here..."
      ]
    },
    {
      "cell_type": "markdown",
      "metadata": {
        "id": "jL6yy2f1fYX9"
      },
      "source": [
        "## Convert \"WorkerProductivity\" into whole numbers"
      ]
    },
    {
      "cell_type": "code",
      "execution_count": null,
      "metadata": {
        "id": "_n7PqAVBgRdU"
      },
      "outputs": [],
      "source": [
        "# your code goes here..."
      ]
    },
    {
      "cell_type": "markdown",
      "metadata": {
        "id": "FXKVHGw0h_i7"
      },
      "source": [
        "## Round \"WorkerProductivity\" into to 2 decimals\n"
      ]
    },
    {
      "cell_type": "code",
      "execution_count": null,
      "metadata": {
        "id": "5n3xpZFGgRnu"
      },
      "outputs": [],
      "source": [
        "# your code goes here..."
      ]
    },
    {
      "cell_type": "markdown",
      "metadata": {
        "id": "63QAwJ-rjH7v"
      },
      "source": [
        "## President election in USA created unstable situation on FOREX market. Firms main supplier is from USA. Dollar was weakened by 10 %. Our currency is €. What is affected?"
      ]
    },
    {
      "cell_type": "markdown",
      "metadata": {
        "id": "pxMgHLjfmCkT"
      },
      "source": [
        "###President election in USA created unstable situation on FOREX market. Firms main **supplier** is from USA. **Dollar** was **weakened** by **10 %.** Our currency is €. What is affected? How?"
      ]
    },
    {
      "cell_type": "markdown",
      "metadata": {
        "id": "bJepF21JlMgN"
      },
      "source": [
        "Dollar was weakened = our benefit = decrease in cost\n",
        "1 dollar = 1 € => 1 dollar = 0,9 €\n",
        "\n",
        "Affected = AdditiveMaterialCost\n",
        "\n"
      ]
    },
    {
      "cell_type": "code",
      "execution_count": null,
      "metadata": {
        "id": "9l8zJWCCgRxw"
      },
      "outputs": [],
      "source": [
        "# your code goes here..."
      ]
    },
    {
      "cell_type": "markdown",
      "metadata": {
        "id": "hkpqo_qH_fsC"
      },
      "source": [
        "## Short values of WorkerProductivity in ascending order"
      ]
    },
    {
      "cell_type": "code",
      "execution_count": null,
      "metadata": {
        "id": "FmJ4ININ_kYG"
      },
      "outputs": [],
      "source": [
        "# your code goes here..."
      ]
    },
    {
      "cell_type": "markdown",
      "metadata": {
        "id": "KX7ID2AaAv8U"
      },
      "source": [
        "## What is the minimum value of SupplierQuality\n",
        "\n",
        "\n"
      ]
    },
    {
      "cell_type": "code",
      "execution_count": null,
      "metadata": {
        "id": "N--g-upvA_Ia"
      },
      "outputs": [],
      "source": [
        "# your code goes here..."
      ]
    },
    {
      "cell_type": "markdown",
      "metadata": {
        "id": "ZVXYagpYAwYN"
      },
      "source": [
        "## Make pivot table of your choice use reasonable aggfunc"
      ]
    },
    {
      "cell_type": "code",
      "execution_count": null,
      "metadata": {
        "id": "DHnOwr6IC0PX"
      },
      "outputs": [],
      "source": [
        "# your code goes here..."
      ]
    },
    {
      "cell_type": "markdown",
      "metadata": {
        "id": "bYYY4qo-Awa2"
      },
      "source": [
        "## Show outliners of ProductionCost\n"
      ]
    },
    {
      "cell_type": "code",
      "execution_count": null,
      "metadata": {
        "id": "47vwLgoTEnrN"
      },
      "outputs": [],
      "source": [
        "# your code goes here..."
      ]
    },
    {
      "cell_type": "markdown",
      "metadata": {
        "id": "2L_5VXuSAwmo"
      },
      "source": [
        "##Show scatter matrix"
      ]
    },
    {
      "cell_type": "code",
      "execution_count": null,
      "metadata": {
        "id": "Jpjj8yLdFXuF"
      },
      "outputs": [],
      "source": [
        "# your code goes here..."
      ]
    },
    {
      "cell_type": "markdown",
      "metadata": {
        "id": "sw4SKUvrAwsr"
      },
      "source": [
        "## Insert new variable (HighEnCom) which shows if energy consumption is high or not\n",
        "High consumption means greater than 75 % of all values"
      ]
    },
    {
      "cell_type": "code",
      "execution_count": null,
      "metadata": {
        "id": "GWp_2wP8K54A"
      },
      "outputs": [],
      "source": [
        "# your code goes here..."
      ]
    },
    {
      "cell_type": "markdown",
      "metadata": {
        "id": "J4el70lpFXFM"
      },
      "source": [
        "## Show scatter plot of ProductionVolume and ProductionCost"
      ]
    },
    {
      "cell_type": "code",
      "execution_count": null,
      "metadata": {
        "id": "6vT9S1M0MC0B"
      },
      "outputs": [],
      "source": [
        "# your code goes here..."
      ]
    },
    {
      "cell_type": "markdown",
      "metadata": {
        "id": "jAsYty15Shcq"
      },
      "source": [
        "## Create Histogram with title and axis describtion"
      ]
    },
    {
      "cell_type": "code",
      "execution_count": null,
      "metadata": {
        "id": "4oLxrekeSjsv"
      },
      "outputs": [],
      "source": [
        "# your code goes here..."
      ]
    },
    {
      "cell_type": "markdown",
      "metadata": {
        "id": "2w7SJEXyHAxr"
      },
      "source": [
        "##Create histogram for DefectStatus"
      ]
    },
    {
      "cell_type": "code",
      "execution_count": null,
      "metadata": {
        "id": "m60rmAPBHBLh"
      },
      "outputs": [],
      "source": [
        "# your code goes here..."
      ]
    },
    {
      "cell_type": "markdown",
      "metadata": {
        "id": "_iV_mSqyShZT"
      },
      "source": [
        "## Create boxplot for ProductionCost and use hue attribute (seaborn) REASONABLY"
      ]
    },
    {
      "cell_type": "code",
      "execution_count": null,
      "metadata": {
        "id": "B8FuIXxvElYq"
      },
      "outputs": [],
      "source": [
        "# your code goes here..."
      ]
    },
    {
      "cell_type": "markdown",
      "metadata": {
        "id": "BiSXXypTShWc"
      },
      "source": [
        "## Histogram with KDE vizualization"
      ]
    },
    {
      "cell_type": "code",
      "execution_count": null,
      "metadata": {
        "id": "UcgX_oTtIrgl"
      },
      "outputs": [],
      "source": [
        "# your code goes here..."
      ]
    },
    {
      "cell_type": "markdown",
      "metadata": {
        "id": "bYI39ACcShTU"
      },
      "source": []
    },
    {
      "cell_type": "markdown",
      "metadata": {
        "id": "ZRHwfQVJShJQ"
      },
      "source": []
    },
    {
      "cell_type": "markdown",
      "metadata": {
        "id": "TUQz91lfAwpB"
      },
      "source": [
        "## Show radviz plot of\n",
        "DowntimePercentage\tInventoryTurnover\tStockoutRate\tWorkerProductivity\tSafetyIncidents\n",
        "\n",
        "Seperate by DefectStatus and reasonable color\n",
        "\n",
        "Then change DowntimePercentage to EnergyConsumption"
      ]
    },
    {
      "cell_type": "code",
      "execution_count": null,
      "metadata": {
        "colab": {
          "base_uri": "https://localhost:8080/",
          "height": 447
        },
        "id": "fmFP1BSkINDs",
        "outputId": "99d1de94-42de-47bf-982f-67bf44023c66"
      },
      "outputs": [
        {
          "data": {
            "text/plain": [
              "<Axes: >"
            ]
          },
          "execution_count": 32,
          "metadata": {},
          "output_type": "execute_result"
        },
        {
          "data": {
            "image/png": "[encoded data removed]",
            "text/plain": [
              "<Figure size 640x480 with 1 Axes>"
            ]
          },
          "metadata": {},
          "output_type": "display_data"
        }
      ],
      "source": [
        "pd.plotting.radviz(df[['EnergyConsumption', 'InventoryTurnover', 'StockoutRate', 'WorkerProductivity', 'SafetyIncidents','DefectStatus']], 'DefectStatus', color =['blue', 'red'])"
      ]
    },
    {
      "cell_type": "markdown",
      "metadata": {
        "id": "Uh66pNTb75hX"
      },
      "source": [
        "<div style=\"font-style: italic; font-size: 14px;\">\n",
        "    <p>This material was prepared by Department of Information Engineering (<a href=\"https://www.pef.czu.cz/en\">PEF ČZU</a>) exclusively for purposes of ELLS summer school \"Practical Introduction into Programming with Python\". Any distribution or reproduction of this material, in whole or in part, without prior written consent of the authors is prohibited.</p>\n",
        "    <p>This material is shared under the <b>Creative Commons Attribution-NonCommercial-NoDerivatives 4.0 International Public License</b>, <a href=\"https://creativecommons.org/licenses/by-nc-nd/4.0/\">link</a>.</p>\n",
        "</div>\n"
      ]
    },
    {
      "cell_type": "markdown",
      "metadata": {
        "id": "xi75Swzs75hY"
      },
      "source": []
    }
  ],
  "metadata": {
    "colab": {
      "collapsed_sections": [
        "eHUMLGwKRikC",
        "Gcu6wMN9Riwp",
        "AYs2LQOoRiz7",
        "y4Kds5jcRinV",
        "xJBsEYLgnOvz",
        "jL6yy2f1fYX9",
        "FXKVHGw0h_i7",
        "63QAwJ-rjH7v",
        "KX7ID2AaAv8U",
        "bYYY4qo-Awa2",
        "2L_5VXuSAwmo",
        "TUQz91lfAwpB"
      ],
      "provenance": [],
      "include_colab_link": true
    },
    "kernelspec": {
      "display_name": "Python 3",
      "name": "python3"
    },
    "language_info": {
      "codemirror_mode": {
        "name": "ipython",
        "version": 3
      },
      "file_extension": ".py",
      "mimetype": "text/x-python",
      "name": "python",
      "nbconvert_exporter": "python",
      "pygments_lexer": "ipython3",
      "version": "3.12.2"
    }
  },
  "nbformat": 4,
  "nbformat_minor": 0
}