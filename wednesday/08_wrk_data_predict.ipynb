{
  "cells": [
    {
      "cell_type": "markdown",
      "metadata": {
        "id": "view-in-github",
        "colab_type": "text"
      },
      "source": [
        "<a href=\"https://colab.research.google.com/github/aleksejalex/2024_ells_python/blob/main/wednesday/08_wrk_data_predict.ipynb\" target=\"_parent\"><img src=\"https://colab.research.google.com/assets/colab-badge.svg\" alt=\"Open In Colab\"/></a>"
      ]
    },
    {
      "cell_type": "markdown",
      "metadata": {
        "id": "pRbDDh0Uf25z"
      },
      "source": [
        "# ELLS - Practical Introduction into Programming with Python\n",
        "\n",
        "<a href=\"https://pef.czu.cz/en/\"><img src=\"https://aleksejalex.4fan.cz/ells/temp_banner.jpeg?22\" alt=\"banner\" width=\"1000\"></a>\n",
        "\n",
        "\n",
        "\n"
      ]
    },
    {
      "cell_type": "markdown",
      "metadata": {
        "id": "LQsAPgdUvpSd"
      },
      "source": [
        "[GitHub Repository](https://github.com/aleksejalex/2024_ells_python)\n"
      ]
    },
    {
      "cell_type": "markdown",
      "metadata": {
        "id": "HRoCPFdVjWnR"
      },
      "source": [
        "Plan for this lecture:\n",
        " - practice regression examples using python"
      ]
    },
    {
      "cell_type": "markdown",
      "source": [
        "## Exercise 1:\n",
        "**Task**: Upload the data and examinate the first 5 rows of the dataset.\n",
        "```\n",
        "URL to dataset: https://gist.githubusercontent.com/Alzpeta/c34c4959c7a10f7c70c0c93d102a4646/raw/41a9f1bbaae4a48cad668e7044f763c77a992116/gistfile3.txt\n",
        "```"
      ],
      "metadata": {
        "id": "83npzeqDEq6D"
      }
    },
    {
      "cell_type": "code",
      "source": [
        "# your code goes here..."
      ],
      "metadata": {
        "id": "ZCUPUmIYFyLW"
      },
      "execution_count": 1,
      "outputs": []
    },
    {
      "cell_type": "markdown",
      "source": [
        "## Exercise 2:\n",
        "**Task**: Find out whether the variable \"Hours Studied\" or \"Sleep Hours\" has\n",
        "\n",
        "*   larger mean\n",
        "*   larger standard deviation\n",
        "\n",
        "**Task**: What was the highest and lowest Performance Index. Construct a histogram plot for this variable\n"
      ],
      "metadata": {
        "id": "TxooorRKH3WX"
      }
    },
    {
      "cell_type": "code",
      "source": [
        "# your code goes here..."
      ],
      "metadata": {
        "id": "VdSHI1gMIVUm"
      },
      "execution_count": 2,
      "outputs": []
    },
    {
      "cell_type": "markdown",
      "source": [
        "## Exercise 3\n",
        "**Task**: Find the linear regression equation for the variables performance index and previous scores.The variable **previous scores** is the independent variable ($X$) and the variable **performance index** is the dependent variable ($Y$)\n",
        "\n",
        "\n",
        "1.   Use a scatter plot to plot the relationship between these variables and determine whether a linear regression is appropriate here\n",
        "2.   Use the NumPy library to specify the intercept and the slope\n",
        "3. Find out what the performence index would be if the previous score was **67**\n",
        "\n"
      ],
      "metadata": {
        "id": "j9zlJYubJbnM"
      }
    },
    {
      "cell_type": "code",
      "source": [
        "# your code goes here..."
      ],
      "metadata": {
        "id": "4bB_walLSJcR"
      },
      "execution_count": 3,
      "outputs": []
    },
    {
      "cell_type": "markdown",
      "source": [
        "## Exercise 4\n",
        "**Task**: Calculate again the linear regression, this time using the Stastmodels library."
      ],
      "metadata": {
        "id": "ZC2wuvaeS7r1"
      }
    },
    {
      "cell_type": "code",
      "source": [
        "# your code goes here..."
      ],
      "metadata": {
        "id": "Lsxw3lLsZiDI"
      },
      "execution_count": 4,
      "outputs": []
    },
    {
      "cell_type": "markdown",
      "source": [
        "## Exercise 5\n",
        "\n",
        "**Task**: there is one variable in the dataset that is not numeric. Convert it into numerical form so it can be use for calculations\n",
        "\n",
        "\n",
        "<details>\n",
        "    <summary>Hint</summary>\n",
        "    <i>The Extracurricular Activities variable has only two options - Yes / No. For example, you can use 1 to represent \"Yes\" and 0 to represent \"No\". Due to the high number of records in the dataset, do not do this conversion manually, but try to use some loop</i>\n",
        "</details>\n",
        "\n",
        "\n",
        "\n",
        "\n"
      ],
      "metadata": {
        "id": "UNFl-q_mUwfS"
      }
    },
    {
      "cell_type": "code",
      "source": [
        "# your code goes here..."
      ],
      "metadata": {
        "id": "0eDTJjqqVBD7"
      },
      "execution_count": 5,
      "outputs": []
    },
    {
      "cell_type": "markdown",
      "source": [
        "## Exercise 6\n",
        "\n",
        "**Task**: Perform a multiple regression. The dependent variable is still the **Performance Index**. Add the variables **Extracurricular Activities** and **Sample Question Papers Practiced** to the independent variable **Previous Scores**.\n",
        "Compare how the coefficient of determination changes from the previous simple linear regression"
      ],
      "metadata": {
        "id": "YgtKB_QNVMV_"
      }
    },
    {
      "cell_type": "code",
      "source": [
        "# your code goes here..."
      ],
      "metadata": {
        "id": "zGyBnKPCbJZg"
      },
      "execution_count": 6,
      "outputs": []
    },
    {
      "cell_type": "markdown",
      "source": [
        "## Exercise 7\n",
        "**Task**: From the table in Exercise 6, read all the parameters needed for the regression equation. Predict the variable Performence Index if\n",
        "\n",
        "\n",
        "*   Sample Question Papers Practiced = 10\n",
        "*   Previsou Score = 67\n",
        "*   Extracurricular Activities = Yes\n",
        "\n",
        "Compare this prediction with the prediction from exercise 3, where only the previous score influenced the performance pndex\n",
        "\n",
        "\n",
        "\n"
      ],
      "metadata": {
        "id": "VVMibrRIWITf"
      }
    },
    {
      "cell_type": "code",
      "source": [
        "# your code goes here..."
      ],
      "metadata": {
        "id": "NExXU1fpbX7Q"
      },
      "execution_count": 7,
      "outputs": []
    },
    {
      "cell_type": "markdown",
      "metadata": {
        "id": "ObAKPgeNcZ9e"
      },
      "source": [
        "<div style=\"font-style: italic; font-size: 14px;\">\n",
        "    <p>This material was prepared by Department of Information Engineering (<a href=\"https://www.pef.czu.cz/en\">PEF ČZU</a>) exclusively for purposes of ELLS summer school \"Practical Introduction into Programming with Python\". Any distribution or reproduction of this material, in whole or in part, without prior written consent of the authors is prohibited.</p>\n",
        "    <p>This material is shared under the <b>Creative Commons Attribution-NonCommercial-NoDerivatives 4.0 International Public License</b>, <a href=\"https://creativecommons.org/licenses/by-nc-nd/4.0/\">link</a>.</p>\n",
        "</div>\n"
      ]
    }
  ],
  "metadata": {
    "colab": {
      "provenance": [],
      "include_colab_link": true
    },
    "kernelspec": {
      "display_name": "Python 3",
      "name": "python3"
    },
    "language_info": {
      "codemirror_mode": {
        "name": "ipython",
        "version": 3
      },
      "file_extension": ".py",
      "mimetype": "text/x-python",
      "name": "python",
      "nbconvert_exporter": "python",
      "pygments_lexer": "ipython3",
      "version": "3.12.2"
    }
  },
  "nbformat": 4,
  "nbformat_minor": 0
}